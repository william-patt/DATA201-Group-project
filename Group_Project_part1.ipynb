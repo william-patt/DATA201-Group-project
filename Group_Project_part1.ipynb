{
 "cells": [
  {
   "cell_type": "markdown",
   "metadata": {},
   "source": [
    "# Data 201/422 Group Assignment"
   ]
  },
  {
   "cell_type": "markdown",
   "metadata": {},
   "source": [
    "### Calendar\n",
    "\n",
    "| Step | When? | What?|\n",
    "|-------|------|-----|\n",
    "| 1 | 20 / 21 Sep | Launch |\n",
    "| 2 | 4 / 5 October | Feedback Session |\n",
    "| 3 | 12 / 13 October | Group Work and QA |\n",
    "| 4 | 18 / 19 October | Group Presentations |\n",
    "| 5 | 21 October, 12:00 pm | Deliverable Due Date |"
   ]
  },
  {
   "cell_type": "markdown",
   "metadata": {},
   "source": [
    "### Goals\n",
    "\n",
    "Your goals as a team are to:  \n",
    "1. identify interesting data sources to work on;\n",
    "2. wrangle the data sources into a suitable target data model;\n",
    "3. present the data to a larger audience.  \n",
    "\n",
    "Throughout the project, you should aim to exhibit that you can apply what we learnt in the class (and so some R coding in 201, and some R and Julia coding if in 422)"
   ]
  },
  {
   "cell_type": "markdown",
   "metadata": {},
   "source": [
    "### Deliverable\n",
    "\n",
    "The deliverable that we ask you to submit by the end of the group work (21 October, midday) is a compressed folder (a zipped folder) containing:\n",
    "\n",
    "1. A project report. The report should clearly describe:\n",
    "   1. what data sources you used\n",
    "   2. why you chose those data sources\n",
    "   3. what target you chose (i.e., what is the intended use of the data, ...)\n",
    "   4. what difficulties you had to overcome to wrangle the data sources into the target data model\n",
    "   5. what techniques you did use\n",
    "   6. what you managed to achieve and what you failed to do\n",
    "2. A project diary: every day you work on the project, take a detailed note of who-did-what in a text file. Even when you work by yourself, take note of what you did and then report that into the group diary\n",
    "3. Slides or any other material for the data presentation\n",
    "4. Jupyter notebooks with all the code you wrote to do the various wrangling tasks, well documented and commented. If you use more than one Jupyter notebook, you should also include a document explaining how the notebooks are linked (i.e., in which sequence should we run the notebooks to reproduce your analysis, what do they perform, ...)\n",
    "5. The data you produced, or a link to access the data you produced, and all the relevant documentation for us to access and understand the data. If we can access the data with the information you give us, we consider that a non-submission.\n",
    "\n",
    "All documents must be either in .pdf, markdown or jupyter notebooks; absolutely no word documents or similar proprietary formats."
   ]
  },
  {
   "cell_type": "markdown",
   "metadata": {},
   "source": [
    "### Steps:\n",
    "\n",
    "Working in group on a data science project is a skill in itself.  \n",
    "In the labs from here to the end of the course we are suggesting you one way to structure your work.\n",
    "You are highly encouraged to find some time to work together as a group during the next weeks: in my experience, new teams needs to be sitting in the same room to keep their efforts coordinated.\n",
    "\n",
    "Also, this may be the right time to try and get used to some version control and team management workflows/software. My suggestion is to use github (a very short introduction [here](https://guides.github.com/activities/hello-world/) ) or gitlab (a more comprehensive introduction [here](https://docs.gitlab.com/ee/gitlab-basics/README.html) ). This are standards in industry, and learning them is surely worth the effort. If you decide to go down this road, we can help you :-)\n",
    "\n",
    "**More detailed information for steps after 1. are offered closer to the step time**\n",
    "\n",
    "#### 1. Launch\n",
    "\n",
    "This is the phase of exploration and prototyping.\n",
    "\n",
    "###### Exploration\n",
    "\n",
    "As a team, you need to identify _good_ set of data sources. A _good_ datasource for this projects is a source of data that:  \n",
    "1. you can read and handle, or learn to read and handle in a very short time. Formats that are too exotique may be very interesting, but they may also require a too long time to import into anything familiar to you. To be fair, most of the datasets you can find in the sources we suggest you are in a good format. _pro tip_: avoid data presented in pdf tables, unless you are ready to do a lot of hand work (if you do, it's great).\n",
    "2. it is not already in the most suitable data model. If the source dataset is already perfect, there's little you can do and you won't have the opportunity to exhibit your skills. Government or NGO data is usually quite dirty, so they represent good choices.\n",
    "3. it is _interesting_ for you. I don't have a strong interest in cars, and for me working a month on car data set would be a boring hell. But maybe you LOVE cars, than that dataset would be perfect for you. Try to consider your passions, or look at the news to see what may be a hot topic. Avoid abused datasets (i.e., _iris_ or _mtcars_ or _titanic_ or ...): we have already seen all possible projects about that stuff.\n",
    "4. it is _joined_ or _joinable_ to other data sources. Consider the presence of common identifiers (things as: region names, product ids, years or dates, ...) that you may use to connect two or more data sources and tell a story (great data stories often emerge from connections).\n",
    "\n",
    "###### Prototyping\n",
    "\n",
    "You won't find the best data sources at the first go.\n",
    "\n",
    "Once you have identified a candidate set of data sources, try and write down what use you want to make of it. A good way is to try and write down some question you would like to answer with the data sources (good questions are question that do require some wrangling and cannot be simply answered using only one of the data sources).\n",
    "\n",
    "After that, **prototype** your data wrangling: you may decide to work on a limited subset of data to see you can quickly write some code to get closer to answering your questions. The code does not need to be perfect, nor the questions need to be answered at this stage. Yet, if the questions look to easy or too hard consider (1) changing question, or (2) changing data sources and questions.\n",
    "\n",
    "Fail fast, fail often. Trying and hitting a wall as soon as possible you can avoid to find yourself stuck at the mid of your project.\n",
    "\n",
    "#### 2. Feedback Session\n",
    "\n",
    "A feedback session is a collaborative effort between 2 groups.\n",
    "\n",
    "In the first hour, group A will expose its sources, targets, work done and future plans to group B. Group B gives feedback about all the phases: they can suggest slightly improved questions, point toward possible weakness in the methodology (for example, data contamination risks, ...), rise ethical questions, and suggest solutions to problems group A is facing. After the first hour, groups swap roles.\n",
    "\n",
    "#### 3. Q and A\n",
    "\n",
    "Two hours of allocated time for group work with Giulio, Thomas and Phil present to help you out if you have questions or doubts.\n",
    "\n",
    "#### 4. Presentations\n",
    "\n",
    "Impress us! Tell us what you have done, and what is interesting in the data you wrangled. What wonderful very distant data sets you managed to get together and clean and make sense of. Tell us how the data model you shaped your data into allows for other data scientists to work on that data. Use animation, visualization and your best communication skills.\n",
    "\n",
    "Presentation times 7 minutes + 1 minute for Q&A from the audience.\n",
    "\n",
    "Presentation are marked separetely, and are worth 10% of the course final grade."
   ]
  },
  {
   "cell_type": "markdown",
   "metadata": {},
   "source": [
    "### Suggested data sources\n",
    "\n",
    "There's no hard boundary: if you do identify a data source we did not think about, even better.\n",
    "\n",
    "Our data repositories suggestions are:\n",
    "\n",
    "1. https://data.govt.nz/ : a large repository of New Zealand Governmental Datasets, in various formats, most of local interest.\n",
    "2. http://www.who.int/gho/en/ : a database of information from the World Health Organization, of global interest.\n",
    "3. http://data.un.org/ : a collection of databases from the United Nations, of global interest.\n",
    "4. https://www.google.com/publicdata/directory : a directory of public data from Google.\n",
    "\n",
    "\n",
    "Google offers (a beta version of) a search engine for finding datasets: https://toolbox.google.com/datasetsearch"
   ]
  },
  {
   "cell_type": "markdown",
   "metadata": {},
   "source": [
    "## Marks and policy\n",
    "\n",
    "The group project is worth 40% of the final course grade.\n",
    "\n",
    "We will evaluate the delivarable you submit. Out of 40 marks:\n",
    "\n",
    "1. Project report: 15 marks (1 for writing, 1 for visualization, 1 for clearness in the report, 5 for suitability of the target data model, 7 for depth and extension of the project)\n",
    "2. Project diary: 5 marks (2 for detail, 2 for presentation, and 1 for rigorous keeping)\n",
    "3. Presentation material: no marks (presentation are evaluated separetely)\n",
    "4. Code Notebooks: 15 marks (10 for code quality and skills, 5 for documentation quality)\n",
    "5. Final Data and Documentation: 5 marks (2 for the data availability, 3 for the quality of documentation)\n",
    "\n",
    "Bonus points may be given for use of github or other special efforts.\n",
    "\n",
    "**Data 422 students**: notice that some Julia code is required if you want to get the full marks for the code notebooks and the depth and extension of the project. Try to identify a task that you can do with Julia.\n",
    "\n",
    "Late submission are highy discouraged. You have a month of time to get your project together, if you find yourself short in time for very serious problems let me know and we'll find a solution. Otherwise, if not agreed differently between me (Giulio) and you, the standard departmental late submission policy will be applied."
   ]
  },
  {
   "cell_type": "markdown",
   "metadata": {},
   "source": [
    "## Final note\n",
    "\n",
    "**This document may be updated during the month of the group project in order to provide more detailed information, if and where needed**"
   ]
  },
  {
   "cell_type": "code",
   "execution_count": 10,
   "metadata": {},
   "outputs": [],
   "source": [
    "#install packages\n",
    "#install.packages(\"tidyverse\")\n",
    "\n",
    "#loading tidyverse package\n",
    "library(tidyverse)"
   ]
  },
  {
   "cell_type": "code",
   "execution_count": 11,
   "metadata": {},
   "outputs": [],
   "source": [
    "#install packages\n",
    "#install.packages(\"readxl\")\n",
    "\n",
    "#loading readxl to read \"xlsx\" data\n",
    "library(readxl)"
   ]
  },
  {
   "cell_type": "markdown",
   "metadata": {},
   "source": [
    "# Vehicle Population"
   ]
  },
  {
   "cell_type": "code",
   "execution_count": 12,
   "metadata": {},
   "outputs": [
    {
     "data": {
      "text/html": [
       "<table>\n",
       "<thead><tr><th scope=col>Period</th><th scope=col>Light passenger</th><th scope=col>Light commercial</th><th scope=col>Trucks</th><th scope=col>Bus</th><th scope=col>Other</th><th scope=col>Total</th><th scope=col>Light passenger__1</th><th scope=col>Light commercial__1</th><th scope=col>Trucks__1</th><th scope=col>Bus__1</th><th scope=col>Overall</th><th scope=col>Light passenger per 1000 popn</th><th scope=col>Light commercial per 1000 popn</th></tr></thead>\n",
       "<tbody>\n",
       "\t<tr><td>2000       </td><td>2147723    </td><td>347206     </td><td> 95575     </td><td>4640       </td><td>12326      </td><td>2685414    </td><td>        NA </td><td>         NA</td><td>        NA </td><td>        NA </td><td>        NA </td><td>556.7222   </td><td>90.00104   </td></tr>\n",
       "\t<tr><td>2001       </td><td>2213694    </td><td>349773     </td><td> 97764     </td><td>4962       </td><td>12526      </td><td>2757190    </td><td>0.03071672 </td><td>0.007393305</td><td>0.02290348 </td><td>0.06939655 </td><td>0.01622586 </td><td>570.4662   </td><td>90.13606   </td></tr>\n",
       "\t<tr><td>2002       </td><td>2292381    </td><td>355373     </td><td>101532     </td><td>5417       </td><td>13139      </td><td>2847817    </td><td>0.06735412 </td><td>0.023522059</td><td>0.06232801 </td><td>0.16745690 </td><td>0.06595814 </td><td>580.5701   </td><td>90.00203   </td></tr>\n",
       "\t<tr><td>2003       </td><td>2395163    </td><td>364051     </td><td>106665     </td><td>5841       </td><td>13777      </td><td>2968279    </td><td>0.11521039 </td><td>0.048515867</td><td>0.11603453 </td><td>0.25883621 </td><td>0.11771864 </td><td>594.7465   </td><td>90.39804   </td></tr>\n",
       "\t<tr><td>2004       </td><td>2490925    </td><td>375790     </td><td>113522     </td><td>6317       </td><td>14429      </td><td>3088617    </td><td>0.15979807 </td><td>0.082325766</td><td>0.18777923 </td><td>0.36142241 </td><td>0.17061496 </td><td>609.4006   </td><td>91.93639   </td></tr>\n",
       "\t<tr><td>2005       </td><td>2578662    </td><td>388223     </td><td>119559     </td><td>6697       </td><td>15043      </td><td>3204735    </td><td>0.20064925 </td><td>0.118134479</td><td>0.25094428 </td><td>0.44331897 </td><td>0.22042836 </td><td>623.7843   </td><td>93.91204   </td></tr>\n",
       "</tbody>\n",
       "</table>\n"
      ],
      "text/latex": [
       "\\begin{tabular}{r|llllllllllllll}\n",
       " Period & Light passenger & Light commercial & Trucks & Bus & Other & Total & Light passenger\\_\\_1 & Light commercial\\_\\_1 & Trucks\\_\\_1 & Bus\\_\\_1 & Overall & Light passenger per 1000 popn & Light commercial per 1000 popn\\\\\n",
       "\\hline\n",
       "\t 2000        & 2147723     & 347206      &  95575      & 4640        & 12326       & 2685414     &         NA  &          NA &         NA  &         NA  &         NA  & 556.7222    & 90.00104   \\\\\n",
       "\t 2001        & 2213694     & 349773      &  97764      & 4962        & 12526       & 2757190     & 0.03071672  & 0.007393305 & 0.02290348  & 0.06939655  & 0.01622586  & 570.4662    & 90.13606   \\\\\n",
       "\t 2002        & 2292381     & 355373      & 101532      & 5417        & 13139       & 2847817     & 0.06735412  & 0.023522059 & 0.06232801  & 0.16745690  & 0.06595814  & 580.5701    & 90.00203   \\\\\n",
       "\t 2003        & 2395163     & 364051      & 106665      & 5841        & 13777       & 2968279     & 0.11521039  & 0.048515867 & 0.11603453  & 0.25883621  & 0.11771864  & 594.7465    & 90.39804   \\\\\n",
       "\t 2004        & 2490925     & 375790      & 113522      & 6317        & 14429       & 3088617     & 0.15979807  & 0.082325766 & 0.18777923  & 0.36142241  & 0.17061496  & 609.4006    & 91.93639   \\\\\n",
       "\t 2005        & 2578662     & 388223      & 119559      & 6697        & 15043       & 3204735     & 0.20064925  & 0.118134479 & 0.25094428  & 0.44331897  & 0.22042836  & 623.7843    & 93.91204   \\\\\n",
       "\\end{tabular}\n"
      ],
      "text/markdown": [
       "\n",
       "Period | Light passenger | Light commercial | Trucks | Bus | Other | Total | Light passenger__1 | Light commercial__1 | Trucks__1 | Bus__1 | Overall | Light passenger per 1000 popn | Light commercial per 1000 popn | \n",
       "|---|---|---|---|---|---|\n",
       "| 2000        | 2147723     | 347206      |  95575      | 4640        | 12326       | 2685414     |         NA  |          NA |         NA  |         NA  |         NA  | 556.7222    | 90.00104    | \n",
       "| 2001        | 2213694     | 349773      |  97764      | 4962        | 12526       | 2757190     | 0.03071672  | 0.007393305 | 0.02290348  | 0.06939655  | 0.01622586  | 570.4662    | 90.13606    | \n",
       "| 2002        | 2292381     | 355373      | 101532      | 5417        | 13139       | 2847817     | 0.06735412  | 0.023522059 | 0.06232801  | 0.16745690  | 0.06595814  | 580.5701    | 90.00203    | \n",
       "| 2003        | 2395163     | 364051      | 106665      | 5841        | 13777       | 2968279     | 0.11521039  | 0.048515867 | 0.11603453  | 0.25883621  | 0.11771864  | 594.7465    | 90.39804    | \n",
       "| 2004        | 2490925     | 375790      | 113522      | 6317        | 14429       | 3088617     | 0.15979807  | 0.082325766 | 0.18777923  | 0.36142241  | 0.17061496  | 609.4006    | 91.93639    | \n",
       "| 2005        | 2578662     | 388223      | 119559      | 6697        | 15043       | 3204735     | 0.20064925  | 0.118134479 | 0.25094428  | 0.44331897  | 0.22042836  | 623.7843    | 93.91204    | \n",
       "\n",
       "\n"
      ],
      "text/plain": [
       "  Period Light passenger Light commercial Trucks Bus  Other Total  \n",
       "1 2000   2147723         347206            95575 4640 12326 2685414\n",
       "2 2001   2213694         349773            97764 4962 12526 2757190\n",
       "3 2002   2292381         355373           101532 5417 13139 2847817\n",
       "4 2003   2395163         364051           106665 5841 13777 2968279\n",
       "5 2004   2490925         375790           113522 6317 14429 3088617\n",
       "6 2005   2578662         388223           119559 6697 15043 3204735\n",
       "  Light passenger__1 Light commercial__1 Trucks__1  Bus__1     Overall   \n",
       "1         NA                  NA                 NA         NA         NA\n",
       "2 0.03071672         0.007393305         0.02290348 0.06939655 0.01622586\n",
       "3 0.06735412         0.023522059         0.06232801 0.16745690 0.06595814\n",
       "4 0.11521039         0.048515867         0.11603453 0.25883621 0.11771864\n",
       "5 0.15979807         0.082325766         0.18777923 0.36142241 0.17061496\n",
       "6 0.20064925         0.118134479         0.25094428 0.44331897 0.22042836\n",
       "  Light passenger per 1000 popn Light commercial per 1000 popn\n",
       "1 556.7222                      90.00104                      \n",
       "2 570.4662                      90.13606                      \n",
       "3 580.5701                      90.00203                      \n",
       "4 594.7465                      90.39804                      \n",
       "5 609.4006                      91.93639                      \n",
       "6 623.7843                      93.91204                      "
      ]
     },
     "metadata": {},
     "output_type": "display_data"
    }
   ],
   "source": [
    "# Get fleet makeup by year into R\n",
    "fleet_size <- read_excel(\"NZ-Vehicle-Fleet-Graphs-2017-WEB.xlsx\",sheet = 2, range = \"A2:W20\") %>%\n",
    "# Select the variables we want\n",
    "    select(Period, `Light passenger`,`Light commercial`,Trucks, Bus, Other,Total, \n",
    "           'Light passenger__1','Light commercial__1','Trucks__1', 'Bus__1','Overall',\n",
    "               `Light passenger per 1000 popn`,`Light commercial per 1000 popn`)\n",
    "\n",
    "head(fleet_size)\n"
   ]
  },
  {
   "cell_type": "code",
   "execution_count": 13,
   "metadata": {},
   "outputs": [
    {
     "data": {
      "text/html": [
       "<table>\n",
       "<thead><tr><th scope=col>Period</th><th scope=col>Light_passenger</th><th scope=col>Light_commercial</th><th scope=col>Truck</th><th scope=col>Bus</th><th scope=col>Other</th><th scope=col>Total_vehicles</th><th scope=col>Light_passenger_increasing_rate</th><th scope=col>Light_commercial_increasing_rate</th><th scope=col>Trucks_increasing_rate</th><th scope=col>Bus_increasing_rate</th><th scope=col>Overall_increasing_rate</th><th scope=col>Light_passenger_per_thousand</th><th scope=col>Light_commercial_per_thousand</th></tr></thead>\n",
       "<tbody>\n",
       "\t<tr><td>2000       </td><td>2147723    </td><td>347206     </td><td> 95575     </td><td>4640       </td><td>12326      </td><td>2685414    </td><td>        NA </td><td>         NA</td><td>        NA </td><td>        NA </td><td>        NA </td><td>556.7222   </td><td>90.00104   </td></tr>\n",
       "\t<tr><td>2001       </td><td>2213694    </td><td>349773     </td><td> 97764     </td><td>4962       </td><td>12526      </td><td>2757190    </td><td>0.03071672 </td><td>0.007393305</td><td>0.02290348 </td><td>0.06939655 </td><td>0.01622586 </td><td>570.4662   </td><td>90.13606   </td></tr>\n",
       "\t<tr><td>2002       </td><td>2292381    </td><td>355373     </td><td>101532     </td><td>5417       </td><td>13139      </td><td>2847817    </td><td>0.06735412 </td><td>0.023522059</td><td>0.06232801 </td><td>0.16745690 </td><td>0.06595814 </td><td>580.5701   </td><td>90.00203   </td></tr>\n",
       "\t<tr><td>2003       </td><td>2395163    </td><td>364051     </td><td>106665     </td><td>5841       </td><td>13777      </td><td>2968279    </td><td>0.11521039 </td><td>0.048515867</td><td>0.11603453 </td><td>0.25883621 </td><td>0.11771864 </td><td>594.7465   </td><td>90.39804   </td></tr>\n",
       "\t<tr><td>2004       </td><td>2490925    </td><td>375790     </td><td>113522     </td><td>6317       </td><td>14429      </td><td>3088617    </td><td>0.15979807 </td><td>0.082325766</td><td>0.18777923 </td><td>0.36142241 </td><td>0.17061496 </td><td>609.4006   </td><td>91.93639   </td></tr>\n",
       "\t<tr><td>2005       </td><td>2578662    </td><td>388223     </td><td>119559     </td><td>6697       </td><td>15043      </td><td>3204735    </td><td>0.20064925 </td><td>0.118134479</td><td>0.25094428 </td><td>0.44331897 </td><td>0.22042836 </td><td>623.7843   </td><td>93.91204   </td></tr>\n",
       "</tbody>\n",
       "</table>\n"
      ],
      "text/latex": [
       "\\begin{tabular}{r|llllllllllllll}\n",
       " Period & Light\\_passenger & Light\\_commercial & Truck & Bus & Other & Total\\_vehicles & Light\\_passenger\\_increasing\\_rate & Light\\_commercial\\_increasing\\_rate & Trucks\\_increasing\\_rate & Bus\\_increasing\\_rate & Overall\\_increasing\\_rate & Light\\_passenger\\_per\\_thousand & Light\\_commercial\\_per\\_thousand\\\\\n",
       "\\hline\n",
       "\t 2000        & 2147723     & 347206      &  95575      & 4640        & 12326       & 2685414     &         NA  &          NA &         NA  &         NA  &         NA  & 556.7222    & 90.00104   \\\\\n",
       "\t 2001        & 2213694     & 349773      &  97764      & 4962        & 12526       & 2757190     & 0.03071672  & 0.007393305 & 0.02290348  & 0.06939655  & 0.01622586  & 570.4662    & 90.13606   \\\\\n",
       "\t 2002        & 2292381     & 355373      & 101532      & 5417        & 13139       & 2847817     & 0.06735412  & 0.023522059 & 0.06232801  & 0.16745690  & 0.06595814  & 580.5701    & 90.00203   \\\\\n",
       "\t 2003        & 2395163     & 364051      & 106665      & 5841        & 13777       & 2968279     & 0.11521039  & 0.048515867 & 0.11603453  & 0.25883621  & 0.11771864  & 594.7465    & 90.39804   \\\\\n",
       "\t 2004        & 2490925     & 375790      & 113522      & 6317        & 14429       & 3088617     & 0.15979807  & 0.082325766 & 0.18777923  & 0.36142241  & 0.17061496  & 609.4006    & 91.93639   \\\\\n",
       "\t 2005        & 2578662     & 388223      & 119559      & 6697        & 15043       & 3204735     & 0.20064925  & 0.118134479 & 0.25094428  & 0.44331897  & 0.22042836  & 623.7843    & 93.91204   \\\\\n",
       "\\end{tabular}\n"
      ],
      "text/markdown": [
       "\n",
       "Period | Light_passenger | Light_commercial | Truck | Bus | Other | Total_vehicles | Light_passenger_increasing_rate | Light_commercial_increasing_rate | Trucks_increasing_rate | Bus_increasing_rate | Overall_increasing_rate | Light_passenger_per_thousand | Light_commercial_per_thousand | \n",
       "|---|---|---|---|---|---|\n",
       "| 2000        | 2147723     | 347206      |  95575      | 4640        | 12326       | 2685414     |         NA  |          NA |         NA  |         NA  |         NA  | 556.7222    | 90.00104    | \n",
       "| 2001        | 2213694     | 349773      |  97764      | 4962        | 12526       | 2757190     | 0.03071672  | 0.007393305 | 0.02290348  | 0.06939655  | 0.01622586  | 570.4662    | 90.13606    | \n",
       "| 2002        | 2292381     | 355373      | 101532      | 5417        | 13139       | 2847817     | 0.06735412  | 0.023522059 | 0.06232801  | 0.16745690  | 0.06595814  | 580.5701    | 90.00203    | \n",
       "| 2003        | 2395163     | 364051      | 106665      | 5841        | 13777       | 2968279     | 0.11521039  | 0.048515867 | 0.11603453  | 0.25883621  | 0.11771864  | 594.7465    | 90.39804    | \n",
       "| 2004        | 2490925     | 375790      | 113522      | 6317        | 14429       | 3088617     | 0.15979807  | 0.082325766 | 0.18777923  | 0.36142241  | 0.17061496  | 609.4006    | 91.93639    | \n",
       "| 2005        | 2578662     | 388223      | 119559      | 6697        | 15043       | 3204735     | 0.20064925  | 0.118134479 | 0.25094428  | 0.44331897  | 0.22042836  | 623.7843    | 93.91204    | \n",
       "\n",
       "\n"
      ],
      "text/plain": [
       "  Period Light_passenger Light_commercial Truck  Bus  Other Total_vehicles\n",
       "1 2000   2147723         347206            95575 4640 12326 2685414       \n",
       "2 2001   2213694         349773            97764 4962 12526 2757190       \n",
       "3 2002   2292381         355373           101532 5417 13139 2847817       \n",
       "4 2003   2395163         364051           106665 5841 13777 2968279       \n",
       "5 2004   2490925         375790           113522 6317 14429 3088617       \n",
       "6 2005   2578662         388223           119559 6697 15043 3204735       \n",
       "  Light_passenger_increasing_rate Light_commercial_increasing_rate\n",
       "1         NA                               NA                     \n",
       "2 0.03071672                      0.007393305                     \n",
       "3 0.06735412                      0.023522059                     \n",
       "4 0.11521039                      0.048515867                     \n",
       "5 0.15979807                      0.082325766                     \n",
       "6 0.20064925                      0.118134479                     \n",
       "  Trucks_increasing_rate Bus_increasing_rate Overall_increasing_rate\n",
       "1         NA                     NA                  NA             \n",
       "2 0.02290348             0.06939655          0.01622586             \n",
       "3 0.06232801             0.16745690          0.06595814             \n",
       "4 0.11603453             0.25883621          0.11771864             \n",
       "5 0.18777923             0.36142241          0.17061496             \n",
       "6 0.25094428             0.44331897          0.22042836             \n",
       "  Light_passenger_per_thousand Light_commercial_per_thousand\n",
       "1 556.7222                     90.00104                     \n",
       "2 570.4662                     90.13606                     \n",
       "3 580.5701                     90.00203                     \n",
       "4 594.7465                     90.39804                     \n",
       "5 609.4006                     91.93639                     \n",
       "6 623.7843                     93.91204                     "
      ]
     },
     "metadata": {},
     "output_type": "display_data"
    }
   ],
   "source": [
    "#renames variables\n",
    "new_names_fleet = c(\"Period\", \"Light_passenger\",\"Light_commercial\",\n",
    "                    \"Truck\", \"Bus\", \"Other\", \"Total_vehicles\",\n",
    "                    \"Light_passenger_increasing_rate\",\"Light_commercial_increasing_rate\", \n",
    "                    \"Trucks_increasing_rate\",\"Bus_increasing_rate\", \"Overall_increasing_rate\",\n",
    "                    \"Light_passenger_per_thousand\",\"Light_commercial_per_thousand\")\n",
    "\n",
    "names(fleet_size) <- new_names_fleet\n",
    "\n",
    "head(fleet_size)"
   ]
  },
  {
   "cell_type": "code",
   "execution_count": 14,
   "metadata": {},
   "outputs": [
    {
     "data": {
      "text/html": [
       "<table>\n",
       "<thead><tr><th scope=col>Estimated de facto population ⁽²⁾</th><th scope=col>X__1</th><th scope=col>X__2</th><th scope=col>X__3</th><th scope=col>X__4</th><th scope=col>X__5</th><th scope=col>X__6</th><th scope=col>X__7</th><th scope=col>X__8</th><th scope=col>X__9</th></tr></thead>\n",
       "<tbody>\n",
       "\t<tr><td>1926   </td><td>730500 </td><td>699200 </td><td>1429700</td><td>28500  </td><td>2.03   </td><td>104.5  </td><td>722600 </td><td>691200 </td><td>1413700</td></tr>\n",
       "\t<tr><td>1927   </td><td>740500 </td><td>709900 </td><td>1450400</td><td>20700  </td><td>1.45   </td><td>104.3  </td><td>735000 </td><td>704000 </td><td>1439000</td></tr>\n",
       "\t<tr><td>1928   </td><td>748600 </td><td>718700 </td><td>1467400</td><td>17000  </td><td>1.17   </td><td>104.2  </td><td>743000 </td><td>713000 </td><td>1456100</td></tr>\n",
       "\t<tr><td>1929   </td><td>757800 </td><td>728300 </td><td>1486100</td><td>18700  </td><td>1.27   </td><td>104.1  </td><td>751300 </td><td>722100 </td><td>1473400</td></tr>\n",
       "\t<tr><td>1930   </td><td>767900 </td><td>738900 </td><td>1506800</td><td>20700  </td><td>1.39   </td><td>103.9  </td><td>761100 </td><td>732000 </td><td>1493000</td></tr>\n",
       "\t<tr><td>1931   </td><td>775600 </td><td>747100 </td><td>1522800</td><td>16000  </td><td>1.06   </td><td>103.8  </td><td>771700 </td><td>742500 </td><td>1514200</td></tr>\n",
       "</tbody>\n",
       "</table>\n"
      ],
      "text/latex": [
       "\\begin{tabular}{r|llllllllll}\n",
       " Estimated de facto population ⁽²⁾ & X\\_\\_1 & X\\_\\_2 & X\\_\\_3 & X\\_\\_4 & X\\_\\_5 & X\\_\\_6 & X\\_\\_7 & X\\_\\_8 & X\\_\\_9\\\\\n",
       "\\hline\n",
       "\t 1926    & 730500  & 699200  & 1429700 & 28500   & 2.03    & 104.5   & 722600  & 691200  & 1413700\\\\\n",
       "\t 1927    & 740500  & 709900  & 1450400 & 20700   & 1.45    & 104.3   & 735000  & 704000  & 1439000\\\\\n",
       "\t 1928    & 748600  & 718700  & 1467400 & 17000   & 1.17    & 104.2   & 743000  & 713000  & 1456100\\\\\n",
       "\t 1929    & 757800  & 728300  & 1486100 & 18700   & 1.27    & 104.1   & 751300  & 722100  & 1473400\\\\\n",
       "\t 1930    & 767900  & 738900  & 1506800 & 20700   & 1.39    & 103.9   & 761100  & 732000  & 1493000\\\\\n",
       "\t 1931    & 775600  & 747100  & 1522800 & 16000   & 1.06    & 103.8   & 771700  & 742500  & 1514200\\\\\n",
       "\\end{tabular}\n"
      ],
      "text/markdown": [
       "\n",
       "Estimated de facto population ⁽²⁾ | X__1 | X__2 | X__3 | X__4 | X__5 | X__6 | X__7 | X__8 | X__9 | \n",
       "|---|---|---|---|---|---|\n",
       "| 1926    | 730500  | 699200  | 1429700 | 28500   | 2.03    | 104.5   | 722600  | 691200  | 1413700 | \n",
       "| 1927    | 740500  | 709900  | 1450400 | 20700   | 1.45    | 104.3   | 735000  | 704000  | 1439000 | \n",
       "| 1928    | 748600  | 718700  | 1467400 | 17000   | 1.17    | 104.2   | 743000  | 713000  | 1456100 | \n",
       "| 1929    | 757800  | 728300  | 1486100 | 18700   | 1.27    | 104.1   | 751300  | 722100  | 1473400 | \n",
       "| 1930    | 767900  | 738900  | 1506800 | 20700   | 1.39    | 103.9   | 761100  | 732000  | 1493000 | \n",
       "| 1931    | 775600  | 747100  | 1522800 | 16000   | 1.06    | 103.8   | 771700  | 742500  | 1514200 | \n",
       "\n",
       "\n"
      ],
      "text/plain": [
       "  Estimated de facto population <U+207D>²<U+207E>               X__1   X__2   X__3    X__4 \n",
       "1 1926                                            730500 699200 1429700 28500\n",
       "2 1927                                            740500 709900 1450400 20700\n",
       "3 1928                                            748600 718700 1467400 17000\n",
       "4 1929                                            757800 728300 1486100 18700\n",
       "5 1930                                            767900 738900 1506800 20700\n",
       "6 1931                                            775600 747100 1522800 16000\n",
       "  X__5 X__6  X__7   X__8   X__9   \n",
       "1 2.03 104.5 722600 691200 1413700\n",
       "2 1.45 104.3 735000 704000 1439000\n",
       "3 1.17 104.2 743000 713000 1456100\n",
       "4 1.27 104.1 751300 722100 1473400\n",
       "5 1.39 103.9 761100 732000 1493000\n",
       "6 1.06 103.8 771700 742500 1514200"
      ]
     },
     "metadata": {},
     "output_type": "display_data"
    }
   ],
   "source": [
    "#read file\n",
    "population <- read_excel(\"population.xlsx\",sheet = 2, range = \"A9:J102\")\n",
    "head(population)"
   ]
  },
  {
   "cell_type": "code",
   "execution_count": 15,
   "metadata": {},
   "outputs": [
    {
     "data": {
      "text/html": [
       "<table>\n",
       "<thead><tr><th scope=col>Estimated de facto population ⁽²⁾</th><th scope=col>X__1</th><th scope=col>X__2</th><th scope=col>X__3</th><th scope=col>X__4</th><th scope=col>X__5</th><th scope=col>X__6</th><th scope=col>X__7</th><th scope=col>X__8</th><th scope=col>X__9</th></tr></thead>\n",
       "<tbody>\n",
       "\t<tr><td>Estimated resident population &lt;U+207D&gt;³&lt;U+207E&gt;</td><td>NA                                                         </td><td>NA                                                         </td><td>NA                                                         </td><td>NA                                                         </td><td>NA                                                         </td><td>NA                                                         </td><td>NA                                                         </td><td>NA                                                         </td><td>NA                                                         </td></tr>\n",
       "</tbody>\n",
       "</table>\n"
      ],
      "text/latex": [
       "\\begin{tabular}{r|llllllllll}\n",
       " Estimated de facto population ⁽²⁾ & X\\_\\_1 & X\\_\\_2 & X\\_\\_3 & X\\_\\_4 & X\\_\\_5 & X\\_\\_6 & X\\_\\_7 & X\\_\\_8 & X\\_\\_9\\\\\n",
       "\\hline\n",
       "\t Estimated resident population <U+207D>³<U+207E> & NA                                              & NA                                              & NA                                              & NA                                              & NA                                              & NA                                              & NA                                              & NA                                              & NA                                             \\\\\n",
       "\\end{tabular}\n"
      ],
      "text/markdown": [
       "\n",
       "Estimated de facto population ⁽²⁾ | X__1 | X__2 | X__3 | X__4 | X__5 | X__6 | X__7 | X__8 | X__9 | \n",
       "|---|\n",
       "| Estimated resident population <U+207D>³<U+207E> | NA                                              | NA                                              | NA                                              | NA                                              | NA                                              | NA                                              | NA                                              | NA                                              | NA                                              | \n",
       "\n",
       "\n"
      ],
      "text/plain": [
       "  Estimated de facto population <U+207D>²<U+207E>               X__1 X__2 X__3 X__4 X__5 X__6\n",
       "1 Estimated resident population <U+207D>³<U+207E> NA   NA   NA   NA   NA   NA  \n",
       "  X__7 X__8 X__9\n",
       "1 NA   NA   NA  "
      ]
     },
     "metadata": {},
     "output_type": "display_data"
    }
   ],
   "source": [
    "# list rows of data that have missing values\n",
    "population[!complete.cases(population),]\n"
   ]
  },
  {
   "cell_type": "markdown",
   "metadata": {},
   "source": [
    "Comment:\n",
    "\n",
    "There is a row of data that is all NA (the table relabelled the columns after 1990 from estimated de facto population - total # of people in the country - to estimated resident population - based on census count but adjusting for residents overseas).\n",
    "\n",
    "I don't think this measurement change is a big deal compared to other potential errors in the datasets so basically I just want to remove this row."
   ]
  },
  {
   "cell_type": "code",
   "execution_count": 16,
   "metadata": {},
   "outputs": [],
   "source": [
    "#remove the offending row\n",
    "population <- na.omit(population)"
   ]
  },
  {
   "cell_type": "code",
   "execution_count": 17,
   "metadata": {},
   "outputs": [
    {
     "data": {
      "text/html": [
       "<table>\n",
       "<thead><tr><th scope=col>Year</th><th scope=col>Men</th><th scope=col>Women</th><th scope=col>Total_population</th><th scope=col>Absolute_increase</th><th scope=col>Percentage_increase</th><th scope=col>Sex_ratio</th><th scope=col>Year_average_male</th><th scope=col>Year_average_female</th><th scope=col>Year_average_total</th></tr></thead>\n",
       "<tbody>\n",
       "\t<tr><td>1926   </td><td>730500 </td><td>699200 </td><td>1429700</td><td>28500  </td><td>2.03   </td><td>104.5  </td><td>722600 </td><td>691200 </td><td>1413700</td></tr>\n",
       "\t<tr><td>1927   </td><td>740500 </td><td>709900 </td><td>1450400</td><td>20700  </td><td>1.45   </td><td>104.3  </td><td>735000 </td><td>704000 </td><td>1439000</td></tr>\n",
       "\t<tr><td>1928   </td><td>748600 </td><td>718700 </td><td>1467400</td><td>17000  </td><td>1.17   </td><td>104.2  </td><td>743000 </td><td>713000 </td><td>1456100</td></tr>\n",
       "\t<tr><td>1929   </td><td>757800 </td><td>728300 </td><td>1486100</td><td>18700  </td><td>1.27   </td><td>104.1  </td><td>751300 </td><td>722100 </td><td>1473400</td></tr>\n",
       "\t<tr><td>1930   </td><td>767900 </td><td>738900 </td><td>1506800</td><td>20700  </td><td>1.39   </td><td>103.9  </td><td>761100 </td><td>732000 </td><td>1493000</td></tr>\n",
       "\t<tr><td>1931   </td><td>775600 </td><td>747100 </td><td>1522800</td><td>16000  </td><td>1.06   </td><td>103.8  </td><td>771700 </td><td>742500 </td><td>1514200</td></tr>\n",
       "</tbody>\n",
       "</table>\n"
      ],
      "text/latex": [
       "\\begin{tabular}{r|llllllllll}\n",
       " Year & Men & Women & Total\\_population & Absolute\\_increase & Percentage\\_increase & Sex\\_ratio & Year\\_average\\_male & Year\\_average\\_female & Year\\_average\\_total\\\\\n",
       "\\hline\n",
       "\t 1926    & 730500  & 699200  & 1429700 & 28500   & 2.03    & 104.5   & 722600  & 691200  & 1413700\\\\\n",
       "\t 1927    & 740500  & 709900  & 1450400 & 20700   & 1.45    & 104.3   & 735000  & 704000  & 1439000\\\\\n",
       "\t 1928    & 748600  & 718700  & 1467400 & 17000   & 1.17    & 104.2   & 743000  & 713000  & 1456100\\\\\n",
       "\t 1929    & 757800  & 728300  & 1486100 & 18700   & 1.27    & 104.1   & 751300  & 722100  & 1473400\\\\\n",
       "\t 1930    & 767900  & 738900  & 1506800 & 20700   & 1.39    & 103.9   & 761100  & 732000  & 1493000\\\\\n",
       "\t 1931    & 775600  & 747100  & 1522800 & 16000   & 1.06    & 103.8   & 771700  & 742500  & 1514200\\\\\n",
       "\\end{tabular}\n"
      ],
      "text/markdown": [
       "\n",
       "Year | Men | Women | Total_population | Absolute_increase | Percentage_increase | Sex_ratio | Year_average_male | Year_average_female | Year_average_total | \n",
       "|---|---|---|---|---|---|\n",
       "| 1926    | 730500  | 699200  | 1429700 | 28500   | 2.03    | 104.5   | 722600  | 691200  | 1413700 | \n",
       "| 1927    | 740500  | 709900  | 1450400 | 20700   | 1.45    | 104.3   | 735000  | 704000  | 1439000 | \n",
       "| 1928    | 748600  | 718700  | 1467400 | 17000   | 1.17    | 104.2   | 743000  | 713000  | 1456100 | \n",
       "| 1929    | 757800  | 728300  | 1486100 | 18700   | 1.27    | 104.1   | 751300  | 722100  | 1473400 | \n",
       "| 1930    | 767900  | 738900  | 1506800 | 20700   | 1.39    | 103.9   | 761100  | 732000  | 1493000 | \n",
       "| 1931    | 775600  | 747100  | 1522800 | 16000   | 1.06    | 103.8   | 771700  | 742500  | 1514200 | \n",
       "\n",
       "\n"
      ],
      "text/plain": [
       "  Year Men    Women  Total_population Absolute_increase Percentage_increase\n",
       "1 1926 730500 699200 1429700          28500             2.03               \n",
       "2 1927 740500 709900 1450400          20700             1.45               \n",
       "3 1928 748600 718700 1467400          17000             1.17               \n",
       "4 1929 757800 728300 1486100          18700             1.27               \n",
       "5 1930 767900 738900 1506800          20700             1.39               \n",
       "6 1931 775600 747100 1522800          16000             1.06               \n",
       "  Sex_ratio Year_average_male Year_average_female Year_average_total\n",
       "1 104.5     722600            691200              1413700           \n",
       "2 104.3     735000            704000              1439000           \n",
       "3 104.2     743000            713000              1456100           \n",
       "4 104.1     751300            722100              1473400           \n",
       "5 103.9     761100            732000              1493000           \n",
       "6 103.8     771700            742500              1514200           "
      ]
     },
     "metadata": {},
     "output_type": "display_data"
    }
   ],
   "source": [
    "#rename the columns\n",
    "new_names = c(\"Year\",\"Men\",\"Women\", \"Total_population\", \"Absolute_increase\",\n",
    "            \"Percentage_increase\", \"Sex_ratio\", \"Year_average_male\",\n",
    "            \"Year_average_female\", \"Year_average_total\")\n",
    "names(population) <- new_names\n",
    "\n",
    "head(population)"
   ]
  },
  {
   "cell_type": "code",
   "execution_count": 18,
   "metadata": {},
   "outputs": [
    {
     "name": "stdout",
     "output_type": "stream",
     "text": [
      "Observations: 92\n",
      "Variables: 10\n",
      "$ Year                <chr> \"1926\", \"1927\", \"1928\", \"1929\", \"1930\", \"1931\",...\n",
      "$ Men                 <dbl> 730500, 740500, 748600, 757800, 767900, 775600,...\n",
      "$ Women               <dbl> 699200, 709900, 718700, 728300, 738900, 747100,...\n",
      "$ Total_population    <dbl> 1429700, 1450400, 1467400, 1486100, 1506800, 15...\n",
      "$ Absolute_increase   <dbl> 28500, 20700, 17000, 18700, 20700, 16000, 11900...\n",
      "$ Percentage_increase <dbl> 2.03, 1.45, 1.17, 1.27, 1.39, 1.06, 0.78, 0.81,...\n",
      "$ Sex_ratio           <dbl> 104.5, 104.3, 104.2, 104.1, 103.9, 103.8, 103.6...\n",
      "$ Year_average_male   <dbl> 722600, 735000, 743000, 751300, 761100, 771700,...\n",
      "$ Year_average_female <dbl> 691200, 704000, 713000, 722100, 732000, 742500,...\n",
      "$ Year_average_total  <dbl> 1413700, 1439000, 1456100, 1473400, 1493000, 15...\n"
     ]
    }
   ],
   "source": [
    "#check the population data frame to make sure data is of the right type\n",
    "population %>% \n",
    "    glimpse()"
   ]
  },
  {
   "cell_type": "code",
   "execution_count": 19,
   "metadata": {},
   "outputs": [
    {
     "name": "stdout",
     "output_type": "stream",
     "text": [
      "Observations: 92\n",
      "Variables: 10\n",
      "$ Year                <dbl> 1926, 1927, 1928, 1929, 1930, 1931, 1932, 1933,...\n",
      "$ Men                 <dbl> 730500, 740500, 748600, 757800, 767900, 775600,...\n",
      "$ Women               <dbl> 699200, 709900, 718700, 728300, 738900, 747100,...\n",
      "$ Total_population    <dbl> 1429700, 1450400, 1467400, 1486100, 1506800, 15...\n",
      "$ Absolute_increase   <dbl> 28500, 20700, 17000, 18700, 20700, 16000, 11900...\n",
      "$ Percentage_increase <dbl> 2.03, 1.45, 1.17, 1.27, 1.39, 1.06, 0.78, 0.81,...\n",
      "$ Sex_ratio           <dbl> 104.5, 104.3, 104.2, 104.1, 103.9, 103.8, 103.6...\n",
      "$ Year_average_male   <dbl> 722600, 735000, 743000, 751300, 761100, 771700,...\n",
      "$ Year_average_female <dbl> 691200, 704000, 713000, 722100, 732000, 742500,...\n",
      "$ Year_average_total  <dbl> 1413700, 1439000, 1456100, 1473400, 1493000, 15...\n"
     ]
    }
   ],
   "source": [
    "#change year to numeric\n",
    "population[1] <- as.numeric(population$Year)\n",
    "    population %>%\n",
    "  glimpse()"
   ]
  },
  {
   "cell_type": "markdown",
   "metadata": {},
   "source": [
    "**Note**:\n",
    "\n",
    "Car increases over time are a bit meaningless unless put in the context of population changes. I want to join the car table with the population table since I don't have car data before year 2000, I only want the population stats from 2000 in the new table so this needs to be an inner join between period in fleet_size and year in population."
   ]
  },
  {
   "cell_type": "code",
   "execution_count": 20,
   "metadata": {},
   "outputs": [
    {
     "data": {
      "text/html": [
       "<table>\n",
       "<thead><tr><th scope=col>Year</th><th scope=col>Total_population</th><th scope=col>Year_average_total</th></tr></thead>\n",
       "<tbody>\n",
       "\t<tr><td>1926   </td><td>1429700</td><td>1413700</td></tr>\n",
       "\t<tr><td>1927   </td><td>1450400</td><td>1439000</td></tr>\n",
       "\t<tr><td>1928   </td><td>1467400</td><td>1456100</td></tr>\n",
       "\t<tr><td>1929   </td><td>1486100</td><td>1473400</td></tr>\n",
       "\t<tr><td>1930   </td><td>1506800</td><td>1493000</td></tr>\n",
       "\t<tr><td>1931   </td><td>1522800</td><td>1514200</td></tr>\n",
       "</tbody>\n",
       "</table>\n"
      ],
      "text/latex": [
       "\\begin{tabular}{r|lll}\n",
       " Year & Total\\_population & Year\\_average\\_total\\\\\n",
       "\\hline\n",
       "\t 1926    & 1429700 & 1413700\\\\\n",
       "\t 1927    & 1450400 & 1439000\\\\\n",
       "\t 1928    & 1467400 & 1456100\\\\\n",
       "\t 1929    & 1486100 & 1473400\\\\\n",
       "\t 1930    & 1506800 & 1493000\\\\\n",
       "\t 1931    & 1522800 & 1514200\\\\\n",
       "\\end{tabular}\n"
      ],
      "text/markdown": [
       "\n",
       "Year | Total_population | Year_average_total | \n",
       "|---|---|---|---|---|---|\n",
       "| 1926    | 1429700 | 1413700 | \n",
       "| 1927    | 1450400 | 1439000 | \n",
       "| 1928    | 1467400 | 1456100 | \n",
       "| 1929    | 1486100 | 1473400 | \n",
       "| 1930    | 1506800 | 1493000 | \n",
       "| 1931    | 1522800 | 1514200 | \n",
       "\n",
       "\n"
      ],
      "text/plain": [
       "  Year Total_population Year_average_total\n",
       "1 1926 1429700          1413700           \n",
       "2 1927 1450400          1439000           \n",
       "3 1928 1467400          1456100           \n",
       "4 1929 1486100          1473400           \n",
       "5 1930 1506800          1493000           \n",
       "6 1931 1522800          1514200           "
      ]
     },
     "metadata": {},
     "output_type": "display_data"
    }
   ],
   "source": [
    "#We select Year and Total_population because \n",
    "#we only need year, Total_population and Year_average_total as variable to do inner join\n",
    "population_new<- population %>% select(Year,Total_population,Year_average_total)\n",
    "head(population_new)"
   ]
  },
  {
   "cell_type": "code",
   "execution_count": 22,
   "metadata": {},
   "outputs": [
    {
     "name": "stdout",
     "output_type": "stream",
     "text": [
      "Observations: 18\n",
      "Variables: 16\n",
      "$ Period                           <dbl> 2000, 2001, 2002, 2003, 2004, 2005...\n",
      "$ Light_passenger                  <dbl> 2147723, 2213694, 2292381, 2395163...\n",
      "$ Light_commercial                 <dbl> 347206, 349773, 355373, 364051, 37...\n",
      "$ Truck                            <dbl> 95575, 97764, 101532, 106665, 1135...\n",
      "$ Bus                              <dbl> 4640, 4962, 5417, 5841, 6317, 6697...\n",
      "$ Other                            <dbl> 12326, 12526, 13139, 13777, 14429,...\n",
      "$ Total_vehicles                   <dbl> 2685414, 2757190, 2847817, 2968279...\n",
      "$ Light_passenger_increasing_rate  <dbl> NA, 0.03071672, 0.06735412, 0.1152...\n",
      "$ Light_commercial_increasing_rate <dbl> NA, 0.007393305, 0.023522059, 0.04...\n",
      "$ Trucks_increasing_rate           <dbl> NA, 0.02290348, 0.06232801, 0.1160...\n",
      "$ Bus_increasing_rate              <dbl> NA, 0.06939655, 0.16745690, 0.2588...\n",
      "$ Overall_increasing_rate          <dbl> NA, 0.01622586, 0.06595814, 0.1177...\n",
      "$ Light_passenger_per_thousand     <dbl> 556.7222, 570.4662, 580.5701, 594....\n",
      "$ Light_commercial_per_thousand    <dbl> 90.00104, 90.13606, 90.00203, 90.3...\n",
      "$ Total_population                 <dbl> 3873100, 3916200, 3989500, 4061600...\n",
      "$ Year_average_total               <dbl> 3860200, 3886700, 3951200, 4027700...\n"
     ]
    }
   ],
   "source": [
    "#inner join fleet_size to population\n",
    "fleet_population <- inner_join(fleet_size,population_new, by = c(\"Period\" = \"Year\") )\n",
    "#Check data frame\n",
    "fleet_population %>% \n",
    "    glimpse()"
   ]
  },
  {
   "cell_type": "code",
   "execution_count": 23,
   "metadata": {},
   "outputs": [
    {
     "data": {
      "text/html": [
       "<table>\n",
       "<thead><tr><th scope=col>Period</th><th scope=col>Light_passenger</th><th scope=col>Light_commercial</th><th scope=col>Trucks</th><th scope=col>Bus</th><th scope=col>Other</th><th scope=col>Total</th><th scope=col>Light_passenger_increasing_rate</th><th scope=col>Light_commercial_increasing_rate</th><th scope=col>Trucks_increasing_rate</th><th scope=col>Bus_increasing_rate</th><th scope=col>Overall_increasing_rate</th><th scope=col>Light_passenger_per_thousand</th><th scope=col>Light_commercial_per_thousand</th><th scope=col>Total_population</th><th scope=col>Year_average_total</th></tr></thead>\n",
       "<tbody>\n",
       "\t<tr><td>2000       </td><td>2147723    </td><td>347206     </td><td> 95575     </td><td>4640       </td><td>12326      </td><td>2685414    </td><td>        NA </td><td>         NA</td><td>        NA </td><td>        NA </td><td>        NA </td><td>556.7222   </td><td>90.00104   </td><td>3873100    </td><td>3860200    </td></tr>\n",
       "\t<tr><td>2001       </td><td>2213694    </td><td>349773     </td><td> 97764     </td><td>4962       </td><td>12526      </td><td>2757190    </td><td>0.03071672 </td><td>0.007393305</td><td>0.02290348 </td><td>0.06939655 </td><td>0.01622586 </td><td>570.4662   </td><td>90.13606   </td><td>3916200    </td><td>3886700    </td></tr>\n",
       "\t<tr><td>2002       </td><td>2292381    </td><td>355373     </td><td>101532     </td><td>5417       </td><td>13139      </td><td>2847817    </td><td>0.06735412 </td><td>0.023522059</td><td>0.06232801 </td><td>0.16745690 </td><td>0.06595814 </td><td>580.5701   </td><td>90.00203   </td><td>3989500    </td><td>3951200    </td></tr>\n",
       "\t<tr><td>2003       </td><td>2395163    </td><td>364051     </td><td>106665     </td><td>5841       </td><td>13777      </td><td>2968279    </td><td>0.11521039 </td><td>0.048515867</td><td>0.11603453 </td><td>0.25883621 </td><td>0.11771864 </td><td>594.7465   </td><td>90.39804   </td><td>4061600    </td><td>4027700    </td></tr>\n",
       "\t<tr><td>2004       </td><td>2490925    </td><td>375790     </td><td>113522     </td><td>6317       </td><td>14429      </td><td>3088617    </td><td>0.15979807 </td><td>0.082325766</td><td>0.18777923 </td><td>0.36142241 </td><td>0.17061496 </td><td>609.4006   </td><td>91.93639   </td><td>4114300    </td><td>4088700    </td></tr>\n",
       "\t<tr><td>2005       </td><td>2578662    </td><td>388223     </td><td>119559     </td><td>6697       </td><td>15043      </td><td>3204735    </td><td>0.20064925 </td><td>0.118134479</td><td>0.25094428 </td><td>0.44331897 </td><td>0.22042836 </td><td>623.7843   </td><td>93.91204   </td><td>4161000    </td><td>4136000    </td></tr>\n",
       "</tbody>\n",
       "</table>\n"
      ],
      "text/latex": [
       "\\begin{tabular}{r|llllllllllllllll}\n",
       " Period & Light\\_passenger & Light\\_commercial & Trucks & Bus & Other & Total & Light\\_passenger\\_increasing\\_rate & Light\\_commercial\\_increasing\\_rate & Trucks\\_increasing\\_rate & Bus\\_increasing\\_rate & Overall\\_increasing\\_rate & Light\\_passenger\\_per\\_thousand & Light\\_commercial\\_per\\_thousand & Total\\_population & Year\\_average\\_total\\\\\n",
       "\\hline\n",
       "\t 2000        & 2147723     & 347206      &  95575      & 4640        & 12326       & 2685414     &         NA  &          NA &         NA  &         NA  &         NA  & 556.7222    & 90.00104    & 3873100     & 3860200    \\\\\n",
       "\t 2001        & 2213694     & 349773      &  97764      & 4962        & 12526       & 2757190     & 0.03071672  & 0.007393305 & 0.02290348  & 0.06939655  & 0.01622586  & 570.4662    & 90.13606    & 3916200     & 3886700    \\\\\n",
       "\t 2002        & 2292381     & 355373      & 101532      & 5417        & 13139       & 2847817     & 0.06735412  & 0.023522059 & 0.06232801  & 0.16745690  & 0.06595814  & 580.5701    & 90.00203    & 3989500     & 3951200    \\\\\n",
       "\t 2003        & 2395163     & 364051      & 106665      & 5841        & 13777       & 2968279     & 0.11521039  & 0.048515867 & 0.11603453  & 0.25883621  & 0.11771864  & 594.7465    & 90.39804    & 4061600     & 4027700    \\\\\n",
       "\t 2004        & 2490925     & 375790      & 113522      & 6317        & 14429       & 3088617     & 0.15979807  & 0.082325766 & 0.18777923  & 0.36142241  & 0.17061496  & 609.4006    & 91.93639    & 4114300     & 4088700    \\\\\n",
       "\t 2005        & 2578662     & 388223      & 119559      & 6697        & 15043       & 3204735     & 0.20064925  & 0.118134479 & 0.25094428  & 0.44331897  & 0.22042836  & 623.7843    & 93.91204    & 4161000     & 4136000    \\\\\n",
       "\\end{tabular}\n"
      ],
      "text/markdown": [
       "\n",
       "Period | Light_passenger | Light_commercial | Trucks | Bus | Other | Total | Light_passenger_increasing_rate | Light_commercial_increasing_rate | Trucks_increasing_rate | Bus_increasing_rate | Overall_increasing_rate | Light_passenger_per_thousand | Light_commercial_per_thousand | Total_population | Year_average_total | \n",
       "|---|---|---|---|---|---|\n",
       "| 2000        | 2147723     | 347206      |  95575      | 4640        | 12326       | 2685414     |         NA  |          NA |         NA  |         NA  |         NA  | 556.7222    | 90.00104    | 3873100     | 3860200     | \n",
       "| 2001        | 2213694     | 349773      |  97764      | 4962        | 12526       | 2757190     | 0.03071672  | 0.007393305 | 0.02290348  | 0.06939655  | 0.01622586  | 570.4662    | 90.13606    | 3916200     | 3886700     | \n",
       "| 2002        | 2292381     | 355373      | 101532      | 5417        | 13139       | 2847817     | 0.06735412  | 0.023522059 | 0.06232801  | 0.16745690  | 0.06595814  | 580.5701    | 90.00203    | 3989500     | 3951200     | \n",
       "| 2003        | 2395163     | 364051      | 106665      | 5841        | 13777       | 2968279     | 0.11521039  | 0.048515867 | 0.11603453  | 0.25883621  | 0.11771864  | 594.7465    | 90.39804    | 4061600     | 4027700     | \n",
       "| 2004        | 2490925     | 375790      | 113522      | 6317        | 14429       | 3088617     | 0.15979807  | 0.082325766 | 0.18777923  | 0.36142241  | 0.17061496  | 609.4006    | 91.93639    | 4114300     | 4088700     | \n",
       "| 2005        | 2578662     | 388223      | 119559      | 6697        | 15043       | 3204735     | 0.20064925  | 0.118134479 | 0.25094428  | 0.44331897  | 0.22042836  | 623.7843    | 93.91204    | 4161000     | 4136000     | \n",
       "\n",
       "\n"
      ],
      "text/plain": [
       "  Period Light_passenger Light_commercial Trucks Bus  Other Total  \n",
       "1 2000   2147723         347206            95575 4640 12326 2685414\n",
       "2 2001   2213694         349773            97764 4962 12526 2757190\n",
       "3 2002   2292381         355373           101532 5417 13139 2847817\n",
       "4 2003   2395163         364051           106665 5841 13777 2968279\n",
       "5 2004   2490925         375790           113522 6317 14429 3088617\n",
       "6 2005   2578662         388223           119559 6697 15043 3204735\n",
       "  Light_passenger_increasing_rate Light_commercial_increasing_rate\n",
       "1         NA                               NA                     \n",
       "2 0.03071672                      0.007393305                     \n",
       "3 0.06735412                      0.023522059                     \n",
       "4 0.11521039                      0.048515867                     \n",
       "5 0.15979807                      0.082325766                     \n",
       "6 0.20064925                      0.118134479                     \n",
       "  Trucks_increasing_rate Bus_increasing_rate Overall_increasing_rate\n",
       "1         NA                     NA                  NA             \n",
       "2 0.02290348             0.06939655          0.01622586             \n",
       "3 0.06232801             0.16745690          0.06595814             \n",
       "4 0.11603453             0.25883621          0.11771864             \n",
       "5 0.18777923             0.36142241          0.17061496             \n",
       "6 0.25094428             0.44331897          0.22042836             \n",
       "  Light_passenger_per_thousand Light_commercial_per_thousand Total_population\n",
       "1 556.7222                     90.00104                      3873100         \n",
       "2 570.4662                     90.13606                      3916200         \n",
       "3 580.5701                     90.00203                      3989500         \n",
       "4 594.7465                     90.39804                      4061600         \n",
       "5 609.4006                     91.93639                      4114300         \n",
       "6 623.7843                     93.91204                      4161000         \n",
       "  Year_average_total\n",
       "1 3860200           \n",
       "2 3886700           \n",
       "3 3951200           \n",
       "4 4027700           \n",
       "5 4088700           \n",
       "6 4136000           "
      ]
     },
     "metadata": {},
     "output_type": "display_data"
    }
   ],
   "source": [
    "#rename the variables for fleet_population in case the error message came up in the next\n",
    "new_names_FP = c(\"Period\",\"Light_passenger\",\"Light_commercial\", \"Trucks\",\n",
    "            \"Bus\", \"Other\", \"Total\", \"Light_passenger_increasing_rate\", \"Light_commercial_increasing_rate\",\n",
    "                 \"Trucks_increasing_rate\",\"Bus_increasing_rate\",\"Overall_increasing_rate\",\n",
    "                 \"Light_passenger_per_thousand\", \"Light_commercial_per_thousand\",\"Total_population\", \"Year_average_total\")\n",
    "names(fleet_population) <- new_names_FP\n",
    "head(fleet_population)"
   ]
  },
  {
   "cell_type": "markdown",
   "metadata": {},
   "source": [
    "Firstly, we start looking for the increasing rate for each type of vehicle."
   ]
  },
  {
   "cell_type": "code",
   "execution_count": 24,
   "metadata": {},
   "outputs": [
    {
     "name": "stderr",
     "output_type": "stream",
     "text": [
      "Warning message:\n",
      "\"Removed 1 rows containing missing values (geom_path).\"Warning message:\n",
      "\"Removed 1 rows containing missing values (geom_path).\"Warning message:\n",
      "\"Removed 1 rows containing missing values (geom_path).\"Warning message:\n",
      "\"Removed 1 rows containing missing values (geom_path).\"Warning message:\n",
      "\"Removed 1 rows containing missing values (geom_path).\""
     ]
    },
    {
     "data": {},
     "metadata": {},
     "output_type": "display_data"
    },
    {
     "data": {
      "image/png": "[encoded data removed]",
      "text/plain": [
       "plot without title"
      ]
     },
     "metadata": {},
     "output_type": "display_data"
    }
   ],
   "source": [
    "fleet_population %>%\n",
    "\n",
    "#Then we plot year by the number of differen type of vehicles for per thousand people \n",
    "ggplot()+\n",
    "    geom_line(aes(x = Period, y = Light_passenger_increasing_rate, color='Light_passenger_increasing_rate'))+\n",
    "    geom_line(aes(x = Period, y = Light_commercial_increasing_rate, color='Light_commercial_increasing_rate' ))+\n",
    "    geom_line(aes(x = Period, y = Trucks_increasing_rate, color ='Trucks_increasing_rate'))+\n",
    "    geom_line(aes(x = Period, y = Bus_increasing_rate, color ='Bus_increasing_rate'))+\n",
    "    geom_line(aes(x = Period, y = Overall_increasing_rate, color ='Overall_increasing_rate'))+\n",
    "\n",
    "\n",
    "#add title and set it in the centre\n",
    "    ggtitle(\"Increasing rate for different type of vehicles \n",
    "(excluding 2 wheelers) \n",
    "in New Zealand\") + \n",
    "    theme(plot.title = element_text(hjust = 0.5))+\n",
    "#add labels\n",
    "    xlab(\"Year\") + \n",
    "    ylab(\"Increasing rate\") \n"
   ]
  },
  {
   "cell_type": "markdown",
   "metadata": {},
   "source": [
    "**Comment:**\n",
    "\n",
    "Overall, the increasing rate of Light passenger, Trucks and Light commercial were fastly growing after 2011 whereas increasing rate on Bus was steeply growing all the time."
   ]
  },
  {
   "cell_type": "markdown",
   "metadata": {},
   "source": [
    "Now we can see whether vehicle ownership was changing on a per capita basis."
   ]
  },
  {
   "cell_type": "code",
   "execution_count": 25,
   "metadata": {},
   "outputs": [
    {
     "data": {},
     "metadata": {},
     "output_type": "display_data"
    },
    {
     "data": {
      "image/png": "[encoded data removed]",
      "text/plain": [
       "plot without title"
      ]
     },
     "metadata": {},
     "output_type": "display_data"
    }
   ],
   "source": [
    "fleet_population %>%\n",
    "\n",
    "#we compute and create the number of vehicles per thousand people by adding all the types of vehicles\n",
    "#together to divide total number of people then multiplying 1000.\n",
    "     mutate(Average_vehicle_per_thousand = (Light_passenger + Light_commercial + Trucks + Bus)/ Year_average_total*1000) %>%\n",
    "     mutate(Heavy_vehicle_per_thousand = (Trucks + Bus)/ Year_average_total*1000)%>%\n",
    "#Then we plot year by the number of different types of vehicles per thousand people \n",
    "ggplot()+\n",
    "    geom_line(aes(x = Period, y = Average_vehicle_per_thousand, color='Average vehicle per thousand'))+\n",
    "    geom_line(aes(x = Period, y = Light_passenger_per_thousand, color='Light passenger per thousand' ))+\n",
    "    geom_line(aes(x = Period, y = Light_commercial_per_thousand, color ='Light commercial per thousand'))+\n",
    "    geom_line(aes(x = Period, y = Heavy_vehicle_per_thousand, color ='Heavy vehicle per thousand'))+\n",
    "\n",
    "#add title and set it in the centre\n",
    "    ggtitle(\"Different type of vehicles (excluding 2 wheelers) \n",
    "Per Thousand People in New Zealand\") + \n",
    "    theme(plot.title = element_text(hjust = 0.5))+\n",
    "#add labels\n",
    "    xlab(\"Year\") + \n",
    "    ylab(\"Vehicles per Thousand People\") \n",
    "\n"
   ]
  },
  {
   "cell_type": "markdown",
   "metadata": {},
   "source": [
    "Comments:\n",
    "\n",
    "Overall, every type of vehicle per thousands people was increasing by year. \n",
    "\n",
    "However, we figured out some interesting patterns after we looked up the details about this plot. \n",
    "\n",
    "Light passenger vehicle (per thousands people) was steeply increasing by years from 2000 to 2007 whereas it deceased by years from 2008 to 2011. But it was increasing again after 2012 and reached the top around 760 vehicles per thousands people.\n",
    "\n",
    "Comparing with Light passenger vehicle, Light commercial vehicle was increasing steadily and Heavy vehicle has slowly grown. \n"
   ]
  },
  {
   "cell_type": "markdown",
   "metadata": {},
   "source": [
    "# Fuel usage "
   ]
  },
  {
   "cell_type": "markdown",
   "metadata": {},
   "source": [
    "**Now**, we started to think about petrol being one of possible reasons for the trend of the last plot."
   ]
  },
  {
   "cell_type": "code",
   "execution_count": 26,
   "metadata": {},
   "outputs": [
    {
     "name": "stdout",
     "output_type": "stream",
     "text": [
      "Observations: 17\n",
      "Variables: 5\n",
      "$ Year                          <dbl> 2001, 2002, 2003, 2004, 2005, 2006, 2...\n",
      "$ `NZ Litres (million) (*)`     <dbl> 2867.254, 2965.375, 3056.112, 3166.00...\n",
      "$ `On road - min fuel estimate` <dbl> 2703.534, 2796.052, 2881.608, 2985.22...\n",
      "$ `On road - max fuel estimate` <dbl> 2732.493, 2826.002, 2912.475, 3017.19...\n",
      "$ `Km (million)`                <dbl> 28672.11, 29467.01, 30096.85, 30576.8...\n"
     ]
    }
   ],
   "source": [
    "#read file for estimated petrol usage \n",
    "Fuel <- read_excel(\"NZ-Vehicle-Fleet-Graphs-2017-WEB.xlsx\",sheet = 8, range = \"A4:E21\")\n",
    "\n",
    "#Check data frame\n",
    "Fuel %>% \n",
    "    glimpse()"
   ]
  },
  {
   "cell_type": "code",
   "execution_count": 27,
   "metadata": {},
   "outputs": [
    {
     "name": "stdout",
     "output_type": "stream",
     "text": [
      "Observations: 16\n",
      "Variables: 5\n",
      "$ Year               <chr> \"2001\", \"2002\", \"2003\", \"2004\", \"2005\", \"2006\", ...\n",
      "$ `Light passenger`  <dbl> 6.846762, 7.146385, 7.456269, 7.751257, 7.623133...\n",
      "$ `Light commercial` <dbl> 1.431631, 1.491567, 1.518686, 1.516918, 1.573049...\n",
      "$ Motorcycle         <dbl> 0.02638895, 0.02650619, 0.02718043, 0.02827028, ...\n",
      "$ `Heavy fleet`      <dbl> 2.381918, 2.561941, 2.625965, 2.639755, 2.843966...\n"
     ]
    }
   ],
   "source": [
    "#read file for CO2 emission for each vhicle type\n",
    "CO2 <- read_excel(\"NZ-Vehicle-Fleet-Graphs-2017-WEB.xlsx\",sheet = 9, range = \"A3:E19\")\n",
    "\n",
    "#Check data frame\n",
    "CO2 %>% \n",
    "    glimpse()"
   ]
  },
  {
   "cell_type": "code",
   "execution_count": 28,
   "metadata": {},
   "outputs": [
    {
     "name": "stdout",
     "output_type": "stream",
     "text": [
      "Observations: 16\n",
      "Variables: 5\n",
      "$ Year               <dbl> 2001, 2002, 2003, 2004, 2005, 2006, 2007, 2008, ...\n",
      "$ `Light passenger`  <dbl> 6.846762, 7.146385, 7.456269, 7.751257, 7.623133...\n",
      "$ `Light commercial` <dbl> 1.431631, 1.491567, 1.518686, 1.516918, 1.573049...\n",
      "$ Motorcycle         <dbl> 0.02638895, 0.02650619, 0.02718043, 0.02827028, ...\n",
      "$ `Heavy fleet`      <dbl> 2.381918, 2.561941, 2.625965, 2.639755, 2.843966...\n"
     ]
    }
   ],
   "source": [
    "#change Year to numeric \n",
    "CO2$Year <- as.numeric(CO2$Year)\n",
    "\n",
    "#check again\n",
    "CO2 %>% \n",
    "    glimpse()"
   ]
  },
  {
   "cell_type": "code",
   "execution_count": 29,
   "metadata": {},
   "outputs": [
    {
     "data": {
      "text/html": [
       "<table>\n",
       "<thead><tr><th scope=col>Year</th><th scope=col>NZ_million_litres</th><th scope=col>On_road_min_fuel_estimate</th><th scope=col>On_road_max_fuel_estimate</th><th scope=col>million_Km</th><th scope=col>Light_passenger_emission</th><th scope=col>Light_commercial_emission</th><th scope=col>Motorcycle_emission</th><th scope=col>Heavy_fleet_emission</th></tr></thead>\n",
       "<tbody>\n",
       "\t<tr><td>2001      </td><td>2867.254  </td><td>2703.534  </td><td>2732.493  </td><td>28672.11  </td><td>6.846762  </td><td>1.431631  </td><td>0.02638895</td><td>2.381918  </td></tr>\n",
       "\t<tr><td>2002      </td><td>2965.375  </td><td>2796.052  </td><td>2826.002  </td><td>29467.01  </td><td>7.146385  </td><td>1.491567  </td><td>0.02650619</td><td>2.561941  </td></tr>\n",
       "\t<tr><td>2003      </td><td>3056.112  </td><td>2881.608  </td><td>2912.475  </td><td>30096.85  </td><td>7.456269  </td><td>1.518686  </td><td>0.02718043</td><td>2.625965  </td></tr>\n",
       "\t<tr><td>2004      </td><td>3166.000  </td><td>2985.222  </td><td>3017.198  </td><td>30576.89  </td><td>7.751257  </td><td>1.516918  </td><td>0.02827028</td><td>2.639755  </td></tr>\n",
       "\t<tr><td>2005      </td><td>3096.046  </td><td>2919.262  </td><td>2950.532  </td><td>30565.61  </td><td>7.623133  </td><td>1.573049  </td><td>0.03075303</td><td>2.843966  </td></tr>\n",
       "\t<tr><td>2006      </td><td>3120.356  </td><td>2942.184  </td><td>2973.700  </td><td>30273.37  </td><td>7.713956  </td><td>1.612273  </td><td>0.03631712</td><td>2.903354  </td></tr>\n",
       "\t<tr><td>2007      </td><td>3176.848  </td><td>2995.450  </td><td>3027.536  </td><td>30549.80  </td><td>7.862617  </td><td>1.671616  </td><td>0.03953637</td><td>2.992331  </td></tr>\n",
       "\t<tr><td>2008      </td><td>3125.316  </td><td>2946.861  </td><td>2978.427  </td><td>29874.51  </td><td>7.753942  </td><td>1.722482  </td><td>0.04424637</td><td>3.059329  </td></tr>\n",
       "\t<tr><td>2009      </td><td>3082.156  </td><td>2906.165  </td><td>2937.295  </td><td>29922.53  </td><td>7.683911  </td><td>1.734440  </td><td>0.04518294</td><td>2.974566  </td></tr>\n",
       "\t<tr><td>2010      </td><td>3101.171  </td><td>2924.094  </td><td>2955.416  </td><td>29823.52  </td><td>7.751949  </td><td>1.793192  </td><td>0.04545149</td><td>3.092607  </td></tr>\n",
       "\t<tr><td>2011      </td><td>3050.995  </td><td>2876.784  </td><td>2907.599  </td><td>29333.60  </td><td>7.626309  </td><td>1.831266  </td><td>0.04420221</td><td>3.180523  </td></tr>\n",
       "\t<tr><td>2012      </td><td>2984.635  </td><td>2814.212  </td><td>2844.357  </td><td>29225.07  </td><td>7.493929  </td><td>1.853168  </td><td>0.04367283</td><td>3.191229  </td></tr>\n",
       "\t<tr><td>2013      </td><td>2973.670  </td><td>2803.873  </td><td>2833.907  </td><td>29390.16  </td><td>7.462746  </td><td>1.917205  </td><td>0.04431666</td><td>3.262032  </td></tr>\n",
       "\t<tr><td>2014      </td><td>2972.185  </td><td>2802.473  </td><td>2832.492  </td><td>29850.90  </td><td>7.474047  </td><td>1.977808  </td><td>0.04454887</td><td>3.318496  </td></tr>\n",
       "\t<tr><td>2015      </td><td>3060.356  </td><td>2885.610  </td><td>2916.520  </td><td>30803.96  </td><td>7.694332  </td><td>2.120169  </td><td>0.04616040</td><td>3.424139  </td></tr>\n",
       "\t<tr><td>2016      </td><td>3123.607  </td><td>2945.249  </td><td>2976.798  </td><td>32114.42  </td><td>7.857082  </td><td>2.238513  </td><td>0.04755275</td><td>3.469453  </td></tr>\n",
       "</tbody>\n",
       "</table>\n"
      ],
      "text/latex": [
       "\\begin{tabular}{r|lllllllll}\n",
       " Year & NZ\\_million\\_litres & On\\_road\\_min\\_fuel\\_estimate & On\\_road\\_max\\_fuel\\_estimate & million\\_Km & Light\\_passenger\\_emission & Light\\_commercial\\_emission & Motorcycle\\_emission & Heavy\\_fleet\\_emission\\\\\n",
       "\\hline\n",
       "\t 2001       & 2867.254   & 2703.534   & 2732.493   & 28672.11   & 6.846762   & 1.431631   & 0.02638895 & 2.381918  \\\\\n",
       "\t 2002       & 2965.375   & 2796.052   & 2826.002   & 29467.01   & 7.146385   & 1.491567   & 0.02650619 & 2.561941  \\\\\n",
       "\t 2003       & 3056.112   & 2881.608   & 2912.475   & 30096.85   & 7.456269   & 1.518686   & 0.02718043 & 2.625965  \\\\\n",
       "\t 2004       & 3166.000   & 2985.222   & 3017.198   & 30576.89   & 7.751257   & 1.516918   & 0.02827028 & 2.639755  \\\\\n",
       "\t 2005       & 3096.046   & 2919.262   & 2950.532   & 30565.61   & 7.623133   & 1.573049   & 0.03075303 & 2.843966  \\\\\n",
       "\t 2006       & 3120.356   & 2942.184   & 2973.700   & 30273.37   & 7.713956   & 1.612273   & 0.03631712 & 2.903354  \\\\\n",
       "\t 2007       & 3176.848   & 2995.450   & 3027.536   & 30549.80   & 7.862617   & 1.671616   & 0.03953637 & 2.992331  \\\\\n",
       "\t 2008       & 3125.316   & 2946.861   & 2978.427   & 29874.51   & 7.753942   & 1.722482   & 0.04424637 & 3.059329  \\\\\n",
       "\t 2009       & 3082.156   & 2906.165   & 2937.295   & 29922.53   & 7.683911   & 1.734440   & 0.04518294 & 2.974566  \\\\\n",
       "\t 2010       & 3101.171   & 2924.094   & 2955.416   & 29823.52   & 7.751949   & 1.793192   & 0.04545149 & 3.092607  \\\\\n",
       "\t 2011       & 3050.995   & 2876.784   & 2907.599   & 29333.60   & 7.626309   & 1.831266   & 0.04420221 & 3.180523  \\\\\n",
       "\t 2012       & 2984.635   & 2814.212   & 2844.357   & 29225.07   & 7.493929   & 1.853168   & 0.04367283 & 3.191229  \\\\\n",
       "\t 2013       & 2973.670   & 2803.873   & 2833.907   & 29390.16   & 7.462746   & 1.917205   & 0.04431666 & 3.262032  \\\\\n",
       "\t 2014       & 2972.185   & 2802.473   & 2832.492   & 29850.90   & 7.474047   & 1.977808   & 0.04454887 & 3.318496  \\\\\n",
       "\t 2015       & 3060.356   & 2885.610   & 2916.520   & 30803.96   & 7.694332   & 2.120169   & 0.04616040 & 3.424139  \\\\\n",
       "\t 2016       & 3123.607   & 2945.249   & 2976.798   & 32114.42   & 7.857082   & 2.238513   & 0.04755275 & 3.469453  \\\\\n",
       "\\end{tabular}\n"
      ],
      "text/markdown": [
       "\n",
       "Year | NZ_million_litres | On_road_min_fuel_estimate | On_road_max_fuel_estimate | million_Km | Light_passenger_emission | Light_commercial_emission | Motorcycle_emission | Heavy_fleet_emission | \n",
       "|---|---|---|---|---|---|---|---|---|---|---|---|---|---|---|---|\n",
       "| 2001       | 2867.254   | 2703.534   | 2732.493   | 28672.11   | 6.846762   | 1.431631   | 0.02638895 | 2.381918   | \n",
       "| 2002       | 2965.375   | 2796.052   | 2826.002   | 29467.01   | 7.146385   | 1.491567   | 0.02650619 | 2.561941   | \n",
       "| 2003       | 3056.112   | 2881.608   | 2912.475   | 30096.85   | 7.456269   | 1.518686   | 0.02718043 | 2.625965   | \n",
       "| 2004       | 3166.000   | 2985.222   | 3017.198   | 30576.89   | 7.751257   | 1.516918   | 0.02827028 | 2.639755   | \n",
       "| 2005       | 3096.046   | 2919.262   | 2950.532   | 30565.61   | 7.623133   | 1.573049   | 0.03075303 | 2.843966   | \n",
       "| 2006       | 3120.356   | 2942.184   | 2973.700   | 30273.37   | 7.713956   | 1.612273   | 0.03631712 | 2.903354   | \n",
       "| 2007       | 3176.848   | 2995.450   | 3027.536   | 30549.80   | 7.862617   | 1.671616   | 0.03953637 | 2.992331   | \n",
       "| 2008       | 3125.316   | 2946.861   | 2978.427   | 29874.51   | 7.753942   | 1.722482   | 0.04424637 | 3.059329   | \n",
       "| 2009       | 3082.156   | 2906.165   | 2937.295   | 29922.53   | 7.683911   | 1.734440   | 0.04518294 | 2.974566   | \n",
       "| 2010       | 3101.171   | 2924.094   | 2955.416   | 29823.52   | 7.751949   | 1.793192   | 0.04545149 | 3.092607   | \n",
       "| 2011       | 3050.995   | 2876.784   | 2907.599   | 29333.60   | 7.626309   | 1.831266   | 0.04420221 | 3.180523   | \n",
       "| 2012       | 2984.635   | 2814.212   | 2844.357   | 29225.07   | 7.493929   | 1.853168   | 0.04367283 | 3.191229   | \n",
       "| 2013       | 2973.670   | 2803.873   | 2833.907   | 29390.16   | 7.462746   | 1.917205   | 0.04431666 | 3.262032   | \n",
       "| 2014       | 2972.185   | 2802.473   | 2832.492   | 29850.90   | 7.474047   | 1.977808   | 0.04454887 | 3.318496   | \n",
       "| 2015       | 3060.356   | 2885.610   | 2916.520   | 30803.96   | 7.694332   | 2.120169   | 0.04616040 | 3.424139   | \n",
       "| 2016       | 3123.607   | 2945.249   | 2976.798   | 32114.42   | 7.857082   | 2.238513   | 0.04755275 | 3.469453   | \n",
       "\n",
       "\n"
      ],
      "text/plain": [
       "   Year NZ_million_litres On_road_min_fuel_estimate On_road_max_fuel_estimate\n",
       "1  2001 2867.254          2703.534                  2732.493                 \n",
       "2  2002 2965.375          2796.052                  2826.002                 \n",
       "3  2003 3056.112          2881.608                  2912.475                 \n",
       "4  2004 3166.000          2985.222                  3017.198                 \n",
       "5  2005 3096.046          2919.262                  2950.532                 \n",
       "6  2006 3120.356          2942.184                  2973.700                 \n",
       "7  2007 3176.848          2995.450                  3027.536                 \n",
       "8  2008 3125.316          2946.861                  2978.427                 \n",
       "9  2009 3082.156          2906.165                  2937.295                 \n",
       "10 2010 3101.171          2924.094                  2955.416                 \n",
       "11 2011 3050.995          2876.784                  2907.599                 \n",
       "12 2012 2984.635          2814.212                  2844.357                 \n",
       "13 2013 2973.670          2803.873                  2833.907                 \n",
       "14 2014 2972.185          2802.473                  2832.492                 \n",
       "15 2015 3060.356          2885.610                  2916.520                 \n",
       "16 2016 3123.607          2945.249                  2976.798                 \n",
       "   million_Km Light_passenger_emission Light_commercial_emission\n",
       "1  28672.11   6.846762                 1.431631                 \n",
       "2  29467.01   7.146385                 1.491567                 \n",
       "3  30096.85   7.456269                 1.518686                 \n",
       "4  30576.89   7.751257                 1.516918                 \n",
       "5  30565.61   7.623133                 1.573049                 \n",
       "6  30273.37   7.713956                 1.612273                 \n",
       "7  30549.80   7.862617                 1.671616                 \n",
       "8  29874.51   7.753942                 1.722482                 \n",
       "9  29922.53   7.683911                 1.734440                 \n",
       "10 29823.52   7.751949                 1.793192                 \n",
       "11 29333.60   7.626309                 1.831266                 \n",
       "12 29225.07   7.493929                 1.853168                 \n",
       "13 29390.16   7.462746                 1.917205                 \n",
       "14 29850.90   7.474047                 1.977808                 \n",
       "15 30803.96   7.694332                 2.120169                 \n",
       "16 32114.42   7.857082                 2.238513                 \n",
       "   Motorcycle_emission Heavy_fleet_emission\n",
       "1  0.02638895          2.381918            \n",
       "2  0.02650619          2.561941            \n",
       "3  0.02718043          2.625965            \n",
       "4  0.02827028          2.639755            \n",
       "5  0.03075303          2.843966            \n",
       "6  0.03631712          2.903354            \n",
       "7  0.03953637          2.992331            \n",
       "8  0.04424637          3.059329            \n",
       "9  0.04518294          2.974566            \n",
       "10 0.04545149          3.092607            \n",
       "11 0.04420221          3.180523            \n",
       "12 0.04367283          3.191229            \n",
       "13 0.04431666          3.262032            \n",
       "14 0.04454887          3.318496            \n",
       "15 0.04616040          3.424139            \n",
       "16 0.04755275          3.469453            "
      ]
     },
     "metadata": {},
     "output_type": "display_data"
    }
   ],
   "source": [
    "#Join Fuel and CO2 in the same table by using Year as the key\n",
    "FuelCO2 <- inner_join(Fuel, CO2, by = c(\"Year\", \"Year\"))\n",
    "\n",
    "#rename variables \n",
    "FuelCO2_names = c(\"Year\",\"NZ_million_litres\",\"On_road_min_fuel_estimate\", \"On_road_max_fuel_estimate\", \"million_Km\",\n",
    "            \"Light_passenger_emission\", \"Light_commercial_emission\", \"Motorcycle_emission\",\n",
    "            \"Heavy_fleet_emission\")\n",
    "names(FuelCO2) <- FuelCO2_names\n",
    " \n",
    "FuelCO2"
   ]
  },
  {
   "cell_type": "code",
   "execution_count": 30,
   "metadata": {},
   "outputs": [
    {
     "data": {
      "text/html": [
       "<table>\n",
       "<thead><tr><th scope=col>Year</th><th scope=col>NZ_million_litres</th><th scope=col>On_road_min_fuel_estimate</th><th scope=col>On_road_max_fuel_estimate</th><th scope=col>million_Km</th><th scope=col>Light_passenger_emission</th><th scope=col>Light_commercial_emission</th><th scope=col>Motorcycle_emission</th><th scope=col>Heavy_fleet_emission</th><th scope=col>Total_population</th><th scope=col>Year_average_total</th></tr></thead>\n",
       "<tbody>\n",
       "\t<tr><td>2001      </td><td>2867.254  </td><td>2703.534  </td><td>2732.493  </td><td>28672.11  </td><td>6.846762  </td><td>1.431631  </td><td>0.02638895</td><td>2.381918  </td><td>3916200   </td><td>3886700   </td></tr>\n",
       "\t<tr><td>2002      </td><td>2965.375  </td><td>2796.052  </td><td>2826.002  </td><td>29467.01  </td><td>7.146385  </td><td>1.491567  </td><td>0.02650619</td><td>2.561941  </td><td>3989500   </td><td>3951200   </td></tr>\n",
       "\t<tr><td>2003      </td><td>3056.112  </td><td>2881.608  </td><td>2912.475  </td><td>30096.85  </td><td>7.456269  </td><td>1.518686  </td><td>0.02718043</td><td>2.625965  </td><td>4061600   </td><td>4027700   </td></tr>\n",
       "\t<tr><td>2004      </td><td>3166.000  </td><td>2985.222  </td><td>3017.198  </td><td>30576.89  </td><td>7.751257  </td><td>1.516918  </td><td>0.02827028</td><td>2.639755  </td><td>4114300   </td><td>4088700   </td></tr>\n",
       "\t<tr><td>2005      </td><td>3096.046  </td><td>2919.262  </td><td>2950.532  </td><td>30565.61  </td><td>7.623133  </td><td>1.573049  </td><td>0.03075303</td><td>2.843966  </td><td>4161000   </td><td>4136000   </td></tr>\n",
       "\t<tr><td>2006      </td><td>3120.356  </td><td>2942.184  </td><td>2973.700  </td><td>30273.37  </td><td>7.713956  </td><td>1.612273  </td><td>0.03631712</td><td>2.903354  </td><td>4209100   </td><td>4185300   </td></tr>\n",
       "\t<tr><td>2007      </td><td>3176.848  </td><td>2995.450  </td><td>3027.536  </td><td>30549.80  </td><td>7.862617  </td><td>1.671616  </td><td>0.03953637</td><td>2.992331  </td><td>4245700   </td><td>4226200   </td></tr>\n",
       "\t<tr><td>2008      </td><td>3125.316  </td><td>2946.861  </td><td>2978.427  </td><td>29874.51  </td><td>7.753942  </td><td>1.722482  </td><td>0.04424637</td><td>3.059329  </td><td>4280300   </td><td>4262000   </td></tr>\n",
       "\t<tr><td>2009      </td><td>3082.156  </td><td>2906.165  </td><td>2937.295  </td><td>29922.53  </td><td>7.683911  </td><td>1.734440  </td><td>0.04518294</td><td>2.974566  </td><td>4332100   </td><td>4304900   </td></tr>\n",
       "\t<tr><td>2010      </td><td>3101.171  </td><td>2924.094  </td><td>2955.416  </td><td>29823.52  </td><td>7.751949  </td><td>1.793192  </td><td>0.04545149</td><td>3.092607  </td><td>4373900   </td><td>4353000   </td></tr>\n",
       "\t<tr><td>2011      </td><td>3050.995  </td><td>2876.784  </td><td>2907.599  </td><td>29333.60  </td><td>7.626309  </td><td>1.831266  </td><td>0.04420221</td><td>3.180523  </td><td>4399400   </td><td>4386300   </td></tr>\n",
       "\t<tr><td>2012      </td><td>2984.635  </td><td>2814.212  </td><td>2844.357  </td><td>29225.07  </td><td>7.493929  </td><td>1.853168  </td><td>0.04367283</td><td>3.191229  </td><td>4425900   </td><td>4410700   </td></tr>\n",
       "\t<tr><td>2013      </td><td>2973.670  </td><td>2803.873  </td><td>2833.907  </td><td>29390.16  </td><td>7.462746  </td><td>1.917205  </td><td>0.04431666</td><td>3.262032  </td><td>4475800   </td><td>4446700   </td></tr>\n",
       "\t<tr><td>2014      </td><td>2972.185  </td><td>2802.473  </td><td>2832.492  </td><td>29850.90  </td><td>7.474047  </td><td>1.977808  </td><td>0.04454887</td><td>3.318496  </td><td>4554600   </td><td>4513100   </td></tr>\n",
       "\t<tr><td>2015      </td><td>3060.356  </td><td>2885.610  </td><td>2916.520  </td><td>30803.96  </td><td>7.694332  </td><td>2.120169  </td><td>0.04616040</td><td>3.424139  </td><td>4647300   </td><td>4599300   </td></tr>\n",
       "\t<tr><td>2016      </td><td>3123.607  </td><td>2945.249  </td><td>2976.798  </td><td>32114.42  </td><td>7.857082  </td><td>2.238513  </td><td>0.04755275</td><td>3.469453  </td><td>4747200   </td><td>4696500   </td></tr>\n",
       "</tbody>\n",
       "</table>\n"
      ],
      "text/latex": [
       "\\begin{tabular}{r|lllllllllll}\n",
       " Year & NZ\\_million\\_litres & On\\_road\\_min\\_fuel\\_estimate & On\\_road\\_max\\_fuel\\_estimate & million\\_Km & Light\\_passenger\\_emission & Light\\_commercial\\_emission & Motorcycle\\_emission & Heavy\\_fleet\\_emission & Total\\_population & Year\\_average\\_total\\\\\n",
       "\\hline\n",
       "\t 2001       & 2867.254   & 2703.534   & 2732.493   & 28672.11   & 6.846762   & 1.431631   & 0.02638895 & 2.381918   & 3916200    & 3886700   \\\\\n",
       "\t 2002       & 2965.375   & 2796.052   & 2826.002   & 29467.01   & 7.146385   & 1.491567   & 0.02650619 & 2.561941   & 3989500    & 3951200   \\\\\n",
       "\t 2003       & 3056.112   & 2881.608   & 2912.475   & 30096.85   & 7.456269   & 1.518686   & 0.02718043 & 2.625965   & 4061600    & 4027700   \\\\\n",
       "\t 2004       & 3166.000   & 2985.222   & 3017.198   & 30576.89   & 7.751257   & 1.516918   & 0.02827028 & 2.639755   & 4114300    & 4088700   \\\\\n",
       "\t 2005       & 3096.046   & 2919.262   & 2950.532   & 30565.61   & 7.623133   & 1.573049   & 0.03075303 & 2.843966   & 4161000    & 4136000   \\\\\n",
       "\t 2006       & 3120.356   & 2942.184   & 2973.700   & 30273.37   & 7.713956   & 1.612273   & 0.03631712 & 2.903354   & 4209100    & 4185300   \\\\\n",
       "\t 2007       & 3176.848   & 2995.450   & 3027.536   & 30549.80   & 7.862617   & 1.671616   & 0.03953637 & 2.992331   & 4245700    & 4226200   \\\\\n",
       "\t 2008       & 3125.316   & 2946.861   & 2978.427   & 29874.51   & 7.753942   & 1.722482   & 0.04424637 & 3.059329   & 4280300    & 4262000   \\\\\n",
       "\t 2009       & 3082.156   & 2906.165   & 2937.295   & 29922.53   & 7.683911   & 1.734440   & 0.04518294 & 2.974566   & 4332100    & 4304900   \\\\\n",
       "\t 2010       & 3101.171   & 2924.094   & 2955.416   & 29823.52   & 7.751949   & 1.793192   & 0.04545149 & 3.092607   & 4373900    & 4353000   \\\\\n",
       "\t 2011       & 3050.995   & 2876.784   & 2907.599   & 29333.60   & 7.626309   & 1.831266   & 0.04420221 & 3.180523   & 4399400    & 4386300   \\\\\n",
       "\t 2012       & 2984.635   & 2814.212   & 2844.357   & 29225.07   & 7.493929   & 1.853168   & 0.04367283 & 3.191229   & 4425900    & 4410700   \\\\\n",
       "\t 2013       & 2973.670   & 2803.873   & 2833.907   & 29390.16   & 7.462746   & 1.917205   & 0.04431666 & 3.262032   & 4475800    & 4446700   \\\\\n",
       "\t 2014       & 2972.185   & 2802.473   & 2832.492   & 29850.90   & 7.474047   & 1.977808   & 0.04454887 & 3.318496   & 4554600    & 4513100   \\\\\n",
       "\t 2015       & 3060.356   & 2885.610   & 2916.520   & 30803.96   & 7.694332   & 2.120169   & 0.04616040 & 3.424139   & 4647300    & 4599300   \\\\\n",
       "\t 2016       & 3123.607   & 2945.249   & 2976.798   & 32114.42   & 7.857082   & 2.238513   & 0.04755275 & 3.469453   & 4747200    & 4696500   \\\\\n",
       "\\end{tabular}\n"
      ],
      "text/markdown": [
       "\n",
       "Year | NZ_million_litres | On_road_min_fuel_estimate | On_road_max_fuel_estimate | million_Km | Light_passenger_emission | Light_commercial_emission | Motorcycle_emission | Heavy_fleet_emission | Total_population | Year_average_total | \n",
       "|---|---|---|---|---|---|---|---|---|---|---|---|---|---|---|---|\n",
       "| 2001       | 2867.254   | 2703.534   | 2732.493   | 28672.11   | 6.846762   | 1.431631   | 0.02638895 | 2.381918   | 3916200    | 3886700    | \n",
       "| 2002       | 2965.375   | 2796.052   | 2826.002   | 29467.01   | 7.146385   | 1.491567   | 0.02650619 | 2.561941   | 3989500    | 3951200    | \n",
       "| 2003       | 3056.112   | 2881.608   | 2912.475   | 30096.85   | 7.456269   | 1.518686   | 0.02718043 | 2.625965   | 4061600    | 4027700    | \n",
       "| 2004       | 3166.000   | 2985.222   | 3017.198   | 30576.89   | 7.751257   | 1.516918   | 0.02827028 | 2.639755   | 4114300    | 4088700    | \n",
       "| 2005       | 3096.046   | 2919.262   | 2950.532   | 30565.61   | 7.623133   | 1.573049   | 0.03075303 | 2.843966   | 4161000    | 4136000    | \n",
       "| 2006       | 3120.356   | 2942.184   | 2973.700   | 30273.37   | 7.713956   | 1.612273   | 0.03631712 | 2.903354   | 4209100    | 4185300    | \n",
       "| 2007       | 3176.848   | 2995.450   | 3027.536   | 30549.80   | 7.862617   | 1.671616   | 0.03953637 | 2.992331   | 4245700    | 4226200    | \n",
       "| 2008       | 3125.316   | 2946.861   | 2978.427   | 29874.51   | 7.753942   | 1.722482   | 0.04424637 | 3.059329   | 4280300    | 4262000    | \n",
       "| 2009       | 3082.156   | 2906.165   | 2937.295   | 29922.53   | 7.683911   | 1.734440   | 0.04518294 | 2.974566   | 4332100    | 4304900    | \n",
       "| 2010       | 3101.171   | 2924.094   | 2955.416   | 29823.52   | 7.751949   | 1.793192   | 0.04545149 | 3.092607   | 4373900    | 4353000    | \n",
       "| 2011       | 3050.995   | 2876.784   | 2907.599   | 29333.60   | 7.626309   | 1.831266   | 0.04420221 | 3.180523   | 4399400    | 4386300    | \n",
       "| 2012       | 2984.635   | 2814.212   | 2844.357   | 29225.07   | 7.493929   | 1.853168   | 0.04367283 | 3.191229   | 4425900    | 4410700    | \n",
       "| 2013       | 2973.670   | 2803.873   | 2833.907   | 29390.16   | 7.462746   | 1.917205   | 0.04431666 | 3.262032   | 4475800    | 4446700    | \n",
       "| 2014       | 2972.185   | 2802.473   | 2832.492   | 29850.90   | 7.474047   | 1.977808   | 0.04454887 | 3.318496   | 4554600    | 4513100    | \n",
       "| 2015       | 3060.356   | 2885.610   | 2916.520   | 30803.96   | 7.694332   | 2.120169   | 0.04616040 | 3.424139   | 4647300    | 4599300    | \n",
       "| 2016       | 3123.607   | 2945.249   | 2976.798   | 32114.42   | 7.857082   | 2.238513   | 0.04755275 | 3.469453   | 4747200    | 4696500    | \n",
       "\n",
       "\n"
      ],
      "text/plain": [
       "   Year NZ_million_litres On_road_min_fuel_estimate On_road_max_fuel_estimate\n",
       "1  2001 2867.254          2703.534                  2732.493                 \n",
       "2  2002 2965.375          2796.052                  2826.002                 \n",
       "3  2003 3056.112          2881.608                  2912.475                 \n",
       "4  2004 3166.000          2985.222                  3017.198                 \n",
       "5  2005 3096.046          2919.262                  2950.532                 \n",
       "6  2006 3120.356          2942.184                  2973.700                 \n",
       "7  2007 3176.848          2995.450                  3027.536                 \n",
       "8  2008 3125.316          2946.861                  2978.427                 \n",
       "9  2009 3082.156          2906.165                  2937.295                 \n",
       "10 2010 3101.171          2924.094                  2955.416                 \n",
       "11 2011 3050.995          2876.784                  2907.599                 \n",
       "12 2012 2984.635          2814.212                  2844.357                 \n",
       "13 2013 2973.670          2803.873                  2833.907                 \n",
       "14 2014 2972.185          2802.473                  2832.492                 \n",
       "15 2015 3060.356          2885.610                  2916.520                 \n",
       "16 2016 3123.607          2945.249                  2976.798                 \n",
       "   million_Km Light_passenger_emission Light_commercial_emission\n",
       "1  28672.11   6.846762                 1.431631                 \n",
       "2  29467.01   7.146385                 1.491567                 \n",
       "3  30096.85   7.456269                 1.518686                 \n",
       "4  30576.89   7.751257                 1.516918                 \n",
       "5  30565.61   7.623133                 1.573049                 \n",
       "6  30273.37   7.713956                 1.612273                 \n",
       "7  30549.80   7.862617                 1.671616                 \n",
       "8  29874.51   7.753942                 1.722482                 \n",
       "9  29922.53   7.683911                 1.734440                 \n",
       "10 29823.52   7.751949                 1.793192                 \n",
       "11 29333.60   7.626309                 1.831266                 \n",
       "12 29225.07   7.493929                 1.853168                 \n",
       "13 29390.16   7.462746                 1.917205                 \n",
       "14 29850.90   7.474047                 1.977808                 \n",
       "15 30803.96   7.694332                 2.120169                 \n",
       "16 32114.42   7.857082                 2.238513                 \n",
       "   Motorcycle_emission Heavy_fleet_emission Total_population Year_average_total\n",
       "1  0.02638895          2.381918             3916200          3886700           \n",
       "2  0.02650619          2.561941             3989500          3951200           \n",
       "3  0.02718043          2.625965             4061600          4027700           \n",
       "4  0.02827028          2.639755             4114300          4088700           \n",
       "5  0.03075303          2.843966             4161000          4136000           \n",
       "6  0.03631712          2.903354             4209100          4185300           \n",
       "7  0.03953637          2.992331             4245700          4226200           \n",
       "8  0.04424637          3.059329             4280300          4262000           \n",
       "9  0.04518294          2.974566             4332100          4304900           \n",
       "10 0.04545149          3.092607             4373900          4353000           \n",
       "11 0.04420221          3.180523             4399400          4386300           \n",
       "12 0.04367283          3.191229             4425900          4410700           \n",
       "13 0.04431666          3.262032             4475800          4446700           \n",
       "14 0.04454887          3.318496             4554600          4513100           \n",
       "15 0.04616040          3.424139             4647300          4599300           \n",
       "16 0.04755275          3.469453             4747200          4696500           "
      ]
     },
     "metadata": {},
     "output_type": "display_data"
    }
   ],
   "source": [
    "#join FuelCO2 and Population in the same table by using Year as the key\n",
    "fuelCO2pop <- inner_join(FuelCO2, population_new, by = c(\"Year\", \"Year\"))\n",
    "fuelCO2pop"
   ]
  },
  {
   "cell_type": "code",
   "execution_count": 31,
   "metadata": {},
   "outputs": [
    {
     "name": "stdout",
     "output_type": "stream",
     "text": [
      "Observations: 16\n",
      "Variables: 11\n",
      "$ Year                      <dbl> 2001, 2002, 2003, 2004, 2005, 2006, 2007,...\n",
      "$ NZ_million_litres         <dbl> 2867.254, 2965.375, 3056.112, 3166.000, 3...\n",
      "$ On_road_min_fuel_estimate <dbl> 2703.534, 2796.052, 2881.608, 2985.222, 2...\n",
      "$ On_road_max_fuel_estimate <dbl> 2732.493, 2826.002, 2912.475, 3017.198, 2...\n",
      "$ million_Km                <dbl> 28672.11, 29467.01, 30096.85, 30576.89, 3...\n",
      "$ Light_passenger_emission  <dbl> 6.846762, 7.146385, 7.456269, 7.751257, 7...\n",
      "$ Light_commercial_emission <dbl> 1.431631, 1.491567, 1.518686, 1.516918, 1...\n",
      "$ Motorcycle_emission       <dbl> 0.02638895, 0.02650619, 0.02718043, 0.028...\n",
      "$ Heavy_fleet_emission      <dbl> 2.381918, 2.561941, 2.625965, 2.639755, 2...\n",
      "$ Total_population          <dbl> 3916200, 3989500, 4061600, 4114300, 41610...\n",
      "$ Year_average_total        <dbl> 3886700, 3951200, 4027700, 4088700, 41360...\n"
     ]
    }
   ],
   "source": [
    "fuelCO2pop %>% glimpse()"
   ]
  },
  {
   "cell_type": "code",
   "execution_count": 32,
   "metadata": {},
   "outputs": [
    {
     "data": {},
     "metadata": {},
     "output_type": "display_data"
    },
    {
     "data": {
      "image/png": "[encoded data removed]",
      "text/plain": [
       "plot without title"
      ]
     },
     "metadata": {},
     "output_type": "display_data"
    }
   ],
   "source": [
    "#Compute the usage of fuel by year\n",
    "fuelCO2pop %>%\n",
    "ggplot(aes(x = Year, y = NZ_million_litres))+\n",
    "    geom_line()+ \n",
    "#plot year via litres_per_person\n",
    "    ggtitle(\"Fuel usage by Year in New Zealand\") + \n",
    "    theme(plot.title = element_text(hjust = 0.5))+\n",
    "    xlab(\"Year\") + ylab(\"Millions of litres\")"
   ]
  },
  {
   "cell_type": "markdown",
   "metadata": {},
   "source": [
    "**Comment:**\n"
   ]
  },
  {
   "cell_type": "markdown",
   "metadata": {},
   "source": [
    "Then, we want to discover more details about CO2 eimission for each type of Vehicle."
   ]
  },
  {
   "cell_type": "markdown",
   "metadata": {},
   "source": [
    "# CO2 emissions"
   ]
  },
  {
   "cell_type": "code",
   "execution_count": 33,
   "metadata": {},
   "outputs": [
    {
     "data": {
      "text/html": [
       "<table>\n",
       "<thead><tr><th scope=col>Year</th><th scope=col>Light_passenger_emission</th><th scope=col>Light_commercial_emission</th><th scope=col>Heavy_fleet_emission</th></tr></thead>\n",
       "<tbody>\n",
       "\t<tr><td>2001    </td><td>6.846762</td><td>1.431631</td><td>2.381918</td></tr>\n",
       "\t<tr><td>2002    </td><td>7.146385</td><td>1.491567</td><td>2.561941</td></tr>\n",
       "\t<tr><td>2003    </td><td>7.456269</td><td>1.518686</td><td>2.625965</td></tr>\n",
       "\t<tr><td>2004    </td><td>7.751257</td><td>1.516918</td><td>2.639755</td></tr>\n",
       "\t<tr><td>2005    </td><td>7.623133</td><td>1.573049</td><td>2.843966</td></tr>\n",
       "\t<tr><td>2006    </td><td>7.713956</td><td>1.612273</td><td>2.903354</td></tr>\n",
       "</tbody>\n",
       "</table>\n"
      ],
      "text/latex": [
       "\\begin{tabular}{r|llll}\n",
       " Year & Light\\_passenger\\_emission & Light\\_commercial\\_emission & Heavy\\_fleet\\_emission\\\\\n",
       "\\hline\n",
       "\t 2001     & 6.846762 & 1.431631 & 2.381918\\\\\n",
       "\t 2002     & 7.146385 & 1.491567 & 2.561941\\\\\n",
       "\t 2003     & 7.456269 & 1.518686 & 2.625965\\\\\n",
       "\t 2004     & 7.751257 & 1.516918 & 2.639755\\\\\n",
       "\t 2005     & 7.623133 & 1.573049 & 2.843966\\\\\n",
       "\t 2006     & 7.713956 & 1.612273 & 2.903354\\\\\n",
       "\\end{tabular}\n"
      ],
      "text/markdown": [
       "\n",
       "Year | Light_passenger_emission | Light_commercial_emission | Heavy_fleet_emission | \n",
       "|---|---|---|---|---|---|\n",
       "| 2001     | 6.846762 | 1.431631 | 2.381918 | \n",
       "| 2002     | 7.146385 | 1.491567 | 2.561941 | \n",
       "| 2003     | 7.456269 | 1.518686 | 2.625965 | \n",
       "| 2004     | 7.751257 | 1.516918 | 2.639755 | \n",
       "| 2005     | 7.623133 | 1.573049 | 2.843966 | \n",
       "| 2006     | 7.713956 | 1.612273 | 2.903354 | \n",
       "\n",
       "\n"
      ],
      "text/plain": [
       "  Year Light_passenger_emission Light_commercial_emission Heavy_fleet_emission\n",
       "1 2001 6.846762                 1.431631                  2.381918            \n",
       "2 2002 7.146385                 1.491567                  2.561941            \n",
       "3 2003 7.456269                 1.518686                  2.625965            \n",
       "4 2004 7.751257                 1.516918                  2.639755            \n",
       "5 2005 7.623133                 1.573049                  2.843966            \n",
       "6 2006 7.713956                 1.612273                  2.903354            "
      ]
     },
     "metadata": {},
     "output_type": "display_data"
    }
   ],
   "source": [
    "#Firstly, create a new dataframe by selecting the variables we want which is  a subset of fuelCO2pop\n",
    "new_fuel_CO2 <- fuelCO2pop %>%\n",
    "    select(Year,Light_passenger_emission,Light_commercial_emission,Heavy_fleet_emission)\n",
    "head(new_fuel_CO2)"
   ]
  },
  {
   "cell_type": "code",
   "execution_count": 34,
   "metadata": {},
   "outputs": [
    {
     "data": {
      "text/html": [
       "<ol class=list-inline>\n",
       "\t<li>16</li>\n",
       "\t<li>4</li>\n",
       "</ol>\n"
      ],
      "text/latex": [
       "\\begin{enumerate*}\n",
       "\\item 16\n",
       "\\item 4\n",
       "\\end{enumerate*}\n"
      ],
      "text/markdown": [
       "1. 16\n",
       "2. 4\n",
       "\n",
       "\n"
      ],
      "text/plain": [
       "[1] 16  4"
      ]
     },
     "metadata": {},
     "output_type": "display_data"
    }
   ],
   "source": [
    "#Retrieve the dimension of data\n",
    "dim(new_fuel_CO2)"
   ]
  },
  {
   "cell_type": "markdown",
   "metadata": {},
   "source": [
    "We have 16 rows and 4 variables for the data.\n",
    "\n",
    "With creating a bar chart, we need to convert from wide to long."
   ]
  },
  {
   "cell_type": "code",
   "execution_count": 35,
   "metadata": {},
   "outputs": [
    {
     "name": "stderr",
     "output_type": "stream",
     "text": [
      "\n",
      "Attaching package: 'reshape2'\n",
      "\n",
      "The following object is masked from 'package:tidyr':\n",
      "\n",
      "    smiths\n",
      "\n"
     ]
    },
    {
     "data": {
      "text/html": [
       "<table>\n",
       "<thead><tr><th scope=col>Year</th><th scope=col>variable</th><th scope=col>value</th></tr></thead>\n",
       "<tbody>\n",
       "\t<tr><td>2001                    </td><td>Light_passenger_emission</td><td>6.846762                </td></tr>\n",
       "\t<tr><td>2002                    </td><td>Light_passenger_emission</td><td>7.146385                </td></tr>\n",
       "\t<tr><td>2003                    </td><td>Light_passenger_emission</td><td>7.456269                </td></tr>\n",
       "\t<tr><td>2004                    </td><td>Light_passenger_emission</td><td>7.751257                </td></tr>\n",
       "\t<tr><td>2005                    </td><td>Light_passenger_emission</td><td>7.623133                </td></tr>\n",
       "\t<tr><td>2006                    </td><td>Light_passenger_emission</td><td>7.713956                </td></tr>\n",
       "</tbody>\n",
       "</table>\n"
      ],
      "text/latex": [
       "\\begin{tabular}{r|lll}\n",
       " Year & variable & value\\\\\n",
       "\\hline\n",
       "\t 2001                         & Light\\_passenger\\_emission & 6.846762                    \\\\\n",
       "\t 2002                         & Light\\_passenger\\_emission & 7.146385                    \\\\\n",
       "\t 2003                         & Light\\_passenger\\_emission & 7.456269                    \\\\\n",
       "\t 2004                         & Light\\_passenger\\_emission & 7.751257                    \\\\\n",
       "\t 2005                         & Light\\_passenger\\_emission & 7.623133                    \\\\\n",
       "\t 2006                         & Light\\_passenger\\_emission & 7.713956                    \\\\\n",
       "\\end{tabular}\n"
      ],
      "text/markdown": [
       "\n",
       "Year | variable | value | \n",
       "|---|---|---|---|---|---|\n",
       "| 2001                     | Light_passenger_emission | 6.846762                 | \n",
       "| 2002                     | Light_passenger_emission | 7.146385                 | \n",
       "| 2003                     | Light_passenger_emission | 7.456269                 | \n",
       "| 2004                     | Light_passenger_emission | 7.751257                 | \n",
       "| 2005                     | Light_passenger_emission | 7.623133                 | \n",
       "| 2006                     | Light_passenger_emission | 7.713956                 | \n",
       "\n",
       "\n"
      ],
      "text/plain": [
       "  Year variable                 value   \n",
       "1 2001 Light_passenger_emission 6.846762\n",
       "2 2002 Light_passenger_emission 7.146385\n",
       "3 2003 Light_passenger_emission 7.456269\n",
       "4 2004 Light_passenger_emission 7.751257\n",
       "5 2005 Light_passenger_emission 7.623133\n",
       "6 2006 Light_passenger_emission 7.713956"
      ]
     },
     "metadata": {},
     "output_type": "display_data"
    }
   ],
   "source": [
    "#loading package\n",
    "library(reshape2)\n",
    "#data is changed into a single variable by using Year as the key\n",
    "new_fuel_CO2_update <- melt(new_fuel_CO2,id.vars = \"Year\")\n",
    "#display some results\n",
    "head(new_fuel_CO2_update)"
   ]
  },
  {
   "cell_type": "code",
   "execution_count": 36,
   "metadata": {},
   "outputs": [
    {
     "data": {
      "text/html": [
       "<ol class=list-inline>\n",
       "\t<li>48</li>\n",
       "\t<li>3</li>\n",
       "</ol>\n"
      ],
      "text/latex": [
       "\\begin{enumerate*}\n",
       "\\item 48\n",
       "\\item 3\n",
       "\\end{enumerate*}\n"
      ],
      "text/markdown": [
       "1. 48\n",
       "2. 3\n",
       "\n",
       "\n"
      ],
      "text/plain": [
       "[1] 48  3"
      ]
     },
     "metadata": {},
     "output_type": "display_data"
    }
   ],
   "source": [
    "#see the dimension changed\n",
    "dim(new_fuel_CO2_update) "
   ]
  },
  {
   "cell_type": "markdown",
   "metadata": {},
   "source": [
    "We have more rows now."
   ]
  },
  {
   "cell_type": "code",
   "execution_count": 37,
   "metadata": {},
   "outputs": [
    {
     "name": "stdout",
     "output_type": "stream",
     "text": [
      "Observations: 48\n",
      "Variables: 3\n",
      "$ Year     <dbl> 2001, 2002, 2003, 2004, 2005, 2006, 2007, 2008, 2009, 2010...\n",
      "$ variable <fct> Light_passenger_emission, Light_passenger_emission, Light_...\n",
      "$ value    <dbl> 6.846762, 7.146385, 7.456269, 7.751257, 7.623133, 7.713956...\n"
     ]
    }
   ],
   "source": [
    "#check data frame\n",
    "glimpse(new_fuel_CO2_update)"
   ]
  },
  {
   "cell_type": "markdown",
   "metadata": {},
   "source": [
    "Everything looks good to me."
   ]
  },
  {
   "cell_type": "code",
   "execution_count": 38,
   "metadata": {},
   "outputs": [
    {
     "data": {},
     "metadata": {},
     "output_type": "display_data"
    },
    {
     "data": {
      "image/png": "[encoded data removed]",
      "text/plain": [
       "plot without title"
      ]
     },
     "metadata": {},
     "output_type": "display_data"
    }
   ],
   "source": [
    "#create bar plot for CO2 emission in each type of vehicle\n",
    "new_fuel_CO2_update %>%\n",
    "    ggplot(aes(x=Year, y=value, fill=variable)) +\n",
    "\n",
    "#Using stat=\"identity\" and map \"value\" to the y aesthetic because \n",
    "#we want the heights of the bars to represent values in the data, \n",
    "    geom_bar(stat=\"identity\")+\n",
    "\n",
    "#add title and set in the center\n",
    "    ggtitle(\"CO2 emission in each type of vehicle\") + \n",
    "    theme(plot.title = element_text(hjust = 0.5))+\n",
    "\n",
    "#add labels\n",
    "    xlab(\"Year\") + \n",
    "    ylab(\"CO2 emissions (million tonnes)\") \n"
   ]
  },
  {
   "cell_type": "markdown",
   "metadata": {},
   "source": [
    "**Comment:**\n",
    "\n",
    "The emission of CO2 in each type of vehicle is increasing by year. However, light class vehicles took more than 60% of total CO2 emission."
   ]
  },
  {
   "cell_type": "code",
   "execution_count": 39,
   "metadata": {},
   "outputs": [
    {
     "data": {},
     "metadata": {},
     "output_type": "display_data"
    },
    {
     "data": {
      "image/png": "[encoded data removed]",
      "text/plain": [
       "plot without title"
      ]
     },
     "metadata": {},
     "output_type": "display_data"
    }
   ],
   "source": [
    "fuelCO2pop %>%\n",
    "mutate(fleet_emissions = Light_passenger_emission + Light_commercial_emission + Heavy_fleet_emission) %>% # create a new variable called fleet_emissions which is all of the light class vehicle emissions and heavy vehicle emissions.\n",
    "ggplot(aes(x = Year, y = fleet_emissions))+\n",
    "    geom_point() +\n",
    "\n",
    "    ggtitle(\"Light and heavy fleet CO2 emissions in millions of tonnes in New Zealand\") + \n",
    "    theme(plot.title = element_text(hjust = 0.5))+\n",
    "    xlab(\"Year\") + \n",
    "    ylab(\"Fleet emissions (million tonnes)\")"
   ]
  },
  {
   "cell_type": "code",
   "execution_count": 40,
   "metadata": {},
   "outputs": [
    {
     "data": {},
     "metadata": {},
     "output_type": "display_data"
    },
    {
     "data": {
      "image/png": "[encoded data removed]",
      "text/plain": [
       "plot without title"
      ]
     },
     "metadata": {},
     "output_type": "display_data"
    }
   ],
   "source": [
    "fuelCO2pop %>%\n",
    "#Compute the litres usage per person\n",
    "#we multiplied Year_average_total by 1,000,000 because the unit of NZ_million_litres is millions  \n",
    "    mutate(Average_litres_per_person = (NZ_million_litres)/ Year_average_total*1000000) %>% \n",
    "#plot year via litres_per_person\n",
    "    ggplot(aes(x = Year, y = Average_litres_per_person))+\n",
    "    geom_line()+\n",
    "#add centre title and labels\n",
    "    ggtitle(\"Litres used per thousand capita in New Zealand\") + \n",
    "    theme(plot.title = element_text(hjust = 0.5))+\n",
    "    xlab(\"Year\") + ylab(\"Litres per person\")"
   ]
  },
  {
   "cell_type": "markdown",
   "metadata": {},
   "source": [
    "**Comment:**\n",
    "\n",
    "Usage of petrol was increasing from 2001 to 2004 and reached the peak at 2004 with around 774 litres per person. However, the usage was steeply decreasing by year from 2004 to 2014 and dropped to 658 litres per person. \n",
    "\n",
    "After 2014, there was a small climb from 658 (litres per person) to 665 (litres per person) till 2016."
   ]
  },
  {
   "cell_type": "code",
   "execution_count": 41,
   "metadata": {},
   "outputs": [
    {
     "data": {
      "text/html": [
       "<table>\n",
       "<thead><tr><th scope=col>Year</th><th scope=col>litres_per_person</th></tr></thead>\n",
       "<tbody>\n",
       "\t<tr><td>2004    </td><td>774.3293</td></tr>\n",
       "\t<tr><td>2003    </td><td>758.7736</td></tr>\n",
       "\t<tr><td>2007    </td><td>751.7032</td></tr>\n",
       "\t<tr><td>2002    </td><td>750.4998</td></tr>\n",
       "\t<tr><td>2005    </td><td>748.5604</td></tr>\n",
       "\t<tr><td>2006    </td><td>745.5514</td></tr>\n",
       "\t<tr><td>2001    </td><td>737.7091</td></tr>\n",
       "\t<tr><td>2008    </td><td>733.2981</td></tr>\n",
       "\t<tr><td>2009    </td><td>715.9647</td></tr>\n",
       "\t<tr><td>2010    </td><td>712.4216</td></tr>\n",
       "\t<tr><td>2011    </td><td>695.5738</td></tr>\n",
       "\t<tr><td>2012    </td><td>676.6805</td></tr>\n",
       "\t<tr><td>2013    </td><td>668.7363</td></tr>\n",
       "\t<tr><td>2015    </td><td>665.3961</td></tr>\n",
       "\t<tr><td>2016    </td><td>665.0926</td></tr>\n",
       "\t<tr><td>2014    </td><td>658.5684</td></tr>\n",
       "</tbody>\n",
       "</table>\n"
      ],
      "text/latex": [
       "\\begin{tabular}{r|ll}\n",
       " Year & litres\\_per\\_person\\\\\n",
       "\\hline\n",
       "\t 2004     & 774.3293\\\\\n",
       "\t 2003     & 758.7736\\\\\n",
       "\t 2007     & 751.7032\\\\\n",
       "\t 2002     & 750.4998\\\\\n",
       "\t 2005     & 748.5604\\\\\n",
       "\t 2006     & 745.5514\\\\\n",
       "\t 2001     & 737.7091\\\\\n",
       "\t 2008     & 733.2981\\\\\n",
       "\t 2009     & 715.9647\\\\\n",
       "\t 2010     & 712.4216\\\\\n",
       "\t 2011     & 695.5738\\\\\n",
       "\t 2012     & 676.6805\\\\\n",
       "\t 2013     & 668.7363\\\\\n",
       "\t 2015     & 665.3961\\\\\n",
       "\t 2016     & 665.0926\\\\\n",
       "\t 2014     & 658.5684\\\\\n",
       "\\end{tabular}\n"
      ],
      "text/markdown": [
       "\n",
       "Year | litres_per_person | \n",
       "|---|---|---|---|---|---|---|---|---|---|---|---|---|---|---|---|\n",
       "| 2004     | 774.3293 | \n",
       "| 2003     | 758.7736 | \n",
       "| 2007     | 751.7032 | \n",
       "| 2002     | 750.4998 | \n",
       "| 2005     | 748.5604 | \n",
       "| 2006     | 745.5514 | \n",
       "| 2001     | 737.7091 | \n",
       "| 2008     | 733.2981 | \n",
       "| 2009     | 715.9647 | \n",
       "| 2010     | 712.4216 | \n",
       "| 2011     | 695.5738 | \n",
       "| 2012     | 676.6805 | \n",
       "| 2013     | 668.7363 | \n",
       "| 2015     | 665.3961 | \n",
       "| 2016     | 665.0926 | \n",
       "| 2014     | 658.5684 | \n",
       "\n",
       "\n"
      ],
      "text/plain": [
       "   Year litres_per_person\n",
       "1  2004 774.3293         \n",
       "2  2003 758.7736         \n",
       "3  2007 751.7032         \n",
       "4  2002 750.4998         \n",
       "5  2005 748.5604         \n",
       "6  2006 745.5514         \n",
       "7  2001 737.7091         \n",
       "8  2008 733.2981         \n",
       "9  2009 715.9647         \n",
       "10 2010 712.4216         \n",
       "11 2011 695.5738         \n",
       "12 2012 676.6805         \n",
       "13 2013 668.7363         \n",
       "14 2015 665.3961         \n",
       "15 2016 665.0926         \n",
       "16 2014 658.5684         "
      ]
     },
     "metadata": {},
     "output_type": "display_data"
    }
   ],
   "source": [
    "#find the peak and trough\n",
    "fuelCO2pop %>%\n",
    "#computer the litres_per_person\n",
    "mutate(litres_per_person = (NZ_million_litres)/ Year_average_total*1000000)%>%\n",
    "#select Year and litres_per_person\n",
    "select(Year,litres_per_person) %>%\n",
    "#doing decreasing order \n",
    "arrange(-litres_per_person)"
   ]
  },
  {
   "cell_type": "code",
   "execution_count": 42,
   "metadata": {},
   "outputs": [
    {
     "data": {
      "text/html": [
       "<table>\n",
       "<thead><tr><th scope=col>Year</th><th scope=col>variable</th><th scope=col>value</th><th scope=col>Total_population</th><th scope=col>Year_average_total</th></tr></thead>\n",
       "<tbody>\n",
       "\t<tr><td>2001                    </td><td>Light_passenger_emission</td><td>6.846762                </td><td>3916200                 </td><td>3886700                 </td></tr>\n",
       "\t<tr><td>2002                    </td><td>Light_passenger_emission</td><td>7.146385                </td><td>3989500                 </td><td>3951200                 </td></tr>\n",
       "\t<tr><td>2003                    </td><td>Light_passenger_emission</td><td>7.456269                </td><td>4061600                 </td><td>4027700                 </td></tr>\n",
       "\t<tr><td>2004                    </td><td>Light_passenger_emission</td><td>7.751257                </td><td>4114300                 </td><td>4088700                 </td></tr>\n",
       "\t<tr><td>2005                    </td><td>Light_passenger_emission</td><td>7.623133                </td><td>4161000                 </td><td>4136000                 </td></tr>\n",
       "\t<tr><td>2006                    </td><td>Light_passenger_emission</td><td>7.713956                </td><td>4209100                 </td><td>4185300                 </td></tr>\n",
       "</tbody>\n",
       "</table>\n"
      ],
      "text/latex": [
       "\\begin{tabular}{r|lllll}\n",
       " Year & variable & value & Total\\_population & Year\\_average\\_total\\\\\n",
       "\\hline\n",
       "\t 2001                         & Light\\_passenger\\_emission & 6.846762                     & 3916200                      & 3886700                     \\\\\n",
       "\t 2002                         & Light\\_passenger\\_emission & 7.146385                     & 3989500                      & 3951200                     \\\\\n",
       "\t 2003                         & Light\\_passenger\\_emission & 7.456269                     & 4061600                      & 4027700                     \\\\\n",
       "\t 2004                         & Light\\_passenger\\_emission & 7.751257                     & 4114300                      & 4088700                     \\\\\n",
       "\t 2005                         & Light\\_passenger\\_emission & 7.623133                     & 4161000                      & 4136000                     \\\\\n",
       "\t 2006                         & Light\\_passenger\\_emission & 7.713956                     & 4209100                      & 4185300                     \\\\\n",
       "\\end{tabular}\n"
      ],
      "text/markdown": [
       "\n",
       "Year | variable | value | Total_population | Year_average_total | \n",
       "|---|---|---|---|---|---|\n",
       "| 2001                     | Light_passenger_emission | 6.846762                 | 3916200                  | 3886700                  | \n",
       "| 2002                     | Light_passenger_emission | 7.146385                 | 3989500                  | 3951200                  | \n",
       "| 2003                     | Light_passenger_emission | 7.456269                 | 4061600                  | 4027700                  | \n",
       "| 2004                     | Light_passenger_emission | 7.751257                 | 4114300                  | 4088700                  | \n",
       "| 2005                     | Light_passenger_emission | 7.623133                 | 4161000                  | 4136000                  | \n",
       "| 2006                     | Light_passenger_emission | 7.713956                 | 4209100                  | 4185300                  | \n",
       "\n",
       "\n"
      ],
      "text/plain": [
       "  Year variable                 value    Total_population Year_average_total\n",
       "1 2001 Light_passenger_emission 6.846762 3916200          3886700           \n",
       "2 2002 Light_passenger_emission 7.146385 3989500          3951200           \n",
       "3 2003 Light_passenger_emission 7.456269 4061600          4027700           \n",
       "4 2004 Light_passenger_emission 7.751257 4114300          4088700           \n",
       "5 2005 Light_passenger_emission 7.623133 4161000          4136000           \n",
       "6 2006 Light_passenger_emission 7.713956 4209100          4185300           "
      ]
     },
     "metadata": {},
     "output_type": "display_data"
    }
   ],
   "source": [
    "#join new_fuel_CO2_update and Population_new in the New table by using Year as the key\n",
    "fuelCO2pop_per <- inner_join(new_fuel_CO2_update, population_new, by = c(\"Year\", \"Year\"))\n",
    "head(fuelCO2pop_per)"
   ]
  },
  {
   "cell_type": "code",
   "execution_count": 44,
   "metadata": {},
   "outputs": [
    {
     "data": {
      "text/html": [
       "<table>\n",
       "<thead><tr><th scope=col>Year</th><th scope=col>variable</th><th scope=col>litres_per_person</th></tr></thead>\n",
       "<tbody>\n",
       "\t<tr><td>2001                    </td><td>Light_passenger_emission</td><td>1.761587                </td></tr>\n",
       "\t<tr><td>2002                    </td><td>Light_passenger_emission</td><td>1.808662                </td></tr>\n",
       "\t<tr><td>2003                    </td><td>Light_passenger_emission</td><td>1.851247                </td></tr>\n",
       "\t<tr><td>2004                    </td><td>Light_passenger_emission</td><td>1.895775                </td></tr>\n",
       "\t<tr><td>2005                    </td><td>Light_passenger_emission</td><td>1.843117                </td></tr>\n",
       "\t<tr><td>2006                    </td><td>Light_passenger_emission</td><td>1.843107                </td></tr>\n",
       "</tbody>\n",
       "</table>\n"
      ],
      "text/latex": [
       "\\begin{tabular}{r|lll}\n",
       " Year & variable & litres\\_per\\_person\\\\\n",
       "\\hline\n",
       "\t 2001                         & Light\\_passenger\\_emission & 1.761587                    \\\\\n",
       "\t 2002                         & Light\\_passenger\\_emission & 1.808662                    \\\\\n",
       "\t 2003                         & Light\\_passenger\\_emission & 1.851247                    \\\\\n",
       "\t 2004                         & Light\\_passenger\\_emission & 1.895775                    \\\\\n",
       "\t 2005                         & Light\\_passenger\\_emission & 1.843117                    \\\\\n",
       "\t 2006                         & Light\\_passenger\\_emission & 1.843107                    \\\\\n",
       "\\end{tabular}\n"
      ],
      "text/markdown": [
       "\n",
       "Year | variable | litres_per_person | \n",
       "|---|---|---|---|---|---|\n",
       "| 2001                     | Light_passenger_emission | 1.761587                 | \n",
       "| 2002                     | Light_passenger_emission | 1.808662                 | \n",
       "| 2003                     | Light_passenger_emission | 1.851247                 | \n",
       "| 2004                     | Light_passenger_emission | 1.895775                 | \n",
       "| 2005                     | Light_passenger_emission | 1.843117                 | \n",
       "| 2006                     | Light_passenger_emission | 1.843107                 | \n",
       "\n",
       "\n"
      ],
      "text/plain": [
       "  Year variable                 litres_per_person\n",
       "1 2001 Light_passenger_emission 1.761587         \n",
       "2 2002 Light_passenger_emission 1.808662         \n",
       "3 2003 Light_passenger_emission 1.851247         \n",
       "4 2004 Light_passenger_emission 1.895775         \n",
       "5 2005 Light_passenger_emission 1.843117         \n",
       "6 2006 Light_passenger_emission 1.843107         "
      ]
     },
     "metadata": {},
     "output_type": "display_data"
    }
   ],
   "source": [
    "#create a new dataframe\n",
    "update<-fuelCO2pop_per %>%\n",
    "\n",
    "#Compute the litres usage per person\n",
    "#we multiplied Year_average_total with 1,000,000 is because the unit of NZ_million_litres is million  \n",
    "    mutate(litres_per_person = (value)/ Year_average_total*1000000) %>% \n",
    "#select the variables we need\n",
    "    select(Year, variable, litres_per_person)\n",
    "#show a part of the new dataframe\n",
    "head(update)\n"
   ]
  },
  {
   "cell_type": "code",
   "execution_count": 46,
   "metadata": {},
   "outputs": [
    {
     "data": {},
     "metadata": {},
     "output_type": "display_data"
    },
    {
     "data": {
      "image/png": "[encoded data removed]",
      "text/plain": [
       "plot without title"
      ]
     },
     "metadata": {},
     "output_type": "display_data"
    }
   ],
   "source": [
    "#create bar plot for CO2 emission per person in each type of vehicle \n",
    "update %>%\n",
    "    ggplot(aes(x=Year, y=litres_per_person, fill=variable)) +\n",
    "\n",
    "#Using stat=\"identity\" and map a value to the y aesthetic because \n",
    "#we want the heights of the bars to represent values in the data, \n",
    "    geom_bar(stat=\"identity\")+\n",
    "\n",
    "#add title and set in the center\n",
    "    ggtitle(\"CO2 emission in each type of vehicle per person\") + \n",
    "    theme(plot.title = element_text(hjust = 0.5))+\n",
    "\n",
    "#add labels\n",
    "    xlab(\"Year\") + \n",
    "    ylab(\"litres per person\") "
   ]
  },
  {
   "cell_type": "markdown",
   "metadata": {},
   "source": [
    "**Comment**:\n",
    "Overall, there was not much change in CO2 emission for each person by using vehicle during these 15 years.\n",
    "\n",
    "However, when looking at the CO2 emissions by different type of vehicle, it showed both heavy vehicle and light commercial vehicle were increasing the emission of CO2, whereas light passenger vehicle was fluctuating between 1.656 and 1.896 liters. But, light passenger still took more than 50% of total CO2 emission in vehicle."
   ]
  },
  {
   "cell_type": "code",
   "execution_count": 47,
   "metadata": {},
   "outputs": [
    {
     "data": {},
     "metadata": {},
     "output_type": "display_data"
    },
    {
     "data": {
      "image/png": "[encoded data removed]",
      "text/plain": [
       "plot without title"
      ]
     },
     "metadata": {},
     "output_type": "display_data"
    }
   ],
   "source": [
    "fuelCO2pop %>%\n",
    "  ggplot(aes(x = Year, y = NZ_million_litres)) + geom_line() +\n",
    "  ggtitle(\"Estimated petrol use for light petrol vehicles in millions of litres in New Zealand\") +\n",
    "  theme(plot.title = element_text(hjust = 0.5))+\n",
    "  xlab(\"Year\") + \n",
    "  ylab(\"Estimated petrol use (million litres)\")"
   ]
  },
  {
   "cell_type": "code",
   "execution_count": 48,
   "metadata": {},
   "outputs": [
    {
     "data": {},
     "metadata": {},
     "output_type": "display_data"
    },
    {
     "data": {
      "image/png": "[encoded data removed]",
      "text/plain": [
       "plot without title"
      ]
     },
     "metadata": {},
     "output_type": "display_data"
    }
   ],
   "source": [
    "fuelCO2pop %>%\n",
    "  ggplot(aes(x = Year, y = Light_passenger_emission)) + geom_line()+\n",
    "  ggtitle(\"CO2 emissions for light passenger vehicles in millions of tonnes in New Zealand\") +\n",
    "  theme(plot.title = element_text(hjust = 0.5))+\n",
    "  xlab(\"Year\") + \n",
    "  ylab(\"Light passenger emissions (million tonnes)\")"
   ]
  },
  {
   "cell_type": "markdown",
   "metadata": {},
   "source": [
    "Estimated petrol usage and light passenger emissions have a very similar distribution."
   ]
  },
  {
   "cell_type": "markdown",
   "metadata": {},
   "source": [
    "# Car safety"
   ]
  },
  {
   "cell_type": "code",
   "execution_count": 49,
   "metadata": {},
   "outputs": [
    {
     "name": "stdout",
     "output_type": "stream",
     "text": [
      "Observations: 67\n",
      "Variables: 9\n",
      "$ Year                     <dbl> 1950, 1951, 1952, 1953, 1954, 1955, 1956, ...\n",
      "$ Population_000           <dbl> 1927.6, 1970.5, 2024.6, 2074.7, 2118.4, 21...\n",
      "$ Vehicles_000             <dbl> 402.2, 447.1, 494.2, 513.7, 553.5, 601.1, ...\n",
      "$ Number_of_injuries       <dbl> 6314, 6938, 7448, 7686, 7875, 8976, 9758, ...\n",
      "$ Per_100000_people        <dbl> 327.5576, 352.1000, 367.9000, 370.5000, 37...\n",
      "$ Per_10000_vehicles       <dbl> 156.9866, 155.2000, 150.7000, 149.6000, 14...\n",
      "$ Number_of_fatal_crashes  <dbl> 232, 292, 272, 313, 360, 333, 329, 384, 37...\n",
      "$ Per_100000_people_fatal  <dbl> 12.03569, 14.80000, 13.40000, 15.10000, 17...\n",
      "$ Per_10000_vehicles_fatal <dbl> 5.768274, 6.500000, 5.500000, 6.100000, 6....\n"
     ]
    },
    {
     "data": {
      "text/html": [
       "<table>\n",
       "<thead><tr><th scope=col>Year</th><th scope=col>Population_000</th><th scope=col>Vehicles_000</th><th scope=col>Number_of_injuries</th><th scope=col>Per_100000_people</th><th scope=col>Per_10000_vehicles</th><th scope=col>Number_of_fatal_crashes</th><th scope=col>Per_100000_people_fatal</th><th scope=col>Per_10000_vehicles_fatal</th></tr></thead>\n",
       "<tbody>\n",
       "\t<tr><td>1950    </td><td>1927.6  </td><td>402.2   </td><td>6314    </td><td>327.5576</td><td>156.9866</td><td>232     </td><td>12.03569</td><td>5.768274</td></tr>\n",
       "\t<tr><td>1951    </td><td>1970.5  </td><td>447.1   </td><td>6938    </td><td>352.1000</td><td>155.2000</td><td>292     </td><td>14.80000</td><td>6.500000</td></tr>\n",
       "\t<tr><td>1952    </td><td>2024.6  </td><td>494.2   </td><td>7448    </td><td>367.9000</td><td>150.7000</td><td>272     </td><td>13.40000</td><td>5.500000</td></tr>\n",
       "\t<tr><td>1953    </td><td>2074.7  </td><td>513.7   </td><td>7686    </td><td>370.5000</td><td>149.6000</td><td>313     </td><td>15.10000</td><td>6.100000</td></tr>\n",
       "\t<tr><td>1954    </td><td>2118.4  </td><td>553.5   </td><td>7875    </td><td>371.7000</td><td>142.3000</td><td>360     </td><td>17.00000</td><td>6.500000</td></tr>\n",
       "\t<tr><td>1955    </td><td>2164.8  </td><td>601.1   </td><td>8976    </td><td>414.6000</td><td>149.3000</td><td>333     </td><td>15.40000</td><td>5.500000</td></tr>\n",
       "</tbody>\n",
       "</table>\n"
      ],
      "text/latex": [
       "\\begin{tabular}{r|lllllllll}\n",
       " Year & Population\\_000 & Vehicles\\_000 & Number\\_of\\_injuries & Per\\_100000\\_people & Per\\_10000\\_vehicles & Number\\_of\\_fatal\\_crashes & Per\\_100000\\_people\\_fatal & Per\\_10000\\_vehicles\\_fatal\\\\\n",
       "\\hline\n",
       "\t 1950     & 1927.6   & 402.2    & 6314     & 327.5576 & 156.9866 & 232      & 12.03569 & 5.768274\\\\\n",
       "\t 1951     & 1970.5   & 447.1    & 6938     & 352.1000 & 155.2000 & 292      & 14.80000 & 6.500000\\\\\n",
       "\t 1952     & 2024.6   & 494.2    & 7448     & 367.9000 & 150.7000 & 272      & 13.40000 & 5.500000\\\\\n",
       "\t 1953     & 2074.7   & 513.7    & 7686     & 370.5000 & 149.6000 & 313      & 15.10000 & 6.100000\\\\\n",
       "\t 1954     & 2118.4   & 553.5    & 7875     & 371.7000 & 142.3000 & 360      & 17.00000 & 6.500000\\\\\n",
       "\t 1955     & 2164.8   & 601.1    & 8976     & 414.6000 & 149.3000 & 333      & 15.40000 & 5.500000\\\\\n",
       "\\end{tabular}\n"
      ],
      "text/markdown": [
       "\n",
       "Year | Population_000 | Vehicles_000 | Number_of_injuries | Per_100000_people | Per_10000_vehicles | Number_of_fatal_crashes | Per_100000_people_fatal | Per_10000_vehicles_fatal | \n",
       "|---|---|---|---|---|---|\n",
       "| 1950     | 1927.6   | 402.2    | 6314     | 327.5576 | 156.9866 | 232      | 12.03569 | 5.768274 | \n",
       "| 1951     | 1970.5   | 447.1    | 6938     | 352.1000 | 155.2000 | 292      | 14.80000 | 6.500000 | \n",
       "| 1952     | 2024.6   | 494.2    | 7448     | 367.9000 | 150.7000 | 272      | 13.40000 | 5.500000 | \n",
       "| 1953     | 2074.7   | 513.7    | 7686     | 370.5000 | 149.6000 | 313      | 15.10000 | 6.100000 | \n",
       "| 1954     | 2118.4   | 553.5    | 7875     | 371.7000 | 142.3000 | 360      | 17.00000 | 6.500000 | \n",
       "| 1955     | 2164.8   | 601.1    | 8976     | 414.6000 | 149.3000 | 333      | 15.40000 | 5.500000 | \n",
       "\n",
       "\n"
      ],
      "text/plain": [
       "  Year Population_000 Vehicles_000 Number_of_injuries Per_100000_people\n",
       "1 1950 1927.6         402.2        6314               327.5576         \n",
       "2 1951 1970.5         447.1        6938               352.1000         \n",
       "3 1952 2024.6         494.2        7448               367.9000         \n",
       "4 1953 2074.7         513.7        7686               370.5000         \n",
       "5 1954 2118.4         553.5        7875               371.7000         \n",
       "6 1955 2164.8         601.1        8976               414.6000         \n",
       "  Per_10000_vehicles Number_of_fatal_crashes Per_100000_people_fatal\n",
       "1 156.9866           232                     12.03569               \n",
       "2 155.2000           292                     14.80000               \n",
       "3 150.7000           272                     13.40000               \n",
       "4 149.6000           313                     15.10000               \n",
       "5 142.3000           360                     17.00000               \n",
       "6 149.3000           333                     15.40000               \n",
       "  Per_10000_vehicles_fatal\n",
       "1 5.768274                \n",
       "2 6.500000                \n",
       "3 5.500000                \n",
       "4 6.100000                \n",
       "5 6.500000                \n",
       "6 5.500000                "
      ]
     },
     "metadata": {},
     "output_type": "display_data"
    }
   ],
   "source": [
    "crash_data <- read_excel(\"section1-historical-web.xlsx\",sheet = 2, range = \"B9:J76\") # read in the crash data\n",
    "\n",
    "crash_names = c(\"Year\",\"Population_000\",\"Vehicles_000\", \"Number_of_injuries\", \"Per_100000_people\", \"Per_10000_vehicles\", \n",
    "                \"Number_of_fatal_crashes\", \"Per_100000_people_fatal\", \"Per_10000_vehicles_fatal\")\n",
    "\n",
    "names(crash_data) <- crash_names # rename the varaibles\n",
    "\n",
    "crash_data %>% \n",
    "  glimpse()\n",
    "\n",
    "head(crash_data)\n",
    "\n"
   ]
  },
  {
   "cell_type": "code",
   "execution_count": 50,
   "metadata": {},
   "outputs": [
    {
     "data": {},
     "metadata": {},
     "output_type": "display_data"
    },
    {
     "data": {
      "image/png": "[encoded data removed]",
      "text/plain": [
       "plot without title"
      ]
     },
     "metadata": {},
     "output_type": "display_data"
    }
   ],
   "source": [
    "crash_data %>%\n",
    "  mutate(Number_of_fatal_crashes_per_million = (Number_of_fatal_crashes*1000)/ Population_000) %>% #Gets the number of fatial crashes per million people\n",
    "  ggplot(aes(x = Year, y = Number_of_fatal_crashes_per_million)) +\n",
    "  geom_point() +\n",
    "\n",
    "  ggtitle(\"Number of fatal crashes per million people per capita in New Zealand\") +\n",
    "  theme(plot.title = element_text(hjust = 0.5))+\n",
    "  xlab(\"Year\") + \n",
    "  ylab(\"Number of fatal crashes per million people\")\n"
   ]
  }
 ],
 "metadata": {
  "kernelspec": {
   "display_name": "R",
   "language": "R",
   "name": "ir"
  },
  "language_info": {
   "codemirror_mode": "r",
   "file_extension": ".r",
   "mimetype": "text/x-r-source",
   "name": "R",
   "pygments_lexer": "r",
   "version": "3.5.1"
  }
 },
 "nbformat": 4,
 "nbformat_minor": 2
}
