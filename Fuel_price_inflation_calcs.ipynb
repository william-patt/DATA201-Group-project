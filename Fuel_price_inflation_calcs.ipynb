{
 "cells": [
  {
   "cell_type": "markdown",
   "metadata": {},
   "source": [
    "## This workbook used weekly fuel price data from MBIE and quarterlyCPI data from StatsNZ to calculate inflation adjusted fuel prices"
   ]
  },
  {
   "cell_type": "code",
   "execution_count": 2,
   "metadata": {},
   "outputs": [],
   "source": [
    "library(tidyverse)\n",
    "library(readxl)\n",
    "library(magrittr)\n",
    "library(lubridate)"
   ]
  },
  {
   "cell_type": "code",
   "execution_count": 3,
   "metadata": {},
   "outputs": [
    {
     "name": "stderr",
     "output_type": "stream",
     "text": [
      "Parsed with column specification:\n",
      "cols(\n",
      "  Level = col_character(),\n",
      "  `Series ref: CPIQ` = col_character(),\n",
      "  Description = col_character(),\n",
      "  Quarter = col_character(),\n",
      "  Weight = col_double(),\n",
      "  `Index number` = col_double()\n",
      ")\n"
     ]
    },
    {
     "name": "stdout",
     "output_type": "stream",
     "text": [
      "Observations: 8,198\n",
      "Variables: 6\n",
      "$ Level              <chr> \"All groups\", \"Group\", \"Group\", \"Group\", \"Group\"...\n",
      "$ `Series ref: CPIQ` <chr> \"SE9A\", \"SE901\", \"SE902\", \"SE903\", \"SE904\", \"SE9...\n",
      "$ Description        <chr> \"All groups CPI\", \"Food\", \"Alcoholic beverages a...\n",
      "$ Quarter            <chr> \"2006Q2\", \"2006Q2\", \"2006Q2\", \"2006Q2\", \"2006Q2\"...\n",
      "$ Weight             <dbl> 100.00, 17.39, 7.20, 4.75, 20.02, 5.49, 5.23, 17...\n",
      "$ `Index number`     <dbl> 815.6607, 759.8784, 628.5355, 1002.0040, 694.444...\n"
     ]
    }
   ],
   "source": [
    "#import cpi data\n",
    "cpi_raw <- read_csv(\"cpi_raw_data.csv\")\n",
    "glimpse(cpi_raw)\n",
    "#rename the index number column\n",
    "colnames(cpi_raw)[6] = \"Index_number\"#"
   ]
  },
  {
   "cell_type": "code",
   "execution_count": 4,
   "metadata": {},
   "outputs": [
    {
     "data": {
      "text/html": [
       "<table>\n",
       "<thead><tr><th scope=col>Quarter</th><th scope=col>Index_number</th></tr></thead>\n",
       "<tbody>\n",
       "\t<tr><td>2017Q2  </td><td>1000.000</td></tr>\n",
       "\t<tr><td>2017Q3  </td><td>1004.894</td></tr>\n",
       "\t<tr><td>2017Q4  </td><td>1006.000</td></tr>\n",
       "\t<tr><td>2018Q1  </td><td>1011.000</td></tr>\n",
       "\t<tr><td>2018Q2  </td><td>1015.000</td></tr>\n",
       "\t<tr><td>2018Q3  </td><td>1024.000</td></tr>\n",
       "</tbody>\n",
       "</table>\n"
      ],
      "text/latex": [
       "\\begin{tabular}{r|ll}\n",
       " Quarter & Index\\_number\\\\\n",
       "\\hline\n",
       "\t 2017Q2   & 1000.000\\\\\n",
       "\t 2017Q3   & 1004.894\\\\\n",
       "\t 2017Q4   & 1006.000\\\\\n",
       "\t 2018Q1   & 1011.000\\\\\n",
       "\t 2018Q2   & 1015.000\\\\\n",
       "\t 2018Q3   & 1024.000\\\\\n",
       "\\end{tabular}\n"
      ],
      "text/markdown": [
       "\n",
       "Quarter | Index_number | \n",
       "|---|---|---|---|---|---|\n",
       "| 2017Q2   | 1000.000 | \n",
       "| 2017Q3   | 1004.894 | \n",
       "| 2017Q4   | 1006.000 | \n",
       "| 2018Q1   | 1011.000 | \n",
       "| 2018Q2   | 1015.000 | \n",
       "| 2018Q3   | 1024.000 | \n",
       "\n",
       "\n"
      ],
      "text/plain": [
       "  Quarter Index_number\n",
       "1 2017Q2  1000.000    \n",
       "2 2017Q3  1004.894    \n",
       "3 2017Q4  1006.000    \n",
       "4 2018Q1  1011.000    \n",
       "5 2018Q2  1015.000    \n",
       "6 2018Q3  1024.000    "
      ]
     },
     "metadata": {},
     "output_type": "display_data"
    }
   ],
   "source": [
    "# The CPI data has an entire breakdown of every basket in the CPI for all quarters\n",
    "#We only want the rows that are tagged with \"all groups\" so need to filter those rows\n",
    "#and select the columns with quarter and index values\n",
    "\n",
    "cpi_raw %<>%\n",
    "        select(Level,Quarter,Index_number) %>%\n",
    "        filter(Level == \"All groups\") %>%\n",
    "        select(-Level)\n",
    "tail(cpi_raw)"
   ]
  },
  {
   "cell_type": "code",
   "execution_count": 5,
   "metadata": {},
   "outputs": [
    {
     "name": "stderr",
     "output_type": "stream",
     "text": [
      "Parsed with column specification:\n",
      "cols(\n",
      "  .default = col_double(),\n",
      "  Week_ending_Friday = col_character(),\n",
      "  Week_number = col_character(),\n",
      "  Status = col_character()\n",
      ")\n",
      "See spec(...) for full column specifications.\n"
     ]
    },
    {
     "data": {
      "text/html": [
       "<table>\n",
       "<thead><tr><th scope=col>Week_ending_Friday</th><th scope=col>Week_number</th><th scope=col>Status</th><th scope=col>Dubai_crude_USD.p.bbl</th><th scope=col>NZ_US_exrate</th><th scope=col>Dubai_crude_NZD.p.bbl</th><th scope=col>Diesel_importer_cost_NZc.p.l</th><th scope=col>Diesel_ETS_NZc.p.l</th><th scope=col>Diesel_GST_NZc.p.l</th><th scope=col>Diesel_taxes_NZc.p.l</th><th scope=col>...</th><th scope=col>Petrol_importer_cost_NZc.p.l</th><th scope=col>Petrol_ETS_NZc.p.l</th><th scope=col>Petrol_GST_NZc.p.l</th><th scope=col>Petrol_taxes_NZc.p.l</th><th scope=col>Petrol_price_excl_taxes_NZc.p.l</th><th scope=col>Petrol_main_port_price_NZc.p.l</th><th scope=col>Petrol_discounted_retail_price_NZc.p.l</th><th scope=col>Petrol_importer_margin_NZc.p.l</th><th scope=col>Petrol_margin_trend_NZc.p.l</th><th scope=col>Diesel_main_port_price_excl_taxes_NZc.p.l</th></tr></thead>\n",
       "<tbody>\n",
       "\t<tr><td>31/08/2018 </td><td>2018w35    </td><td>Provisional</td><td>75.44      </td><td>0.66816    </td><td>112.9071   </td><td> 91.21200  </td><td>5.34       </td><td>20.42703   </td><td>21.05703   </td><td>...        </td><td>87.65434   </td><td>4.62       </td><td>28.48584   </td><td> 94.96984  </td><td>118.8016   </td><td>232.9000   </td><td>218.3914   </td><td>31.14723   </td><td>29.69536   </td><td>144.6263   </td></tr>\n",
       "\t<tr><td>7/09/2018  </td><td>2018w36    </td><td>Provisional</td><td>75.42      </td><td>0.65854    </td><td>114.5261   </td><td> 93.95743  </td><td>5.34       </td><td>20.72517   </td><td>21.35517   </td><td>...        </td><td>90.05543   </td><td>4.62       </td><td>28.70944   </td><td> 95.19344  </td><td>120.2923   </td><td>234.6143   </td><td>220.1057   </td><td>30.23682   </td><td>29.71737   </td><td>146.6139   </td></tr>\n",
       "\t<tr><td>14/09/2018 </td><td>2018w37    </td><td>Provisional</td><td>76.45      </td><td>0.65374    </td><td>116.9425   </td><td> 94.38145  </td><td>5.34       </td><td>21.06057   </td><td>21.69057   </td><td>...        </td><td>91.28716   </td><td>4.62       </td><td>29.15664   </td><td> 95.64064  </td><td>123.2736   </td><td>238.0429   </td><td>223.5343   </td><td>31.98646   </td><td>29.73938   </td><td>148.8499   </td></tr>\n",
       "\t<tr><td>21/09/2018 </td><td>2018w38    </td><td>Provisional</td><td>76.76      </td><td>0.66056    </td><td>116.2044   </td><td> 93.59333  </td><td>5.34       </td><td>21.17237   </td><td>21.80237   </td><td>...        </td><td>91.13291   </td><td>4.62       </td><td>29.26844   </td><td> 95.75244  </td><td>124.0190   </td><td>238.9000   </td><td>224.3914   </td><td>32.88605   </td><td>29.76139   </td><td>149.5952   </td></tr>\n",
       "\t<tr><td>28/09/2018 </td><td>2018w39    </td><td>Provisional</td><td>79.90      </td><td>0.66514    </td><td>120.1251   </td><td> 96.11001  </td><td>5.34       </td><td>21.43324   </td><td>22.06324   </td><td>...        </td><td>92.28721   </td><td>4.62       </td><td>29.52931   </td><td> 96.01331  </td><td>125.7581   </td><td>240.9000   </td><td>226.3914   </td><td>33.47089   </td><td>29.78342   </td><td>151.3343   </td></tr>\n",
       "\t<tr><td>5/10/2018  </td><td>2018w40    </td><td>Provisional</td><td>83.14      </td><td>0.65568    </td><td>126.7997   </td><td>101.23679  </td><td>5.34       </td><td>21.42840   </td><td>22.05840   </td><td>...        </td><td>95.72762   </td><td>4.62       </td><td>30.22344   </td><td>100.20744  </td><td>126.8856   </td><td>246.6143   </td><td>231.7131   </td><td>31.15799   </td><td>29.80545   </td><td>152.8250   </td></tr>\n",
       "</tbody>\n",
       "</table>\n"
      ],
      "text/latex": [
       "\\begin{tabular}{r|lllllllllllllllllllllllll}\n",
       " Week\\_ending\\_Friday & Week\\_number & Status & Dubai\\_crude\\_USD.p.bbl & NZ\\_US\\_exrate & Dubai\\_crude\\_NZD.p.bbl & Diesel\\_importer\\_cost\\_NZc.p.l & Diesel\\_ETS\\_NZc.p.l & Diesel\\_GST\\_NZc.p.l & Diesel\\_taxes\\_NZc.p.l & ... & Petrol\\_importer\\_cost\\_NZc.p.l & Petrol\\_ETS\\_NZc.p.l & Petrol\\_GST\\_NZc.p.l & Petrol\\_taxes\\_NZc.p.l & Petrol\\_price\\_excl\\_taxes\\_NZc.p.l & Petrol\\_main\\_port\\_price\\_NZc.p.l & Petrol\\_discounted\\_retail\\_price\\_NZc.p.l & Petrol\\_importer\\_margin\\_NZc.p.l & Petrol\\_margin\\_trend\\_NZc.p.l & Diesel\\_main\\_port\\_price\\_excl\\_taxes\\_NZc.p.l\\\\\n",
       "\\hline\n",
       "\t 31/08/2018  & 2018w35     & Provisional & 75.44       & 0.66816     & 112.9071    &  91.21200   & 5.34        & 20.42703    & 21.05703    & ...         & 87.65434    & 4.62        & 28.48584    &  94.96984   & 118.8016    & 232.9000    & 218.3914    & 31.14723    & 29.69536    & 144.6263   \\\\\n",
       "\t 7/09/2018   & 2018w36     & Provisional & 75.42       & 0.65854     & 114.5261    &  93.95743   & 5.34        & 20.72517    & 21.35517    & ...         & 90.05543    & 4.62        & 28.70944    &  95.19344   & 120.2923    & 234.6143    & 220.1057    & 30.23682    & 29.71737    & 146.6139   \\\\\n",
       "\t 14/09/2018  & 2018w37     & Provisional & 76.45       & 0.65374     & 116.9425    &  94.38145   & 5.34        & 21.06057    & 21.69057    & ...         & 91.28716    & 4.62        & 29.15664    &  95.64064   & 123.2736    & 238.0429    & 223.5343    & 31.98646    & 29.73938    & 148.8499   \\\\\n",
       "\t 21/09/2018  & 2018w38     & Provisional & 76.76       & 0.66056     & 116.2044    &  93.59333   & 5.34        & 21.17237    & 21.80237    & ...         & 91.13291    & 4.62        & 29.26844    &  95.75244   & 124.0190    & 238.9000    & 224.3914    & 32.88605    & 29.76139    & 149.5952   \\\\\n",
       "\t 28/09/2018  & 2018w39     & Provisional & 79.90       & 0.66514     & 120.1251    &  96.11001   & 5.34        & 21.43324    & 22.06324    & ...         & 92.28721    & 4.62        & 29.52931    &  96.01331   & 125.7581    & 240.9000    & 226.3914    & 33.47089    & 29.78342    & 151.3343   \\\\\n",
       "\t 5/10/2018   & 2018w40     & Provisional & 83.14       & 0.65568     & 126.7997    & 101.23679   & 5.34        & 21.42840    & 22.05840    & ...         & 95.72762    & 4.62        & 30.22344    & 100.20744   & 126.8856    & 246.6143    & 231.7131    & 31.15799    & 29.80545    & 152.8250   \\\\\n",
       "\\end{tabular}\n"
      ],
      "text/markdown": [
       "\n",
       "Week_ending_Friday | Week_number | Status | Dubai_crude_USD.p.bbl | NZ_US_exrate | Dubai_crude_NZD.p.bbl | Diesel_importer_cost_NZc.p.l | Diesel_ETS_NZc.p.l | Diesel_GST_NZc.p.l | Diesel_taxes_NZc.p.l | ... | Petrol_importer_cost_NZc.p.l | Petrol_ETS_NZc.p.l | Petrol_GST_NZc.p.l | Petrol_taxes_NZc.p.l | Petrol_price_excl_taxes_NZc.p.l | Petrol_main_port_price_NZc.p.l | Petrol_discounted_retail_price_NZc.p.l | Petrol_importer_margin_NZc.p.l | Petrol_margin_trend_NZc.p.l | Diesel_main_port_price_excl_taxes_NZc.p.l | \n",
       "|---|---|---|---|---|---|\n",
       "| 31/08/2018  | 2018w35     | Provisional | 75.44       | 0.66816     | 112.9071    |  91.21200   | 5.34        | 20.42703    | 21.05703    | ...         | 87.65434    | 4.62        | 28.48584    |  94.96984   | 118.8016    | 232.9000    | 218.3914    | 31.14723    | 29.69536    | 144.6263    | \n",
       "| 7/09/2018   | 2018w36     | Provisional | 75.42       | 0.65854     | 114.5261    |  93.95743   | 5.34        | 20.72517    | 21.35517    | ...         | 90.05543    | 4.62        | 28.70944    |  95.19344   | 120.2923    | 234.6143    | 220.1057    | 30.23682    | 29.71737    | 146.6139    | \n",
       "| 14/09/2018  | 2018w37     | Provisional | 76.45       | 0.65374     | 116.9425    |  94.38145   | 5.34        | 21.06057    | 21.69057    | ...         | 91.28716    | 4.62        | 29.15664    |  95.64064   | 123.2736    | 238.0429    | 223.5343    | 31.98646    | 29.73938    | 148.8499    | \n",
       "| 21/09/2018  | 2018w38     | Provisional | 76.76       | 0.66056     | 116.2044    |  93.59333   | 5.34        | 21.17237    | 21.80237    | ...         | 91.13291    | 4.62        | 29.26844    |  95.75244   | 124.0190    | 238.9000    | 224.3914    | 32.88605    | 29.76139    | 149.5952    | \n",
       "| 28/09/2018  | 2018w39     | Provisional | 79.90       | 0.66514     | 120.1251    |  96.11001   | 5.34        | 21.43324    | 22.06324    | ...         | 92.28721    | 4.62        | 29.52931    |  96.01331   | 125.7581    | 240.9000    | 226.3914    | 33.47089    | 29.78342    | 151.3343    | \n",
       "| 5/10/2018   | 2018w40     | Provisional | 83.14       | 0.65568     | 126.7997    | 101.23679   | 5.34        | 21.42840    | 22.05840    | ...         | 95.72762    | 4.62        | 30.22344    | 100.20744   | 126.8856    | 246.6143    | 231.7131    | 31.15799    | 29.80545    | 152.8250    | \n",
       "\n",
       "\n"
      ],
      "text/plain": [
       "  Week_ending_Friday Week_number Status      Dubai_crude_USD.p.bbl NZ_US_exrate\n",
       "1 31/08/2018         2018w35     Provisional 75.44                 0.66816     \n",
       "2 7/09/2018          2018w36     Provisional 75.42                 0.65854     \n",
       "3 14/09/2018         2018w37     Provisional 76.45                 0.65374     \n",
       "4 21/09/2018         2018w38     Provisional 76.76                 0.66056     \n",
       "5 28/09/2018         2018w39     Provisional 79.90                 0.66514     \n",
       "6 5/10/2018          2018w40     Provisional 83.14                 0.65568     \n",
       "  Dubai_crude_NZD.p.bbl Diesel_importer_cost_NZc.p.l Diesel_ETS_NZc.p.l\n",
       "1 112.9071               91.21200                    5.34              \n",
       "2 114.5261               93.95743                    5.34              \n",
       "3 116.9425               94.38145                    5.34              \n",
       "4 116.2044               93.59333                    5.34              \n",
       "5 120.1251               96.11001                    5.34              \n",
       "6 126.7997              101.23679                    5.34              \n",
       "  Diesel_GST_NZc.p.l Diesel_taxes_NZc.p.l ... Petrol_importer_cost_NZc.p.l\n",
       "1 20.42703           21.05703             ... 87.65434                    \n",
       "2 20.72517           21.35517             ... 90.05543                    \n",
       "3 21.06057           21.69057             ... 91.28716                    \n",
       "4 21.17237           21.80237             ... 91.13291                    \n",
       "5 21.43324           22.06324             ... 92.28721                    \n",
       "6 21.42840           22.05840             ... 95.72762                    \n",
       "  Petrol_ETS_NZc.p.l Petrol_GST_NZc.p.l Petrol_taxes_NZc.p.l\n",
       "1 4.62               28.48584            94.96984           \n",
       "2 4.62               28.70944            95.19344           \n",
       "3 4.62               29.15664            95.64064           \n",
       "4 4.62               29.26844            95.75244           \n",
       "5 4.62               29.52931            96.01331           \n",
       "6 4.62               30.22344           100.20744           \n",
       "  Petrol_price_excl_taxes_NZc.p.l Petrol_main_port_price_NZc.p.l\n",
       "1 118.8016                        232.9000                      \n",
       "2 120.2923                        234.6143                      \n",
       "3 123.2736                        238.0429                      \n",
       "4 124.0190                        238.9000                      \n",
       "5 125.7581                        240.9000                      \n",
       "6 126.8856                        246.6143                      \n",
       "  Petrol_discounted_retail_price_NZc.p.l Petrol_importer_margin_NZc.p.l\n",
       "1 218.3914                               31.14723                      \n",
       "2 220.1057                               30.23682                      \n",
       "3 223.5343                               31.98646                      \n",
       "4 224.3914                               32.88605                      \n",
       "5 226.3914                               33.47089                      \n",
       "6 231.7131                               31.15799                      \n",
       "  Petrol_margin_trend_NZc.p.l Diesel_main_port_price_excl_taxes_NZc.p.l\n",
       "1 29.69536                    144.6263                                 \n",
       "2 29.71737                    146.6139                                 \n",
       "3 29.73938                    148.8499                                 \n",
       "4 29.76139                    149.5952                                 \n",
       "5 29.78342                    151.3343                                 \n",
       "6 29.80545                    152.8250                                 "
      ]
     },
     "metadata": {},
     "output_type": "display_data"
    }
   ],
   "source": [
    "#import fuel price data\n",
    "fuel_price_raw <- read_csv(\"fuel_price_raw.csv\")\n",
    "tail(fuel_price_raw)"
   ]
  },
  {
   "cell_type": "code",
   "execution_count": 6,
   "metadata": {},
   "outputs": [
    {
     "data": {
      "text/html": [
       "<table>\n",
       "<thead><tr><th scope=col>Quarter</th><th scope=col>Petrol_price_cpl</th><th scope=col>Oil_price_bbl</th><th scope=col>Petrol_tax_cpl</th></tr></thead>\n",
       "<tbody>\n",
       "\t<tr><td>2004Q2</td><td>114.5 </td><td>32.10 </td><td>54.7  </td></tr>\n",
       "\t<tr><td>2004Q2</td><td>113.0 </td><td>32.65 </td><td>54.5  </td></tr>\n",
       "\t<tr><td>2004Q2</td><td>117.3 </td><td>33.38 </td><td>55.0  </td></tr>\n",
       "\t<tr><td>2004Q2</td><td>121.9 </td><td>34.41 </td><td>55.5  </td></tr>\n",
       "\t<tr><td>2004Q2</td><td>121.3 </td><td>35.77 </td><td>55.4  </td></tr>\n",
       "\t<tr><td>2004Q2</td><td>123.9 </td><td>35.03 </td><td>55.7  </td></tr>\n",
       "</tbody>\n",
       "</table>\n"
      ],
      "text/latex": [
       "\\begin{tabular}{r|llll}\n",
       " Quarter & Petrol\\_price\\_cpl & Oil\\_price\\_bbl & Petrol\\_tax\\_cpl\\\\\n",
       "\\hline\n",
       "\t 2004Q2 & 114.5  & 32.10  & 54.7  \\\\\n",
       "\t 2004Q2 & 113.0  & 32.65  & 54.5  \\\\\n",
       "\t 2004Q2 & 117.3  & 33.38  & 55.0  \\\\\n",
       "\t 2004Q2 & 121.9  & 34.41  & 55.5  \\\\\n",
       "\t 2004Q2 & 121.3  & 35.77  & 55.4  \\\\\n",
       "\t 2004Q2 & 123.9  & 35.03  & 55.7  \\\\\n",
       "\\end{tabular}\n"
      ],
      "text/markdown": [
       "\n",
       "Quarter | Petrol_price_cpl | Oil_price_bbl | Petrol_tax_cpl | \n",
       "|---|---|---|---|---|---|\n",
       "| 2004Q2 | 114.5  | 32.10  | 54.7   | \n",
       "| 2004Q2 | 113.0  | 32.65  | 54.5   | \n",
       "| 2004Q2 | 117.3  | 33.38  | 55.0   | \n",
       "| 2004Q2 | 121.9  | 34.41  | 55.5   | \n",
       "| 2004Q2 | 121.3  | 35.77  | 55.4   | \n",
       "| 2004Q2 | 123.9  | 35.03  | 55.7   | \n",
       "\n",
       "\n"
      ],
      "text/plain": [
       "  Quarter Petrol_price_cpl Oil_price_bbl Petrol_tax_cpl\n",
       "1 2004Q2  114.5            32.10         54.7          \n",
       "2 2004Q2  113.0            32.65         54.5          \n",
       "3 2004Q2  117.3            33.38         55.0          \n",
       "4 2004Q2  121.9            34.41         55.5          \n",
       "5 2004Q2  121.3            35.77         55.4          \n",
       "6 2004Q2  123.9            35.03         55.7          "
      ]
     },
     "metadata": {},
     "output_type": "display_data"
    }
   ],
   "source": [
    "#Select only the date, petrol price, crude oil price, and petrol taxes\n",
    "fuel_price <- fuel_price_raw %>%\n",
    "    select(Week_ending_Friday, Petrol_discounted_retail_price_NZc.p.l, Dubai_crude_USD.p.bbl, Petrol_taxes_NZc.p.l )\n",
    "\n",
    "#Rename the columns to make the names shorter! \n",
    "\n",
    "new_names = c(\"Week_ending_Friday\", \"Petrol_price_cpl\",\"Oil_price_bbl\",\"Petrol_tax_cpl\")\n",
    "names(fuel_price) <- new_names\n",
    "\n",
    "#The inflation data is reported by quarter so turn the date stamps\n",
    "# into quarterly labels that match the quarter labels in the index data which are in the form \"20XXQX\"\n",
    "fuel_price %<>%\n",
    "    mutate(Week = dmy(Week_ending_Friday)) %>%   #Turn the date strings into a format that lubridate can use\n",
    "    mutate(Quarter = paste0(year(Week),\"Q\",quarter(Week)))   #extract the year from the date and paste it together with the quarter in that year\n",
    "\n",
    "#Only want the price and the quarter for the price\n",
    "#since we are joining with the inflation data\n",
    "fuel_price <- fuel_price %>%\n",
    "        select(Quarter,Petrol_price_cpl, Oil_price_bbl,Petrol_tax_cpl)\n",
    "\n",
    "head(fuel_price)"
   ]
  },
  {
   "cell_type": "code",
   "execution_count": 7,
   "metadata": {},
   "outputs": [
    {
     "data": {
      "text/html": [
       "<table>\n",
       "<thead><tr><th scope=col>Quarter</th><th scope=col>Average_petrol_price_cpl</th><th scope=col>Average_barrel_price_USD</th><th scope=col>Average_tax</th></tr></thead>\n",
       "<tbody>\n",
       "\t<tr><td>2004Q2  </td><td>119.1600</td><td>33.90500</td><td>55.20000</td></tr>\n",
       "\t<tr><td>2004Q3  </td><td>118.6923</td><td>35.91615</td><td>55.15385</td></tr>\n",
       "\t<tr><td>2004Q4  </td><td>118.7286</td><td>35.57071</td><td>55.17143</td></tr>\n",
       "\t<tr><td>2005Q1  </td><td>118.1500</td><td>40.82167</td><td>55.08333</td></tr>\n",
       "\t<tr><td>2005Q2  </td><td>126.4077</td><td>47.27154</td><td>60.63077</td></tr>\n",
       "\t<tr><td>2005Q3  </td><td>142.9357</td><td>55.19571</td><td>63.49286</td></tr>\n",
       "</tbody>\n",
       "</table>\n"
      ],
      "text/latex": [
       "\\begin{tabular}{r|llll}\n",
       " Quarter & Average\\_petrol\\_price\\_cpl & Average\\_barrel\\_price\\_USD & Average\\_tax\\\\\n",
       "\\hline\n",
       "\t 2004Q2   & 119.1600 & 33.90500 & 55.20000\\\\\n",
       "\t 2004Q3   & 118.6923 & 35.91615 & 55.15385\\\\\n",
       "\t 2004Q4   & 118.7286 & 35.57071 & 55.17143\\\\\n",
       "\t 2005Q1   & 118.1500 & 40.82167 & 55.08333\\\\\n",
       "\t 2005Q2   & 126.4077 & 47.27154 & 60.63077\\\\\n",
       "\t 2005Q3   & 142.9357 & 55.19571 & 63.49286\\\\\n",
       "\\end{tabular}\n"
      ],
      "text/markdown": [
       "\n",
       "Quarter | Average_petrol_price_cpl | Average_barrel_price_USD | Average_tax | \n",
       "|---|---|---|---|---|---|\n",
       "| 2004Q2   | 119.1600 | 33.90500 | 55.20000 | \n",
       "| 2004Q3   | 118.6923 | 35.91615 | 55.15385 | \n",
       "| 2004Q4   | 118.7286 | 35.57071 | 55.17143 | \n",
       "| 2005Q1   | 118.1500 | 40.82167 | 55.08333 | \n",
       "| 2005Q2   | 126.4077 | 47.27154 | 60.63077 | \n",
       "| 2005Q3   | 142.9357 | 55.19571 | 63.49286 | \n",
       "\n",
       "\n"
      ],
      "text/plain": [
       "  Quarter Average_petrol_price_cpl Average_barrel_price_USD Average_tax\n",
       "1 2004Q2  119.1600                 33.90500                 55.20000   \n",
       "2 2004Q3  118.6923                 35.91615                 55.15385   \n",
       "3 2004Q4  118.7286                 35.57071                 55.17143   \n",
       "4 2005Q1  118.1500                 40.82167                 55.08333   \n",
       "5 2005Q2  126.4077                 47.27154                 60.63077   \n",
       "6 2005Q3  142.9357                 55.19571                 63.49286   "
      ]
     },
     "metadata": {},
     "output_type": "display_data"
    }
   ],
   "source": [
    "#Since the fuel price data is weekly, several weeks have been renamed with the same quarterly\n",
    "#label. Before joining the fuel price data with the inflation data we take an average\n",
    "#of the fuel price/barrel price/tax for each quarter\n",
    "average_fuel_price <- fuel_price %>%\n",
    "    group_by(Quarter) %>%\n",
    "    summarise(Average_petrol_price_cpl = mean(Petrol_price_cpl), Average_barrel_price_USD = mean(Oil_price_bbl), Average_tax = mean(Petrol_tax_cpl))\n",
    "head(average_fuel_price)\n"
   ]
  },
  {
   "cell_type": "code",
   "execution_count": 8,
   "metadata": {},
   "outputs": [
    {
     "data": {
      "text/html": [
       "<table>\n",
       "<thead><tr><th scope=col>Quarter</th><th scope=col>Average_petrol_price_cpl</th><th scope=col>Average_barrel_price_USD</th><th scope=col>Average_tax</th><th scope=col>Index_number</th></tr></thead>\n",
       "<tbody>\n",
       "\t<tr><td>2006Q2  </td><td>167.7846</td><td>64.77308</td><td>67.03077</td><td>815.6607</td></tr>\n",
       "\t<tr><td>2006Q3  </td><td>166.0615</td><td>65.87077</td><td>66.82308</td><td>821.3703</td></tr>\n",
       "\t<tr><td>2006Q4  </td><td>140.9231</td><td>57.23462</td><td>64.01538</td><td>819.7390</td></tr>\n",
       "\t<tr><td>2007Q1  </td><td>142.3077</td><td>55.47154</td><td>64.18462</td><td>823.8173</td></tr>\n",
       "\t<tr><td>2007Q2  </td><td>153.8231</td><td>64.67154</td><td>66.09231</td><td>831.9739</td></tr>\n",
       "\t<tr><td>2007Q3  </td><td>156.6000</td><td>70.02538</td><td>67.91538</td><td>836.0522</td></tr>\n",
       "</tbody>\n",
       "</table>\n"
      ],
      "text/latex": [
       "\\begin{tabular}{r|lllll}\n",
       " Quarter & Average\\_petrol\\_price\\_cpl & Average\\_barrel\\_price\\_USD & Average\\_tax & Index\\_number\\\\\n",
       "\\hline\n",
       "\t 2006Q2   & 167.7846 & 64.77308 & 67.03077 & 815.6607\\\\\n",
       "\t 2006Q3   & 166.0615 & 65.87077 & 66.82308 & 821.3703\\\\\n",
       "\t 2006Q4   & 140.9231 & 57.23462 & 64.01538 & 819.7390\\\\\n",
       "\t 2007Q1   & 142.3077 & 55.47154 & 64.18462 & 823.8173\\\\\n",
       "\t 2007Q2   & 153.8231 & 64.67154 & 66.09231 & 831.9739\\\\\n",
       "\t 2007Q3   & 156.6000 & 70.02538 & 67.91538 & 836.0522\\\\\n",
       "\\end{tabular}\n"
      ],
      "text/markdown": [
       "\n",
       "Quarter | Average_petrol_price_cpl | Average_barrel_price_USD | Average_tax | Index_number | \n",
       "|---|---|---|---|---|---|\n",
       "| 2006Q2   | 167.7846 | 64.77308 | 67.03077 | 815.6607 | \n",
       "| 2006Q3   | 166.0615 | 65.87077 | 66.82308 | 821.3703 | \n",
       "| 2006Q4   | 140.9231 | 57.23462 | 64.01538 | 819.7390 | \n",
       "| 2007Q1   | 142.3077 | 55.47154 | 64.18462 | 823.8173 | \n",
       "| 2007Q2   | 153.8231 | 64.67154 | 66.09231 | 831.9739 | \n",
       "| 2007Q3   | 156.6000 | 70.02538 | 67.91538 | 836.0522 | \n",
       "\n",
       "\n"
      ],
      "text/plain": [
       "  Quarter Average_petrol_price_cpl Average_barrel_price_USD Average_tax\n",
       "1 2006Q2  167.7846                 64.77308                 67.03077   \n",
       "2 2006Q3  166.0615                 65.87077                 66.82308   \n",
       "3 2006Q4  140.9231                 57.23462                 64.01538   \n",
       "4 2007Q1  142.3077                 55.47154                 64.18462   \n",
       "5 2007Q2  153.8231                 64.67154                 66.09231   \n",
       "6 2007Q3  156.6000                 70.02538                 67.91538   \n",
       "  Index_number\n",
       "1 815.6607    \n",
       "2 821.3703    \n",
       "3 819.7390    \n",
       "4 823.8173    \n",
       "5 831.9739    \n",
       "6 836.0522    "
      ]
     },
     "metadata": {},
     "output_type": "display_data"
    }
   ],
   "source": [
    "#Join the price and cpi data (by Quarter)\n",
    "#only joins the tables where we have both the cpi and price\n",
    "#data for that quarter\n",
    "fuel_inflation <- inner_join(average_fuel_price,cpi_raw, by = \"Quarter\")\n",
    "\n",
    "#There are \n",
    "#Index Number is the inflation index\n",
    "fuel_inflation %>% head()"
   ]
  },
  {
   "cell_type": "code",
   "execution_count": 9,
   "metadata": {},
   "outputs": [
    {
     "data": {},
     "metadata": {},
     "output_type": "display_data"
    },
    {
     "name": "stderr",
     "output_type": "stream",
     "text": [
      "Saving 6.67 x 6.67 in image\n"
     ]
    },
    {
     "data": {
      "image/png": "[encoded data removed]",
      "text/plain": [
       "plot without title"
      ]
     },
     "metadata": {},
     "output_type": "display_data"
    }
   ],
   "source": [
    "#Plot fuel price over time\n",
    "#Note since the quarterly figures are averaged from weekly data and \n",
    "#we don't have the inflation figures for quarter 4 yet this graph doesn't\n",
    "#include the new fuel taxes from the 1st October 2018\n",
    "\n",
    "fuel_inflation %>%\n",
    "    ggplot( aes(x = Quarter, y = Average_petrol_price_cpl, group = 1) )+geom_line() + geom_point() + theme(axis.text.x = element_text(angle = 90, hjust = 1))+\n",
    "    ggtitle(\" Average Petrol Price by Quarter\")+\n",
    "    xlab(\"Quarter\")+ylab (\"Petrol Price (cents per litre)\")\n",
    "\n",
    "ggsave(\"pump_price.png\")\n",
    "\n"
   ]
  },
  {
   "cell_type": "code",
   "execution_count": 11,
   "metadata": {},
   "outputs": [
    {
     "data": {
      "text/html": [
       "<table>\n",
       "<thead><tr><th scope=col>Quarter</th><th scope=col>Average_petrol_price_cpl</th><th scope=col>Average_barrel_price_USD</th><th scope=col>Average_tax</th><th scope=col>Index_number</th><th scope=col>Inflation_adjusted_price</th><th scope=col>Inflation_adjusted_barrel</th><th scope=col>Inflation_adjusted_tax</th></tr></thead>\n",
       "<tbody>\n",
       "\t<tr><td>2006Q2  </td><td>167.7846</td><td>64.77308</td><td>67.03077</td><td>815.6607</td><td>167.7846</td><td>64.77308</td><td>67.03077</td></tr>\n",
       "\t<tr><td>2006Q3  </td><td>166.0615</td><td>65.87077</td><td>66.82308</td><td>821.3703</td><td>164.9072</td><td>65.41288</td><td>66.35857</td></tr>\n",
       "\t<tr><td>2006Q4  </td><td>140.9231</td><td>57.23462</td><td>64.01538</td><td>819.7390</td><td>140.2220</td><td>56.94987</td><td>63.69690</td></tr>\n",
       "\t<tr><td>2007Q1  </td><td>142.3077</td><td>55.47154</td><td>64.18462</td><td>823.8173</td><td>140.8987</td><td>54.92232</td><td>63.54912</td></tr>\n",
       "\t<tr><td>2007Q2  </td><td>153.8231</td><td>64.67154</td><td>66.09231</td><td>831.9739</td><td>150.8069</td><td>63.40347</td><td>64.79638</td></tr>\n",
       "\t<tr><td>2007Q3  </td><td>156.6000</td><td>70.02538</td><td>67.91538</td><td>836.0522</td><td>152.7805</td><td>68.31745</td><td>66.25891</td></tr>\n",
       "</tbody>\n",
       "</table>\n"
      ],
      "text/latex": [
       "\\begin{tabular}{r|llllllll}\n",
       " Quarter & Average\\_petrol\\_price\\_cpl & Average\\_barrel\\_price\\_USD & Average\\_tax & Index\\_number & Inflation\\_adjusted\\_price & Inflation\\_adjusted\\_barrel & Inflation\\_adjusted\\_tax\\\\\n",
       "\\hline\n",
       "\t 2006Q2   & 167.7846 & 64.77308 & 67.03077 & 815.6607 & 167.7846 & 64.77308 & 67.03077\\\\\n",
       "\t 2006Q3   & 166.0615 & 65.87077 & 66.82308 & 821.3703 & 164.9072 & 65.41288 & 66.35857\\\\\n",
       "\t 2006Q4   & 140.9231 & 57.23462 & 64.01538 & 819.7390 & 140.2220 & 56.94987 & 63.69690\\\\\n",
       "\t 2007Q1   & 142.3077 & 55.47154 & 64.18462 & 823.8173 & 140.8987 & 54.92232 & 63.54912\\\\\n",
       "\t 2007Q2   & 153.8231 & 64.67154 & 66.09231 & 831.9739 & 150.8069 & 63.40347 & 64.79638\\\\\n",
       "\t 2007Q3   & 156.6000 & 70.02538 & 67.91538 & 836.0522 & 152.7805 & 68.31745 & 66.25891\\\\\n",
       "\\end{tabular}\n"
      ],
      "text/markdown": [
       "\n",
       "Quarter | Average_petrol_price_cpl | Average_barrel_price_USD | Average_tax | Index_number | Inflation_adjusted_price | Inflation_adjusted_barrel | Inflation_adjusted_tax | \n",
       "|---|---|---|---|---|---|\n",
       "| 2006Q2   | 167.7846 | 64.77308 | 67.03077 | 815.6607 | 167.7846 | 64.77308 | 67.03077 | \n",
       "| 2006Q3   | 166.0615 | 65.87077 | 66.82308 | 821.3703 | 164.9072 | 65.41288 | 66.35857 | \n",
       "| 2006Q4   | 140.9231 | 57.23462 | 64.01538 | 819.7390 | 140.2220 | 56.94987 | 63.69690 | \n",
       "| 2007Q1   | 142.3077 | 55.47154 | 64.18462 | 823.8173 | 140.8987 | 54.92232 | 63.54912 | \n",
       "| 2007Q2   | 153.8231 | 64.67154 | 66.09231 | 831.9739 | 150.8069 | 63.40347 | 64.79638 | \n",
       "| 2007Q3   | 156.6000 | 70.02538 | 67.91538 | 836.0522 | 152.7805 | 68.31745 | 66.25891 | \n",
       "\n",
       "\n"
      ],
      "text/plain": [
       "  Quarter Average_petrol_price_cpl Average_barrel_price_USD Average_tax\n",
       "1 2006Q2  167.7846                 64.77308                 67.03077   \n",
       "2 2006Q3  166.0615                 65.87077                 66.82308   \n",
       "3 2006Q4  140.9231                 57.23462                 64.01538   \n",
       "4 2007Q1  142.3077                 55.47154                 64.18462   \n",
       "5 2007Q2  153.8231                 64.67154                 66.09231   \n",
       "6 2007Q3  156.6000                 70.02538                 67.91538   \n",
       "  Index_number Inflation_adjusted_price Inflation_adjusted_barrel\n",
       "1 815.6607     167.7846                 64.77308                 \n",
       "2 821.3703     164.9072                 65.41288                 \n",
       "3 819.7390     140.2220                 56.94987                 \n",
       "4 823.8173     140.8987                 54.92232                 \n",
       "5 831.9739     150.8069                 63.40347                 \n",
       "6 836.0522     152.7805                 68.31745                 \n",
       "  Inflation_adjusted_tax\n",
       "1 67.03077              \n",
       "2 66.35857              \n",
       "3 63.69690              \n",
       "4 63.54912              \n",
       "5 64.79638              \n",
       "6 66.25891              "
      ]
     },
     "metadata": {},
     "output_type": "display_data"
    },
    {
     "data": {},
     "metadata": {},
     "output_type": "display_data"
    },
    {
     "name": "stderr",
     "output_type": "stream",
     "text": [
      "Saving 6.67 x 6.67 in image\n"
     ]
    },
    {
     "data": {
      "image/png": "[encoded data removed]",
      "text/plain": [
       "plot without title"
      ]
     },
     "metadata": {},
     "output_type": "display_data"
    }
   ],
   "source": [
    "#Want to adjust the fuel price for inflation\n",
    "#so take the base level from 2006 Q2 - the first quarter in the table\n",
    "\n",
    "base_index = fuel_inflation[[5]][1]\n",
    "\n",
    "#add a column to the table for inflation adjusted quarterly average pump price, barrel price and tax\n",
    "fuel_inflation %<>% mutate(Inflation_adjusted_price = Average_petrol_price_cpl * base_index/ Index_number)\n",
    "fuel_inflation %<>% mutate(Inflation_adjusted_barrel = Average_barrel_price_USD * base_index/ Index_number)\n",
    "fuel_inflation %<>% mutate(Inflation_adjusted_tax =Average_tax * base_index/ Index_number)\n",
    "fuel_inflation %>% head()\n",
    "\n",
    "#Plot the inflation adjusted price data\n",
    "fuel_inflation%>%\n",
    "      ggplot( aes(x = Quarter, y = Inflation_adjusted_price, group = 1) )+geom_point() + geom_line() + theme(axis.text.x = element_text(angle = 90, hjust = 1))+\n",
    "        ggtitle(\"Inflation Adjusted Average Petrol Price (base is 2006 Q2)\")+\n",
    "        xlab(\"Quarter\")+ylab(\"Petrol Price (cents per litre)\")\n",
    "\n",
    "ggsave(\"petrol_price_inflation_adjusted.png\")"
   ]
  },
  {
   "cell_type": "code",
   "execution_count": 13,
   "metadata": {},
   "outputs": [
    {
     "data": {},
     "metadata": {},
     "output_type": "display_data"
    },
    {
     "name": "stderr",
     "output_type": "stream",
     "text": [
      "Saving 6.67 x 6.67 in image\n"
     ]
    },
    {
     "data": {
      "image/png": "[encoded data removed]",
      "text/plain": [
       "plot without title"
      ]
     },
     "metadata": {},
     "output_type": "display_data"
    }
   ],
   "source": [
    "fuel_inflation %>%\n",
    "    ggplot( aes(x = Quarter, y = Average_barrel_price_USD, group = 1) )+geom_line() + geom_point() + theme(axis.text.x = element_text(angle = 90, hjust = 1))+\n",
    "    ggtitle(\" Average Barrel Price by Quarter\")+\n",
    "    xlab(\"Quarter\")+ylab (\"Barrel Price (USD)\")\n",
    "\n",
    "ggsave(\"barrel_price.png\")"
   ]
  },
  {
   "cell_type": "code",
   "execution_count": 15,
   "metadata": {},
   "outputs": [
    {
     "data": {},
     "metadata": {},
     "output_type": "display_data"
    },
    {
     "name": "stderr",
     "output_type": "stream",
     "text": [
      "Saving 6.67 x 6.67 in image\n"
     ]
    },
    {
     "data": {
      "image/png": "[encoded data removed]",
      "text/plain": [
       "plot without title"
      ]
     },
     "metadata": {},
     "output_type": "display_data"
    }
   ],
   "source": [
    "#Plot the inflation adjusted price data\n",
    "fuel_inflation%>%\n",
    "      ggplot( aes(x = Quarter, y = Inflation_adjusted_barrel, group = 1) )+geom_point() + geom_line() + theme(axis.text.x = element_text(angle = 90, hjust = 1))+\n",
    "        ggtitle(\"Inflation Adjusted Average Barrel Price (base is 2006 Q2)\")+\n",
    "        xlab(\"Quarter\")+ylab(\"Barrel Price (USD)\")\n",
    "\n",
    "ggsave(\"barrel_price_inflation_adjusted.png\")"
   ]
  },
  {
   "cell_type": "code",
   "execution_count": 16,
   "metadata": {},
   "outputs": [
    {
     "data": {},
     "metadata": {},
     "output_type": "display_data"
    },
    {
     "name": "stderr",
     "output_type": "stream",
     "text": [
      "Saving 6.67 x 6.67 in image\n"
     ]
    },
    {
     "data": {
      "image/png": "[encoded data removed]",
      "text/plain": [
       "plot without title"
      ]
     },
     "metadata": {},
     "output_type": "display_data"
    }
   ],
   "source": [
    "fuel_inflation%>%\n",
    "      ggplot( aes(x = Quarter, y = Inflation_adjusted_tax, group = 1) )+geom_point() + geom_line() + theme(axis.text.x = element_text(angle = 90, hjust = 1))+\n",
    "        ggtitle(\"Inflation Adjusted Fuel Tax(base is 2006 Q2)\")+\n",
    "        xlab(\"Quarter\")+ylab(\"Tax (Cents per litre)\")\n",
    "\n",
    "ggsave(\"inflation_adjusted_tax.png\")"
   ]
  },
  {
   "cell_type": "code",
   "execution_count": 17,
   "metadata": {},
   "outputs": [
    {
     "data": {},
     "metadata": {},
     "output_type": "display_data"
    },
    {
     "name": "stderr",
     "output_type": "stream",
     "text": [
      "Saving 6.67 x 6.67 in image\n"
     ]
    },
    {
     "data": {
      "image/png": "[encoded data removed]",
      "text/plain": [
       "plot without title"
      ]
     },
     "metadata": {},
     "output_type": "display_data"
    }
   ],
   "source": [
    "#A lot of the media coverage around fuel prices has been around petrol taxes\n",
    "#When we adjust for inflation and plot the fuel price and tax we can\n",
    "#see that volatility in petrol prices is not due to taxes, which\n",
    "#have remained flat, in real terms until they went up on October 1st this year.\n",
    "\n",
    "fuel_inflation%>%\n",
    "      ggplot( aes(x = Quarter) )+\n",
    "\n",
    "geom_line(aes(y = Inflation_adjusted_price, colour  = \"Petrol Price\", group = 1))+\n",
    "geom_line(aes(y = Inflation_adjusted_tax, colour = \"Tax\", group = 2) )+\n",
    "theme(axis.text.x = element_text(angle = 90, hjust = 1))+\n",
    "       ggtitle(\"Inflation Adjusted Price and Tax (base is 2006 Q2)\")+\n",
    "      xlab(\"Quarter\")+ylab(\"Cost (Cents per litre)\")\n",
    "\n",
    "ggsave(\"inflation_adjusted_tax_price_comparison.png\")"
   ]
  },
  {
   "cell_type": "code",
   "execution_count": 39,
   "metadata": {},
   "outputs": [],
   "source": []
  },
  {
   "cell_type": "code",
   "execution_count": 19,
   "metadata": {},
   "outputs": [],
   "source": [
    "#The barrel prices are in USD so need to convert to NZD using\n",
    "#the exchange rate at the time.\n",
    "exchange_rates_1999 <- read_excel(\"exchange_rates_mbie_1999_2013.xlsx\",sheet = 1, range = \"A5:C3778\")\n",
    "exchange_rates_2013 <- read_excel(\"exchange_rates_mbie_2013_present.xlsx\",sheet = 1, range = \"A5:C1211\")\n",
    "\n",
    "exchange_rate_raw = rbind(exchange_rates_1999, exchange_rates_2013)\n",
    "\n",
    "\n",
    "names(exchange_rate_raw) <- c(\"Date\", \"Column2\", \"NZD_USD_exchange_rate\")\n",
    "\n",
    "exchange_rate_raw %<>% select(\"Date\", \"NZD_USD_exchange_rate\")\n",
    "\n",
    "#Mutate the date to get quarterly data to join with the inflation table\n",
    "exchange_rate_raw%<>%\n",
    "    mutate(Week = ymd(Date)) %>%\n",
    "    mutate(Quarter = paste0(year(Week),\"Q\",quarter(Week))) %>%\n",
    "    group_by(Quarter) %>%\n",
    "    summarise(Average_NZD_USD_exchange_rate = mean(NZD_USD_exchange_rate, na.rm = TRUE)) %>%\n",
    "    select(Quarter,Average_NZD_USD_exchange_rate)\n",
    "#exchange_rate_raw\n"
   ]
  },
  {
   "cell_type": "code",
   "execution_count": 29,
   "metadata": {},
   "outputs": [
    {
     "data": {
      "text/html": [
       "<table>\n",
       "<thead><tr><th scope=col>Quarter</th><th scope=col>Average_petrol_price_cpl</th><th scope=col>Average_barrel_price_USD</th><th scope=col>Average_tax</th><th scope=col>Index_number</th><th scope=col>Inflation_adjusted_price</th><th scope=col>Inflation_adjusted_barrel</th><th scope=col>Inflation_adjusted_tax</th><th scope=col>Average_NZD_USD_exchange_rate</th><th scope=col>Average_barrel_price_NZD</th><th scope=col>Average_crude_price_cpl_NZD</th></tr></thead>\n",
       "<tbody>\n",
       "\t<tr><td>2006Q2   </td><td>167.7846 </td><td>64.77308 </td><td>67.03077 </td><td>815.6607 </td><td>167.7846 </td><td>64.77308 </td><td>67.03077 </td><td>0.6240852</td><td>103.78883</td><td>65.27599 </td></tr>\n",
       "\t<tr><td>2006Q3   </td><td>166.0615 </td><td>65.87077 </td><td>66.82308 </td><td>821.3703 </td><td>164.9072 </td><td>65.41288 </td><td>66.35857 </td><td>0.6347738</td><td>103.77045</td><td>65.26444 </td></tr>\n",
       "\t<tr><td>2006Q4   </td><td>140.9231 </td><td>57.23462 </td><td>64.01538 </td><td>819.7390 </td><td>140.2220 </td><td>56.94987 </td><td>63.69690 </td><td>0.6730371</td><td> 85.03932</td><td>53.48385 </td></tr>\n",
       "\t<tr><td>2007Q1   </td><td>142.3077 </td><td>55.47154 </td><td>64.18462 </td><td>823.8173 </td><td>140.8987 </td><td>54.92232 </td><td>63.54912 </td><td>0.6959129</td><td> 79.71046</td><td>50.13237 </td></tr>\n",
       "\t<tr><td>2007Q2   </td><td>153.8231 </td><td>64.67154 </td><td>66.09231 </td><td>831.9739 </td><td>150.8069 </td><td>63.40347 </td><td>64.79638 </td><td>0.7408443</td><td> 87.29438</td><td>54.90212 </td></tr>\n",
       "\t<tr><td>2007Q3   </td><td>156.6000 </td><td>70.02538 </td><td>67.91538 </td><td>836.0522 </td><td>152.7805 </td><td>68.31745 </td><td>66.25891 </td><td>0.7443938</td><td> 94.07034</td><td>59.16374 </td></tr>\n",
       "</tbody>\n",
       "</table>\n"
      ],
      "text/latex": [
       "\\begin{tabular}{r|lllllllllll}\n",
       " Quarter & Average\\_petrol\\_price\\_cpl & Average\\_barrel\\_price\\_USD & Average\\_tax & Index\\_number & Inflation\\_adjusted\\_price & Inflation\\_adjusted\\_barrel & Inflation\\_adjusted\\_tax & Average\\_NZD\\_USD\\_exchange\\_rate & Average\\_barrel\\_price\\_NZD & Average\\_crude\\_price\\_cpl\\_NZD\\\\\n",
       "\\hline\n",
       "\t 2006Q2    & 167.7846  & 64.77308  & 67.03077  & 815.6607  & 167.7846  & 64.77308  & 67.03077  & 0.6240852 & 103.78883 & 65.27599 \\\\\n",
       "\t 2006Q3    & 166.0615  & 65.87077  & 66.82308  & 821.3703  & 164.9072  & 65.41288  & 66.35857  & 0.6347738 & 103.77045 & 65.26444 \\\\\n",
       "\t 2006Q4    & 140.9231  & 57.23462  & 64.01538  & 819.7390  & 140.2220  & 56.94987  & 63.69690  & 0.6730371 &  85.03932 & 53.48385 \\\\\n",
       "\t 2007Q1    & 142.3077  & 55.47154  & 64.18462  & 823.8173  & 140.8987  & 54.92232  & 63.54912  & 0.6959129 &  79.71046 & 50.13237 \\\\\n",
       "\t 2007Q2    & 153.8231  & 64.67154  & 66.09231  & 831.9739  & 150.8069  & 63.40347  & 64.79638  & 0.7408443 &  87.29438 & 54.90212 \\\\\n",
       "\t 2007Q3    & 156.6000  & 70.02538  & 67.91538  & 836.0522  & 152.7805  & 68.31745  & 66.25891  & 0.7443938 &  94.07034 & 59.16374 \\\\\n",
       "\\end{tabular}\n"
      ],
      "text/markdown": [
       "\n",
       "Quarter | Average_petrol_price_cpl | Average_barrel_price_USD | Average_tax | Index_number | Inflation_adjusted_price | Inflation_adjusted_barrel | Inflation_adjusted_tax | Average_NZD_USD_exchange_rate | Average_barrel_price_NZD | Average_crude_price_cpl_NZD | \n",
       "|---|---|---|---|---|---|\n",
       "| 2006Q2    | 167.7846  | 64.77308  | 67.03077  | 815.6607  | 167.7846  | 64.77308  | 67.03077  | 0.6240852 | 103.78883 | 65.27599  | \n",
       "| 2006Q3    | 166.0615  | 65.87077  | 66.82308  | 821.3703  | 164.9072  | 65.41288  | 66.35857  | 0.6347738 | 103.77045 | 65.26444  | \n",
       "| 2006Q4    | 140.9231  | 57.23462  | 64.01538  | 819.7390  | 140.2220  | 56.94987  | 63.69690  | 0.6730371 |  85.03932 | 53.48385  | \n",
       "| 2007Q1    | 142.3077  | 55.47154  | 64.18462  | 823.8173  | 140.8987  | 54.92232  | 63.54912  | 0.6959129 |  79.71046 | 50.13237  | \n",
       "| 2007Q2    | 153.8231  | 64.67154  | 66.09231  | 831.9739  | 150.8069  | 63.40347  | 64.79638  | 0.7408443 |  87.29438 | 54.90212  | \n",
       "| 2007Q3    | 156.6000  | 70.02538  | 67.91538  | 836.0522  | 152.7805  | 68.31745  | 66.25891  | 0.7443938 |  94.07034 | 59.16374  | \n",
       "\n",
       "\n"
      ],
      "text/plain": [
       "  Quarter Average_petrol_price_cpl Average_barrel_price_USD Average_tax\n",
       "1 2006Q2  167.7846                 64.77308                 67.03077   \n",
       "2 2006Q3  166.0615                 65.87077                 66.82308   \n",
       "3 2006Q4  140.9231                 57.23462                 64.01538   \n",
       "4 2007Q1  142.3077                 55.47154                 64.18462   \n",
       "5 2007Q2  153.8231                 64.67154                 66.09231   \n",
       "6 2007Q3  156.6000                 70.02538                 67.91538   \n",
       "  Index_number Inflation_adjusted_price Inflation_adjusted_barrel\n",
       "1 815.6607     167.7846                 64.77308                 \n",
       "2 821.3703     164.9072                 65.41288                 \n",
       "3 819.7390     140.2220                 56.94987                 \n",
       "4 823.8173     140.8987                 54.92232                 \n",
       "5 831.9739     150.8069                 63.40347                 \n",
       "6 836.0522     152.7805                 68.31745                 \n",
       "  Inflation_adjusted_tax Average_NZD_USD_exchange_rate Average_barrel_price_NZD\n",
       "1 67.03077               0.6240852                     103.78883               \n",
       "2 66.35857               0.6347738                     103.77045               \n",
       "3 63.69690               0.6730371                      85.03932               \n",
       "4 63.54912               0.6959129                      79.71046               \n",
       "5 64.79638               0.7408443                      87.29438               \n",
       "6 66.25891               0.7443938                      94.07034               \n",
       "  Average_crude_price_cpl_NZD\n",
       "1 65.27599                   \n",
       "2 65.26444                   \n",
       "3 53.48385                   \n",
       "4 50.13237                   \n",
       "5 54.90212                   \n",
       "6 59.16374                   "
      ]
     },
     "metadata": {},
     "output_type": "display_data"
    }
   ],
   "source": [
    "fuel_inflation <- inner_join(fuel_inflation,exchange_rate_raw, by = \"Quarter\")\n",
    "#head(fuel_inflation_test)\n",
    "\n",
    "fuel_inflation %<>% mutate(Average_barrel_price_NZD = Average_barrel_price_USD/Average_NZD_USD_exchange_rate)\n",
    "\n",
    "#1 barrel of oil is 159 Litres - convert the NZD price of crude oil to cents per litre so it can be compared to pump price and tax\n",
    "volume = 159 #litres per barrel\n",
    "\n",
    "fuel_inflation %<>% mutate(Average_crude_price_cpl_NZD = Average_barrel_price_NZD/volume*100)\n",
    "\n",
    "head(fuel_inflation)"
   ]
  },
  {
   "cell_type": "code",
   "execution_count": 30,
   "metadata": {},
   "outputs": [
    {
     "data": {},
     "metadata": {},
     "output_type": "display_data"
    },
    {
     "ename": "ERROR",
     "evalue": "Error: Unknown graphics device ''\n",
     "output_type": "error",
     "traceback": [
      "Error: Unknown graphics device ''\nTraceback:\n",
      "1. ggsave(\"price_factor_breakdown\")",
      "2. plot_dev(device, filename, dpi = dpi)",
      "3. stop(\"Unknown graphics device '\", device, \"'\", call. = FALSE)"
     ]
    },
    {
     "data": {
      "image/png": "[encoded data removed]",
      "text/plain": [
       "plot without title"
      ]
     },
     "metadata": {},
     "output_type": "display_data"
    }
   ],
   "source": [
    "fuel_inflation%>%\n",
    "      ggplot( aes(x = Quarter) )+\n",
    "\n",
    "geom_line(aes(y = Inflation_adjusted_price, colour  = \"Petrol Price\", group = 1))+\n",
    "geom_line(aes(y = Inflation_adjusted_tax, colour = \"Tax\", group = 2) )+\n",
    "geom_line(aes(y = Average_crude_price_cpl_NZD, colour = \"Crude Price\", group = 3) )+\n",
    "theme(axis.text.x = element_text(angle = 90, hjust = 1))+\n",
    "       ggtitle(\"Inflation Adjusted Price and Tax (base is 2006 Q2)\")+\n",
    "      xlab(\"Quarter\")+ylab(\"Cost (Cents per litre)\")\n",
    "\n",
    "ggsave(\"price_factor_breakdown\")"
   ]
  },
  {
   "cell_type": "code",
   "execution_count": 31,
   "metadata": {},
   "outputs": [],
   "source": [
    "#Save the dataset as a CSV\n",
    "write_csv(fuel_inflation, \"Quarterly_fuel_price_real_and_nominal.csv\")"
   ]
  },
  {
   "cell_type": "code",
   "execution_count": null,
   "metadata": {},
   "outputs": [],
   "source": []
  }
 ],
 "metadata": {
  "kernelspec": {
   "display_name": "R",
   "language": "R",
   "name": "ir"
  },
  "language_info": {
   "codemirror_mode": "r",
   "file_extension": ".r",
   "mimetype": "text/x-r-source",
   "name": "R",
   "pygments_lexer": "r",
   "version": "3.5.1"
  }
 },
 "nbformat": 4,
 "nbformat_minor": 2
}
