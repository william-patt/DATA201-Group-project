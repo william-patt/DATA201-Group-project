{
 "cells": [
  {
   "cell_type": "code",
   "execution_count": 1,
   "metadata": {},
   "outputs": [
    {
     "name": "stderr",
     "output_type": "stream",
     "text": [
      "-- Attaching packages --------------------------------------- tidyverse 1.2.1 --\n",
      "v ggplot2 2.2.1     v purrr   0.2.4\n",
      "v tibble  1.4.2     v dplyr   0.7.4\n",
      "v tidyr   0.8.0     v stringr 1.3.0\n",
      "v readr   1.1.1     v forcats 0.3.0\n",
      "-- Conflicts ------------------------------------------ tidyverse_conflicts() --\n",
      "x dplyr::filter() masks stats::filter()\n",
      "x dplyr::lag()    masks stats::lag()\n",
      "\n",
      "Attaching package: 'magrittr'\n",
      "\n",
      "The following object is masked from 'package:purrr':\n",
      "\n",
      "    set_names\n",
      "\n",
      "The following object is masked from 'package:tidyr':\n",
      "\n",
      "    extract\n",
      "\n",
      "\n",
      "Attaching package: 'lubridate'\n",
      "\n",
      "The following object is masked from 'package:base':\n",
      "\n",
      "    date\n",
      "\n"
     ]
    }
   ],
   "source": [
    "library(tidyverse)\n",
    "library(readxl)\n",
    "library(magrittr)\n",
    "library(lubridate)"
   ]
  },
  {
   "cell_type": "code",
   "execution_count": 2,
   "metadata": {},
   "outputs": [
    {
     "name": "stderr",
     "output_type": "stream",
     "text": [
      "Parsed with column specification:\n",
      "cols(\n",
      "  Level = col_character(),\n",
      "  `Series ref: CPIQ` = col_character(),\n",
      "  Description = col_character(),\n",
      "  Quarter = col_character(),\n",
      "  Weight = col_double(),\n",
      "  `Index number` = col_double()\n",
      ")\n"
     ]
    },
    {
     "name": "stdout",
     "output_type": "stream",
     "text": [
      "Observations: 8,198\n",
      "Variables: 6\n",
      "$ Level              <chr> \"All groups\", \"Group\", \"Group\", \"Group\", \"Group\"...\n",
      "$ `Series ref: CPIQ` <chr> \"SE9A\", \"SE901\", \"SE902\", \"SE903\", \"SE904\", \"SE9...\n",
      "$ Description        <chr> \"All groups CPI\", \"Food\", \"Alcoholic beverages a...\n",
      "$ Quarter            <chr> \"2006Q2\", \"2006Q2\", \"2006Q2\", \"2006Q2\", \"2006Q2\"...\n",
      "$ Weight             <dbl> 100.00, 17.39, 7.20, 4.75, 20.02, 5.49, 5.23, 17...\n",
      "$ `Index number`     <dbl> 815.6607, 759.8784, 628.5355, 1002.0040, 694.444...\n"
     ]
    }
   ],
   "source": [
    "#import cpi data\n",
    "cpi_raw <- read_csv(\"cpi_raw_data.csv\")\n",
    "glimpse(cpi_raw)\n",
    "#rename the index number column\n",
    "colnames(cpi_raw)[6] = \"Index_number\"#"
   ]
  },
  {
   "cell_type": "code",
   "execution_count": 3,
   "metadata": {},
   "outputs": [
    {
     "data": {
      "text/html": [
       "<table>\n",
       "<thead><tr><th scope=col>Quarter</th><th scope=col>Index_number</th></tr></thead>\n",
       "<tbody>\n",
       "\t<tr><td>2017Q2  </td><td>1000.000</td></tr>\n",
       "\t<tr><td>2017Q3  </td><td>1004.894</td></tr>\n",
       "\t<tr><td>2017Q4  </td><td>1006.000</td></tr>\n",
       "\t<tr><td>2018Q1  </td><td>1011.000</td></tr>\n",
       "\t<tr><td>2018Q2  </td><td>1015.000</td></tr>\n",
       "\t<tr><td>2018Q3  </td><td>1024.000</td></tr>\n",
       "</tbody>\n",
       "</table>\n"
      ],
      "text/latex": [
       "\\begin{tabular}{r|ll}\n",
       " Quarter & Index\\_number\\\\\n",
       "\\hline\n",
       "\t 2017Q2   & 1000.000\\\\\n",
       "\t 2017Q3   & 1004.894\\\\\n",
       "\t 2017Q4   & 1006.000\\\\\n",
       "\t 2018Q1   & 1011.000\\\\\n",
       "\t 2018Q2   & 1015.000\\\\\n",
       "\t 2018Q3   & 1024.000\\\\\n",
       "\\end{tabular}\n"
      ],
      "text/markdown": [
       "\n",
       "Quarter | Index_number | \n",
       "|---|---|---|---|---|---|\n",
       "| 2017Q2   | 1000.000 | \n",
       "| 2017Q3   | 1004.894 | \n",
       "| 2017Q4   | 1006.000 | \n",
       "| 2018Q1   | 1011.000 | \n",
       "| 2018Q2   | 1015.000 | \n",
       "| 2018Q3   | 1024.000 | \n",
       "\n",
       "\n"
      ],
      "text/plain": [
       "  Quarter Index_number\n",
       "1 2017Q2  1000.000    \n",
       "2 2017Q3  1004.894    \n",
       "3 2017Q4  1006.000    \n",
       "4 2018Q1  1011.000    \n",
       "5 2018Q2  1015.000    \n",
       "6 2018Q3  1024.000    "
      ]
     },
     "metadata": {},
     "output_type": "display_data"
    }
   ],
   "source": [
    "# The CPI data has an entire breakdown of the CPI for all quarters\n",
    "#We only want the rows that are tagged with \"all groups\" so need to filter those rows\n",
    "#and select the columns with quarter and index values\n",
    "\n",
    "cpi_raw %<>%\n",
    "        select(Level,Quarter,Index_number) %>%\n",
    "        filter(Level == \"All groups\") %>%\n",
    "        select(-Level)\n",
    "tail(cpi_raw)"
   ]
  },
  {
   "cell_type": "code",
   "execution_count": 4,
   "metadata": {},
   "outputs": [
    {
     "name": "stderr",
     "output_type": "stream",
     "text": [
      "Parsed with column specification:\n",
      "cols(\n",
      "  .default = col_double(),\n",
      "  Week_ending_Friday = col_character(),\n",
      "  Week_number = col_character(),\n",
      "  Status = col_character()\n",
      ")\n",
      "See spec(...) for full column specifications.\n"
     ]
    }
   ],
   "source": [
    "#import fuel price data\n",
    "fuel_price_raw <- read_csv(\"fuel_price_raw.csv\")"
   ]
  },
  {
   "cell_type": "code",
   "execution_count": 5,
   "metadata": {},
   "outputs": [
    {
     "data": {
      "text/html": [
       "<table>\n",
       "<thead><tr><th scope=col>Week_ending_Friday</th><th scope=col>Week_number</th><th scope=col>Status</th><th scope=col>Dubai_crude_USD.p.bbl</th><th scope=col>NZ_US_exrate</th><th scope=col>Dubai_crude_NZD.p.bbl</th><th scope=col>Diesel_importer_cost_NZc.p.l</th><th scope=col>Diesel_ETS_NZc.p.l</th><th scope=col>Diesel_GST_NZc.p.l</th><th scope=col>Diesel_taxes_NZc.p.l</th><th scope=col>...</th><th scope=col>Petrol_importer_cost_NZc.p.l</th><th scope=col>Petrol_ETS_NZc.p.l</th><th scope=col>Petrol_GST_NZc.p.l</th><th scope=col>Petrol_taxes_NZc.p.l</th><th scope=col>Petrol_price_excl_taxes_NZc.p.l</th><th scope=col>Petrol_main_port_price_NZc.p.l</th><th scope=col>Petrol_discounted_retail_price_NZc.p.l</th><th scope=col>Petrol_importer_margin_NZc.p.l</th><th scope=col>Petrol_margin_trend_NZc.p.l</th><th scope=col>Diesel_main_port_price_excl_taxes_NZc.p.l</th></tr></thead>\n",
       "<tbody>\n",
       "\t<tr><td>31/08/2018 </td><td>2018w35    </td><td>Provisional</td><td>75.44      </td><td>0.66816    </td><td>112.9071   </td><td> 91.21200  </td><td>5.34       </td><td>20.42703   </td><td>21.05703   </td><td>...        </td><td>87.65434   </td><td>4.62       </td><td>28.48584   </td><td> 94.96984  </td><td>118.8016   </td><td>232.9000   </td><td>218.3914   </td><td>31.14723   </td><td>29.69536   </td><td>144.6263   </td></tr>\n",
       "\t<tr><td>7/09/2018  </td><td>2018w36    </td><td>Provisional</td><td>75.42      </td><td>0.65854    </td><td>114.5261   </td><td> 93.95743  </td><td>5.34       </td><td>20.72517   </td><td>21.35517   </td><td>...        </td><td>90.05543   </td><td>4.62       </td><td>28.70944   </td><td> 95.19344  </td><td>120.2923   </td><td>234.6143   </td><td>220.1057   </td><td>30.23682   </td><td>29.71737   </td><td>146.6139   </td></tr>\n",
       "\t<tr><td>14/09/2018 </td><td>2018w37    </td><td>Provisional</td><td>76.45      </td><td>0.65374    </td><td>116.9425   </td><td> 94.38145  </td><td>5.34       </td><td>21.06057   </td><td>21.69057   </td><td>...        </td><td>91.28716   </td><td>4.62       </td><td>29.15664   </td><td> 95.64064  </td><td>123.2736   </td><td>238.0429   </td><td>223.5343   </td><td>31.98646   </td><td>29.73938   </td><td>148.8499   </td></tr>\n",
       "\t<tr><td>21/09/2018 </td><td>2018w38    </td><td>Provisional</td><td>76.76      </td><td>0.66056    </td><td>116.2044   </td><td> 93.59333  </td><td>5.34       </td><td>21.17237   </td><td>21.80237   </td><td>...        </td><td>91.13291   </td><td>4.62       </td><td>29.26844   </td><td> 95.75244  </td><td>124.0190   </td><td>238.9000   </td><td>224.3914   </td><td>32.88605   </td><td>29.76139   </td><td>149.5952   </td></tr>\n",
       "\t<tr><td>28/09/2018 </td><td>2018w39    </td><td>Provisional</td><td>79.90      </td><td>0.66514    </td><td>120.1251   </td><td> 96.11001  </td><td>5.34       </td><td>21.43324   </td><td>22.06324   </td><td>...        </td><td>92.28721   </td><td>4.62       </td><td>29.52931   </td><td> 96.01331  </td><td>125.7581   </td><td>240.9000   </td><td>226.3914   </td><td>33.47089   </td><td>29.78342   </td><td>151.3343   </td></tr>\n",
       "\t<tr><td>5/10/2018  </td><td>2018w40    </td><td>Provisional</td><td>83.14      </td><td>0.65568    </td><td>126.7997   </td><td>101.23679  </td><td>5.34       </td><td>21.42840   </td><td>22.05840   </td><td>...        </td><td>95.72762   </td><td>4.62       </td><td>30.22344   </td><td>100.20744  </td><td>126.8856   </td><td>246.6143   </td><td>231.7131   </td><td>31.15799   </td><td>29.80545   </td><td>152.8250   </td></tr>\n",
       "</tbody>\n",
       "</table>\n"
      ],
      "text/latex": [
       "\\begin{tabular}{r|lllllllllllllllllllllllll}\n",
       " Week\\_ending\\_Friday & Week\\_number & Status & Dubai\\_crude\\_USD.p.bbl & NZ\\_US\\_exrate & Dubai\\_crude\\_NZD.p.bbl & Diesel\\_importer\\_cost\\_NZc.p.l & Diesel\\_ETS\\_NZc.p.l & Diesel\\_GST\\_NZc.p.l & Diesel\\_taxes\\_NZc.p.l & ... & Petrol\\_importer\\_cost\\_NZc.p.l & Petrol\\_ETS\\_NZc.p.l & Petrol\\_GST\\_NZc.p.l & Petrol\\_taxes\\_NZc.p.l & Petrol\\_price\\_excl\\_taxes\\_NZc.p.l & Petrol\\_main\\_port\\_price\\_NZc.p.l & Petrol\\_discounted\\_retail\\_price\\_NZc.p.l & Petrol\\_importer\\_margin\\_NZc.p.l & Petrol\\_margin\\_trend\\_NZc.p.l & Diesel\\_main\\_port\\_price\\_excl\\_taxes\\_NZc.p.l\\\\\n",
       "\\hline\n",
       "\t 31/08/2018  & 2018w35     & Provisional & 75.44       & 0.66816     & 112.9071    &  91.21200   & 5.34        & 20.42703    & 21.05703    & ...         & 87.65434    & 4.62        & 28.48584    &  94.96984   & 118.8016    & 232.9000    & 218.3914    & 31.14723    & 29.69536    & 144.6263   \\\\\n",
       "\t 7/09/2018   & 2018w36     & Provisional & 75.42       & 0.65854     & 114.5261    &  93.95743   & 5.34        & 20.72517    & 21.35517    & ...         & 90.05543    & 4.62        & 28.70944    &  95.19344   & 120.2923    & 234.6143    & 220.1057    & 30.23682    & 29.71737    & 146.6139   \\\\\n",
       "\t 14/09/2018  & 2018w37     & Provisional & 76.45       & 0.65374     & 116.9425    &  94.38145   & 5.34        & 21.06057    & 21.69057    & ...         & 91.28716    & 4.62        & 29.15664    &  95.64064   & 123.2736    & 238.0429    & 223.5343    & 31.98646    & 29.73938    & 148.8499   \\\\\n",
       "\t 21/09/2018  & 2018w38     & Provisional & 76.76       & 0.66056     & 116.2044    &  93.59333   & 5.34        & 21.17237    & 21.80237    & ...         & 91.13291    & 4.62        & 29.26844    &  95.75244   & 124.0190    & 238.9000    & 224.3914    & 32.88605    & 29.76139    & 149.5952   \\\\\n",
       "\t 28/09/2018  & 2018w39     & Provisional & 79.90       & 0.66514     & 120.1251    &  96.11001   & 5.34        & 21.43324    & 22.06324    & ...         & 92.28721    & 4.62        & 29.52931    &  96.01331   & 125.7581    & 240.9000    & 226.3914    & 33.47089    & 29.78342    & 151.3343   \\\\\n",
       "\t 5/10/2018   & 2018w40     & Provisional & 83.14       & 0.65568     & 126.7997    & 101.23679   & 5.34        & 21.42840    & 22.05840    & ...         & 95.72762    & 4.62        & 30.22344    & 100.20744   & 126.8856    & 246.6143    & 231.7131    & 31.15799    & 29.80545    & 152.8250   \\\\\n",
       "\\end{tabular}\n"
      ],
      "text/markdown": [
       "\n",
       "Week_ending_Friday | Week_number | Status | Dubai_crude_USD.p.bbl | NZ_US_exrate | Dubai_crude_NZD.p.bbl | Diesel_importer_cost_NZc.p.l | Diesel_ETS_NZc.p.l | Diesel_GST_NZc.p.l | Diesel_taxes_NZc.p.l | ... | Petrol_importer_cost_NZc.p.l | Petrol_ETS_NZc.p.l | Petrol_GST_NZc.p.l | Petrol_taxes_NZc.p.l | Petrol_price_excl_taxes_NZc.p.l | Petrol_main_port_price_NZc.p.l | Petrol_discounted_retail_price_NZc.p.l | Petrol_importer_margin_NZc.p.l | Petrol_margin_trend_NZc.p.l | Diesel_main_port_price_excl_taxes_NZc.p.l | \n",
       "|---|---|---|---|---|---|\n",
       "| 31/08/2018  | 2018w35     | Provisional | 75.44       | 0.66816     | 112.9071    |  91.21200   | 5.34        | 20.42703    | 21.05703    | ...         | 87.65434    | 4.62        | 28.48584    |  94.96984   | 118.8016    | 232.9000    | 218.3914    | 31.14723    | 29.69536    | 144.6263    | \n",
       "| 7/09/2018   | 2018w36     | Provisional | 75.42       | 0.65854     | 114.5261    |  93.95743   | 5.34        | 20.72517    | 21.35517    | ...         | 90.05543    | 4.62        | 28.70944    |  95.19344   | 120.2923    | 234.6143    | 220.1057    | 30.23682    | 29.71737    | 146.6139    | \n",
       "| 14/09/2018  | 2018w37     | Provisional | 76.45       | 0.65374     | 116.9425    |  94.38145   | 5.34        | 21.06057    | 21.69057    | ...         | 91.28716    | 4.62        | 29.15664    |  95.64064   | 123.2736    | 238.0429    | 223.5343    | 31.98646    | 29.73938    | 148.8499    | \n",
       "| 21/09/2018  | 2018w38     | Provisional | 76.76       | 0.66056     | 116.2044    |  93.59333   | 5.34        | 21.17237    | 21.80237    | ...         | 91.13291    | 4.62        | 29.26844    |  95.75244   | 124.0190    | 238.9000    | 224.3914    | 32.88605    | 29.76139    | 149.5952    | \n",
       "| 28/09/2018  | 2018w39     | Provisional | 79.90       | 0.66514     | 120.1251    |  96.11001   | 5.34        | 21.43324    | 22.06324    | ...         | 92.28721    | 4.62        | 29.52931    |  96.01331   | 125.7581    | 240.9000    | 226.3914    | 33.47089    | 29.78342    | 151.3343    | \n",
       "| 5/10/2018   | 2018w40     | Provisional | 83.14       | 0.65568     | 126.7997    | 101.23679   | 5.34        | 21.42840    | 22.05840    | ...         | 95.72762    | 4.62        | 30.22344    | 100.20744   | 126.8856    | 246.6143    | 231.7131    | 31.15799    | 29.80545    | 152.8250    | \n",
       "\n",
       "\n"
      ],
      "text/plain": [
       "  Week_ending_Friday Week_number Status      Dubai_crude_USD.p.bbl NZ_US_exrate\n",
       "1 31/08/2018         2018w35     Provisional 75.44                 0.66816     \n",
       "2 7/09/2018          2018w36     Provisional 75.42                 0.65854     \n",
       "3 14/09/2018         2018w37     Provisional 76.45                 0.65374     \n",
       "4 21/09/2018         2018w38     Provisional 76.76                 0.66056     \n",
       "5 28/09/2018         2018w39     Provisional 79.90                 0.66514     \n",
       "6 5/10/2018          2018w40     Provisional 83.14                 0.65568     \n",
       "  Dubai_crude_NZD.p.bbl Diesel_importer_cost_NZc.p.l Diesel_ETS_NZc.p.l\n",
       "1 112.9071               91.21200                    5.34              \n",
       "2 114.5261               93.95743                    5.34              \n",
       "3 116.9425               94.38145                    5.34              \n",
       "4 116.2044               93.59333                    5.34              \n",
       "5 120.1251               96.11001                    5.34              \n",
       "6 126.7997              101.23679                    5.34              \n",
       "  Diesel_GST_NZc.p.l Diesel_taxes_NZc.p.l ... Petrol_importer_cost_NZc.p.l\n",
       "1 20.42703           21.05703             ... 87.65434                    \n",
       "2 20.72517           21.35517             ... 90.05543                    \n",
       "3 21.06057           21.69057             ... 91.28716                    \n",
       "4 21.17237           21.80237             ... 91.13291                    \n",
       "5 21.43324           22.06324             ... 92.28721                    \n",
       "6 21.42840           22.05840             ... 95.72762                    \n",
       "  Petrol_ETS_NZc.p.l Petrol_GST_NZc.p.l Petrol_taxes_NZc.p.l\n",
       "1 4.62               28.48584            94.96984           \n",
       "2 4.62               28.70944            95.19344           \n",
       "3 4.62               29.15664            95.64064           \n",
       "4 4.62               29.26844            95.75244           \n",
       "5 4.62               29.52931            96.01331           \n",
       "6 4.62               30.22344           100.20744           \n",
       "  Petrol_price_excl_taxes_NZc.p.l Petrol_main_port_price_NZc.p.l\n",
       "1 118.8016                        232.9000                      \n",
       "2 120.2923                        234.6143                      \n",
       "3 123.2736                        238.0429                      \n",
       "4 124.0190                        238.9000                      \n",
       "5 125.7581                        240.9000                      \n",
       "6 126.8856                        246.6143                      \n",
       "  Petrol_discounted_retail_price_NZc.p.l Petrol_importer_margin_NZc.p.l\n",
       "1 218.3914                               31.14723                      \n",
       "2 220.1057                               30.23682                      \n",
       "3 223.5343                               31.98646                      \n",
       "4 224.3914                               32.88605                      \n",
       "5 226.3914                               33.47089                      \n",
       "6 231.7131                               31.15799                      \n",
       "  Petrol_margin_trend_NZc.p.l Diesel_main_port_price_excl_taxes_NZc.p.l\n",
       "1 29.69536                    144.6263                                 \n",
       "2 29.71737                    146.6139                                 \n",
       "3 29.73938                    148.8499                                 \n",
       "4 29.76139                    149.5952                                 \n",
       "5 29.78342                    151.3343                                 \n",
       "6 29.80545                    152.8250                                 "
      ]
     },
     "metadata": {},
     "output_type": "display_data"
    }
   ],
   "source": [
    "tail(fuel_price_raw)"
   ]
  },
  {
   "cell_type": "code",
   "execution_count": 6,
   "metadata": {},
   "outputs": [
    {
     "name": "stderr",
     "output_type": "stream",
     "text": [
      "Parsed with column specification:\n",
      "cols(\n",
      "  .default = col_double(),\n",
      "  Week_ending_Friday = col_character(),\n",
      "  Week_number = col_character(),\n",
      "  Status = col_character()\n",
      ")\n",
      "See spec(...) for full column specifications.\n"
     ]
    },
    {
     "data": {
      "text/html": [
       "<table>\n",
       "<thead><tr><th scope=col>Quarter</th><th scope=col>Petrol_price_cpl</th><th scope=col>Oil_price_bbl</th></tr></thead>\n",
       "<tbody>\n",
       "\t<tr><td>2004Q2</td><td>114.5 </td><td>32.10 </td></tr>\n",
       "\t<tr><td>2004Q2</td><td>113.0 </td><td>32.65 </td></tr>\n",
       "\t<tr><td>2004Q2</td><td>117.3 </td><td>33.38 </td></tr>\n",
       "\t<tr><td>2004Q2</td><td>121.9 </td><td>34.41 </td></tr>\n",
       "\t<tr><td>2004Q2</td><td>121.3 </td><td>35.77 </td></tr>\n",
       "\t<tr><td>2004Q2</td><td>123.9 </td><td>35.03 </td></tr>\n",
       "</tbody>\n",
       "</table>\n"
      ],
      "text/latex": [
       "\\begin{tabular}{r|lll}\n",
       " Quarter & Petrol\\_price\\_cpl & Oil\\_price\\_bbl\\\\\n",
       "\\hline\n",
       "\t 2004Q2 & 114.5  & 32.10 \\\\\n",
       "\t 2004Q2 & 113.0  & 32.65 \\\\\n",
       "\t 2004Q2 & 117.3  & 33.38 \\\\\n",
       "\t 2004Q2 & 121.9  & 34.41 \\\\\n",
       "\t 2004Q2 & 121.3  & 35.77 \\\\\n",
       "\t 2004Q2 & 123.9  & 35.03 \\\\\n",
       "\\end{tabular}\n"
      ],
      "text/markdown": [
       "\n",
       "Quarter | Petrol_price_cpl | Oil_price_bbl | \n",
       "|---|---|---|---|---|---|\n",
       "| 2004Q2 | 114.5  | 32.10  | \n",
       "| 2004Q2 | 113.0  | 32.65  | \n",
       "| 2004Q2 | 117.3  | 33.38  | \n",
       "| 2004Q2 | 121.9  | 34.41  | \n",
       "| 2004Q2 | 121.3  | 35.77  | \n",
       "| 2004Q2 | 123.9  | 35.03  | \n",
       "\n",
       "\n"
      ],
      "text/plain": [
       "  Quarter Petrol_price_cpl Oil_price_bbl\n",
       "1 2004Q2  114.5            32.10        \n",
       "2 2004Q2  113.0            32.65        \n",
       "3 2004Q2  117.3            33.38        \n",
       "4 2004Q2  121.9            34.41        \n",
       "5 2004Q2  121.3            35.77        \n",
       "6 2004Q2  123.9            35.03        "
      ]
     },
     "metadata": {},
     "output_type": "display_data"
    }
   ],
   "source": [
    "#import fuel price data\n",
    "fuel_price_raw <- read_csv(\"fuel_price_raw.csv\")\n",
    "\n",
    "#Select only the date and petrol price\n",
    "fuel_price_raw %<>%\n",
    "    select(Week_ending_Friday, Petrol_discounted_retail_price_NZc.p.l, Dubai_crude_USD.p.bbl )\n",
    "\n",
    "#The inflation data is reported by quarter so turn the date stamps\n",
    "# into quarterly labels that match the quarter labels in the index data\n",
    "colnames(fuel_price_raw)[2] = \"Petrol_price_cpl\"#\n",
    "colnames(fuel_price_raw)[3] = \"Oil_price_bbl\"\n",
    "fuel_price_raw %<>%\n",
    "    mutate(Week = dmy(Week_ending_Friday)) %>%\n",
    "    mutate(Quarter = paste0(year(Week),\"Q\",quarter(Week)))\n",
    "\n",
    "#Only want the price and the quarter for the price\n",
    "#since we are joining with the inflation data\n",
    "fuel_price <- fuel_price_raw %>%\n",
    "        select(Quarter,Petrol_price_cpl, Oil_price_bbl)\n",
    "\n",
    "head(fuel_price)"
   ]
  },
  {
   "cell_type": "code",
   "execution_count": 7,
   "metadata": {},
   "outputs": [
    {
     "data": {
      "text/html": [
       "<table>\n",
       "<thead><tr><th scope=col>Quarter</th><th scope=col>Petrol_price_cpl</th><th scope=col>Oil_price_bbl</th><th scope=col>Index_number</th></tr></thead>\n",
       "<tbody>\n",
       "\t<tr><td>2006Q2  </td><td>156.2   </td><td>61.13   </td><td>815.6607</td></tr>\n",
       "\t<tr><td>2006Q2  </td><td>159.3   </td><td>62.65   </td><td>815.6607</td></tr>\n",
       "\t<tr><td>2006Q2  </td><td>164.5   </td><td>65.75   </td><td>815.6607</td></tr>\n",
       "\t<tr><td>2006Q2  </td><td>168.8   </td><td>66.49   </td><td>815.6607</td></tr>\n",
       "\t<tr><td>2006Q2  </td><td>170.9   </td><td>66.81   </td><td>815.6607</td></tr>\n",
       "\t<tr><td>2006Q2  </td><td>170.9   </td><td>65.78   </td><td>815.6607</td></tr>\n",
       "</tbody>\n",
       "</table>\n"
      ],
      "text/latex": [
       "\\begin{tabular}{r|llll}\n",
       " Quarter & Petrol\\_price\\_cpl & Oil\\_price\\_bbl & Index\\_number\\\\\n",
       "\\hline\n",
       "\t 2006Q2   & 156.2    & 61.13    & 815.6607\\\\\n",
       "\t 2006Q2   & 159.3    & 62.65    & 815.6607\\\\\n",
       "\t 2006Q2   & 164.5    & 65.75    & 815.6607\\\\\n",
       "\t 2006Q2   & 168.8    & 66.49    & 815.6607\\\\\n",
       "\t 2006Q2   & 170.9    & 66.81    & 815.6607\\\\\n",
       "\t 2006Q2   & 170.9    & 65.78    & 815.6607\\\\\n",
       "\\end{tabular}\n"
      ],
      "text/markdown": [
       "\n",
       "Quarter | Petrol_price_cpl | Oil_price_bbl | Index_number | \n",
       "|---|---|---|---|---|---|\n",
       "| 2006Q2   | 156.2    | 61.13    | 815.6607 | \n",
       "| 2006Q2   | 159.3    | 62.65    | 815.6607 | \n",
       "| 2006Q2   | 164.5    | 65.75    | 815.6607 | \n",
       "| 2006Q2   | 168.8    | 66.49    | 815.6607 | \n",
       "| 2006Q2   | 170.9    | 66.81    | 815.6607 | \n",
       "| 2006Q2   | 170.9    | 65.78    | 815.6607 | \n",
       "\n",
       "\n"
      ],
      "text/plain": [
       "  Quarter Petrol_price_cpl Oil_price_bbl Index_number\n",
       "1 2006Q2  156.2            61.13         815.6607    \n",
       "2 2006Q2  159.3            62.65         815.6607    \n",
       "3 2006Q2  164.5            65.75         815.6607    \n",
       "4 2006Q2  168.8            66.49         815.6607    \n",
       "5 2006Q2  170.9            66.81         815.6607    \n",
       "6 2006Q2  170.9            65.78         815.6607    "
      ]
     },
     "metadata": {},
     "output_type": "display_data"
    }
   ],
   "source": [
    "#Join the price and cpi data (by Quarter)\n",
    "#only joins the tables where we have both the cpi and price\n",
    "#data for that quarter\n",
    "fuel_inflation <- inner_join(fuel_price,cpi_raw, by = \"Quarter\")\n",
    "\n",
    "fuel_inflation %>% head()"
   ]
  },
  {
   "cell_type": "code",
   "execution_count": 8,
   "metadata": {},
   "outputs": [
    {
     "data": {
      "text/html": [
       "<table>\n",
       "<thead><tr><th scope=col>Quarter</th><th scope=col>Petrol_price_cpl</th><th scope=col>Oil_price_bbl</th><th scope=col>Index_number</th></tr></thead>\n",
       "<tbody>\n",
       "\t<tr><td>2006Q2  </td><td>167.7846</td><td>64.77308</td><td>815.6607</td></tr>\n",
       "\t<tr><td>2006Q3  </td><td>166.0615</td><td>65.87077</td><td>821.3703</td></tr>\n",
       "\t<tr><td>2006Q4  </td><td>140.9231</td><td>57.23462</td><td>819.7390</td></tr>\n",
       "\t<tr><td>2007Q1  </td><td>142.3077</td><td>55.47154</td><td>823.8173</td></tr>\n",
       "\t<tr><td>2007Q2  </td><td>153.8231</td><td>64.67154</td><td>831.9739</td></tr>\n",
       "\t<tr><td>2007Q3  </td><td>156.6000</td><td>70.02538</td><td>836.0522</td></tr>\n",
       "</tbody>\n",
       "</table>\n"
      ],
      "text/latex": [
       "\\begin{tabular}{r|llll}\n",
       " Quarter & Petrol\\_price\\_cpl & Oil\\_price\\_bbl & Index\\_number\\\\\n",
       "\\hline\n",
       "\t 2006Q2   & 167.7846 & 64.77308 & 815.6607\\\\\n",
       "\t 2006Q3   & 166.0615 & 65.87077 & 821.3703\\\\\n",
       "\t 2006Q4   & 140.9231 & 57.23462 & 819.7390\\\\\n",
       "\t 2007Q1   & 142.3077 & 55.47154 & 823.8173\\\\\n",
       "\t 2007Q2   & 153.8231 & 64.67154 & 831.9739\\\\\n",
       "\t 2007Q3   & 156.6000 & 70.02538 & 836.0522\\\\\n",
       "\\end{tabular}\n"
      ],
      "text/markdown": [
       "\n",
       "Quarter | Petrol_price_cpl | Oil_price_bbl | Index_number | \n",
       "|---|---|---|---|---|---|\n",
       "| 2006Q2   | 167.7846 | 64.77308 | 815.6607 | \n",
       "| 2006Q3   | 166.0615 | 65.87077 | 821.3703 | \n",
       "| 2006Q4   | 140.9231 | 57.23462 | 819.7390 | \n",
       "| 2007Q1   | 142.3077 | 55.47154 | 823.8173 | \n",
       "| 2007Q2   | 153.8231 | 64.67154 | 831.9739 | \n",
       "| 2007Q3   | 156.6000 | 70.02538 | 836.0522 | \n",
       "\n",
       "\n"
      ],
      "text/plain": [
       "  Quarter Petrol_price_cpl Oil_price_bbl Index_number\n",
       "1 2006Q2  167.7846         64.77308      815.6607    \n",
       "2 2006Q3  166.0615         65.87077      821.3703    \n",
       "3 2006Q4  140.9231         57.23462      819.7390    \n",
       "4 2007Q1  142.3077         55.47154      823.8173    \n",
       "5 2007Q2  153.8231         64.67154      831.9739    \n",
       "6 2007Q3  156.6000         70.02538      836.0522    "
      ]
     },
     "metadata": {},
     "output_type": "display_data"
    }
   ],
   "source": [
    "#There are approximately 12 weeks in every quarter\n",
    "#so take the average of these prices for each quarter to smooth the data\n",
    "#We couldn't get group_by to work for some reason so \n",
    "#used aggregate\n",
    "avg_fuel_inflation <- aggregate(fuel_inflation[, 2:4], list(fuel_inflation$Quarter), mean)\n",
    "colnames(avg_fuel_inflation)[1] = \"Quarter\"\n",
    "head(avg_fuel_inflation)"
   ]
  },
  {
   "cell_type": "code",
   "execution_count": 11,
   "metadata": {},
   "outputs": [
    {
     "data": {},
     "metadata": {},
     "output_type": "display_data"
    },
    {
     "data": {
      "image/png": "[encoded data removed]",
      "text/plain": [
       "plot without title"
      ]
     },
     "metadata": {},
     "output_type": "display_data"
    }
   ],
   "source": [
    "#Plot fuel price over time\n",
    "#Note since the quarterly figures are averaged from weekly data and \n",
    "#we don't have the inflation figures for quarter 4 yet so this graph doesn't\n",
    "#include the new fuel taxes from the 1st October 2018\n",
    "avg_fuel_inflation %>%\n",
    "    ggplot( aes(x = Quarter, y = Petrol_price_cpl, group = 1) )+geom_line() + geom_point() + theme(axis.text.x = element_text(angle = 90, hjust = 1))+\n",
    "    ggtitle(\" Average Petrol Price by Quarter\")+\n",
    "    \n",
    "xlab(\"Quarter\")+ylab (\"Petrol Price (cents per litre)\")"
   ]
  },
  {
   "cell_type": "code",
   "execution_count": 17,
   "metadata": {},
   "outputs": [
    {
     "data": {
      "text/html": [
       "815.6606852"
      ],
      "text/latex": [
       "815.6606852"
      ],
      "text/markdown": [
       "815.6606852"
      ],
      "text/plain": [
       "[1] 815.6607"
      ]
     },
     "metadata": {},
     "output_type": "display_data"
    },
    {
     "data": {
      "text/html": [
       "<table>\n",
       "<thead><tr><th scope=col>Quarter</th><th scope=col>Petrol_price_cpl</th><th scope=col>Oil_price_bbl</th><th scope=col>Index_number</th><th scope=col>Inflation_adjusted_price</th><th scope=col>Inflation_adjusted_barrel</th></tr></thead>\n",
       "<tbody>\n",
       "\t<tr><td>2006Q2  </td><td>167.7846</td><td>64.77308</td><td>815.6607</td><td>167.7846</td><td>64.77308</td></tr>\n",
       "\t<tr><td>2006Q3  </td><td>166.0615</td><td>65.87077</td><td>821.3703</td><td>164.9072</td><td>65.41288</td></tr>\n",
       "\t<tr><td>2006Q4  </td><td>140.9231</td><td>57.23462</td><td>819.7390</td><td>140.2220</td><td>56.94987</td></tr>\n",
       "\t<tr><td>2007Q1  </td><td>142.3077</td><td>55.47154</td><td>823.8173</td><td>140.8987</td><td>54.92232</td></tr>\n",
       "\t<tr><td>2007Q2  </td><td>153.8231</td><td>64.67154</td><td>831.9739</td><td>150.8069</td><td>63.40347</td></tr>\n",
       "\t<tr><td>2007Q3  </td><td>156.6000</td><td>70.02538</td><td>836.0522</td><td>152.7805</td><td>68.31745</td></tr>\n",
       "</tbody>\n",
       "</table>\n"
      ],
      "text/latex": [
       "\\begin{tabular}{r|llllll}\n",
       " Quarter & Petrol\\_price\\_cpl & Oil\\_price\\_bbl & Index\\_number & Inflation\\_adjusted\\_price & Inflation\\_adjusted\\_barrel\\\\\n",
       "\\hline\n",
       "\t 2006Q2   & 167.7846 & 64.77308 & 815.6607 & 167.7846 & 64.77308\\\\\n",
       "\t 2006Q3   & 166.0615 & 65.87077 & 821.3703 & 164.9072 & 65.41288\\\\\n",
       "\t 2006Q4   & 140.9231 & 57.23462 & 819.7390 & 140.2220 & 56.94987\\\\\n",
       "\t 2007Q1   & 142.3077 & 55.47154 & 823.8173 & 140.8987 & 54.92232\\\\\n",
       "\t 2007Q2   & 153.8231 & 64.67154 & 831.9739 & 150.8069 & 63.40347\\\\\n",
       "\t 2007Q3   & 156.6000 & 70.02538 & 836.0522 & 152.7805 & 68.31745\\\\\n",
       "\\end{tabular}\n"
      ],
      "text/markdown": [
       "\n",
       "Quarter | Petrol_price_cpl | Oil_price_bbl | Index_number | Inflation_adjusted_price | Inflation_adjusted_barrel | \n",
       "|---|---|---|---|---|---|\n",
       "| 2006Q2   | 167.7846 | 64.77308 | 815.6607 | 167.7846 | 64.77308 | \n",
       "| 2006Q3   | 166.0615 | 65.87077 | 821.3703 | 164.9072 | 65.41288 | \n",
       "| 2006Q4   | 140.9231 | 57.23462 | 819.7390 | 140.2220 | 56.94987 | \n",
       "| 2007Q1   | 142.3077 | 55.47154 | 823.8173 | 140.8987 | 54.92232 | \n",
       "| 2007Q2   | 153.8231 | 64.67154 | 831.9739 | 150.8069 | 63.40347 | \n",
       "| 2007Q3   | 156.6000 | 70.02538 | 836.0522 | 152.7805 | 68.31745 | \n",
       "\n",
       "\n"
      ],
      "text/plain": [
       "  Quarter Petrol_price_cpl Oil_price_bbl Index_number Inflation_adjusted_price\n",
       "1 2006Q2  167.7846         64.77308      815.6607     167.7846                \n",
       "2 2006Q3  166.0615         65.87077      821.3703     164.9072                \n",
       "3 2006Q4  140.9231         57.23462      819.7390     140.2220                \n",
       "4 2007Q1  142.3077         55.47154      823.8173     140.8987                \n",
       "5 2007Q2  153.8231         64.67154      831.9739     150.8069                \n",
       "6 2007Q3  156.6000         70.02538      836.0522     152.7805                \n",
       "  Inflation_adjusted_barrel\n",
       "1 64.77308                 \n",
       "2 65.41288                 \n",
       "3 56.94987                 \n",
       "4 54.92232                 \n",
       "5 63.40347                 \n",
       "6 68.31745                 "
      ]
     },
     "metadata": {},
     "output_type": "display_data"
    },
    {
     "data": {},
     "metadata": {},
     "output_type": "display_data"
    },
    {
     "data": {
      "image/png": "[encoded data removed]",
      "text/plain": [
       "plot without title"
      ]
     },
     "metadata": {},
     "output_type": "display_data"
    }
   ],
   "source": [
    "#Want to adjust the fuel price for inflation\n",
    "#so take the base level from 2006 Q2 - the first quarter in the table\n",
    "\n",
    "base_index = avg_fuel_inflation[[4]][1]\n",
    "base_index\n",
    "#add a column to the table for inflation adjusted price\n",
    "avg_fuel_inflation %<>% mutate(Inflation_adjusted_price = Petrol_price_cpl * base_index/ Index_number)\n",
    "avg_fuel_inflation %<>% mutate(Inflation_adjusted_barrel = Oil_price_bbl * base_index/ Index_number)\n",
    "avg_fuel_inflation %>% head()\n",
    "\n",
    "#Plot the inflation adjusted price data\n",
    "avg_fuel_inflation%>%\n",
    "      ggplot( aes(x = Quarter, y = Inflation_adjusted_price, group = 1) )+geom_point() + geom_line() + theme(axis.text.x = element_text(angle = 90, hjust = 1))+\n",
    "        ggtitle(\"Inflation Adjusted Average Petrol Price (base is 2006 Q2)\")+\n",
    "        xlab(\"Quarter\")+ylab(\"Petrol Price (cents per litre)\")"
   ]
  },
  {
   "cell_type": "code",
   "execution_count": 18,
   "metadata": {},
   "outputs": [
    {
     "data": {},
     "metadata": {},
     "output_type": "display_data"
    },
    {
     "data": {
      "image/png": "[encoded data removed]",
      "text/plain": [
       "plot without title"
      ]
     },
     "metadata": {},
     "output_type": "display_data"
    }
   ],
   "source": [
    "avg_fuel_inflation %>%\n",
    "    ggplot( aes(x = Quarter, y = Oil_price_bbl, group = 1) )+geom_line() + geom_point() + theme(axis.text.x = element_text(angle = 90, hjust = 1))+\n",
    "    ggtitle(\" Average Barrel Price by Quarter\")+\n",
    "    \n",
    "xlab(\"Quarter\")+ylab (\"Barrel Price (Dollar)\")"
   ]
  },
  {
   "cell_type": "code",
   "execution_count": 20,
   "metadata": {},
   "outputs": [
    {
     "data": {},
     "metadata": {},
     "output_type": "display_data"
    },
    {
     "data": {
      "image/png": "[encoded data removed]",
      "text/plain": [
       "plot without title"
      ]
     },
     "metadata": {},
     "output_type": "display_data"
    }
   ],
   "source": [
    "#Plot the inflation adjusted price data\n",
    "avg_fuel_inflation%>%\n",
    "      ggplot( aes(x = Quarter, y = Inflation_adjusted_barrel, group = 1) )+geom_point() + geom_line() + theme(axis.text.x = element_text(angle = 90, hjust = 1))+\n",
    "        ggtitle(\"Inflation Adjusted Average Barrel Price (base is 2006 Q2)\")+\n",
    "        xlab(\"Quarter\")+ylab(\"Barrel Price (dollars)\")"
   ]
  },
  {
   "cell_type": "code",
   "execution_count": 21,
   "metadata": {},
   "outputs": [
    {
     "data": {
      "text/html": [
       "<table>\n",
       "<thead><tr><th scope=col>Quarter</th><th scope=col>Petrol_price_cpl</th><th scope=col>Oil_price_bbl</th><th scope=col>Index_number</th><th scope=col>Inflation_adjusted_price</th><th scope=col>Inflation_adjusted_barrel</th></tr></thead>\n",
       "<tbody>\n",
       "\t<tr><td>2006Q2  </td><td>167.7846</td><td>64.77308</td><td>815.6607</td><td>167.7846</td><td>64.77308</td></tr>\n",
       "\t<tr><td>2006Q3  </td><td>166.0615</td><td>65.87077</td><td>821.3703</td><td>164.9072</td><td>65.41288</td></tr>\n",
       "\t<tr><td>2006Q4  </td><td>140.9231</td><td>57.23462</td><td>819.7390</td><td>140.2220</td><td>56.94987</td></tr>\n",
       "\t<tr><td>2007Q1  </td><td>142.3077</td><td>55.47154</td><td>823.8173</td><td>140.8987</td><td>54.92232</td></tr>\n",
       "\t<tr><td>2007Q2  </td><td>153.8231</td><td>64.67154</td><td>831.9739</td><td>150.8069</td><td>63.40347</td></tr>\n",
       "\t<tr><td>2007Q3  </td><td>156.6000</td><td>70.02538</td><td>836.0522</td><td>152.7805</td><td>68.31745</td></tr>\n",
       "</tbody>\n",
       "</table>\n"
      ],
      "text/latex": [
       "\\begin{tabular}{r|llllll}\n",
       " Quarter & Petrol\\_price\\_cpl & Oil\\_price\\_bbl & Index\\_number & Inflation\\_adjusted\\_price & Inflation\\_adjusted\\_barrel\\\\\n",
       "\\hline\n",
       "\t 2006Q2   & 167.7846 & 64.77308 & 815.6607 & 167.7846 & 64.77308\\\\\n",
       "\t 2006Q3   & 166.0615 & 65.87077 & 821.3703 & 164.9072 & 65.41288\\\\\n",
       "\t 2006Q4   & 140.9231 & 57.23462 & 819.7390 & 140.2220 & 56.94987\\\\\n",
       "\t 2007Q1   & 142.3077 & 55.47154 & 823.8173 & 140.8987 & 54.92232\\\\\n",
       "\t 2007Q2   & 153.8231 & 64.67154 & 831.9739 & 150.8069 & 63.40347\\\\\n",
       "\t 2007Q3   & 156.6000 & 70.02538 & 836.0522 & 152.7805 & 68.31745\\\\\n",
       "\\end{tabular}\n"
      ],
      "text/markdown": [
       "\n",
       "Quarter | Petrol_price_cpl | Oil_price_bbl | Index_number | Inflation_adjusted_price | Inflation_adjusted_barrel | \n",
       "|---|---|---|---|---|---|\n",
       "| 2006Q2   | 167.7846 | 64.77308 | 815.6607 | 167.7846 | 64.77308 | \n",
       "| 2006Q3   | 166.0615 | 65.87077 | 821.3703 | 164.9072 | 65.41288 | \n",
       "| 2006Q4   | 140.9231 | 57.23462 | 819.7390 | 140.2220 | 56.94987 | \n",
       "| 2007Q1   | 142.3077 | 55.47154 | 823.8173 | 140.8987 | 54.92232 | \n",
       "| 2007Q2   | 153.8231 | 64.67154 | 831.9739 | 150.8069 | 63.40347 | \n",
       "| 2007Q3   | 156.6000 | 70.02538 | 836.0522 | 152.7805 | 68.31745 | \n",
       "\n",
       "\n"
      ],
      "text/plain": [
       "  Quarter Petrol_price_cpl Oil_price_bbl Index_number Inflation_adjusted_price\n",
       "1 2006Q2  167.7846         64.77308      815.6607     167.7846                \n",
       "2 2006Q3  166.0615         65.87077      821.3703     164.9072                \n",
       "3 2006Q4  140.9231         57.23462      819.7390     140.2220                \n",
       "4 2007Q1  142.3077         55.47154      823.8173     140.8987                \n",
       "5 2007Q2  153.8231         64.67154      831.9739     150.8069                \n",
       "6 2007Q3  156.6000         70.02538      836.0522     152.7805                \n",
       "  Inflation_adjusted_barrel\n",
       "1 64.77308                 \n",
       "2 65.41288                 \n",
       "3 56.94987                 \n",
       "4 54.92232                 \n",
       "5 63.40347                 \n",
       "6 68.31745                 "
      ]
     },
     "metadata": {},
     "output_type": "display_data"
    }
   ],
   "source": [
    "head(avg_fuel_inflation)"
   ]
  },
  {
   "cell_type": "code",
   "execution_count": null,
   "metadata": {},
   "outputs": [],
   "source": []
  }
 ],
 "metadata": {
  "kernelspec": {
   "display_name": "R",
   "language": "R",
   "name": "ir"
  },
  "language_info": {
   "codemirror_mode": "r",
   "file_extension": ".r",
   "mimetype": "text/x-r-source",
   "name": "R",
   "pygments_lexer": "r",
   "version": "3.5.1"
  }
 },
 "nbformat": 4,
 "nbformat_minor": 2
}
